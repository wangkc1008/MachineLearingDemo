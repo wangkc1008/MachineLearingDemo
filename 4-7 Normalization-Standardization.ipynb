{
 "cells": [
  {
   "cell_type": "code",
   "execution_count": 2,
   "metadata": {},
   "outputs": [],
   "source": [
    "import numpy as np\n",
    "import matplotlib.pyplot as plt"
   ]
  },
  {
   "cell_type": "code",
   "execution_count": 3,
   "metadata": {},
   "outputs": [
    {
     "data": {
      "text/plain": [
       "array([13, 34, 81, 50,  8, 65, 65, 50, 15, 80, 44, 51, 92, 65, 11, 91, 72,\n",
       "       10, 84, 55, 32, 25, 19, 11, 87, 29, 99, 51, 83,  2, 94, 97, 40, 71,\n",
       "       39, 60, 97,  7, 24, 57, 48,  6, 57, 71, 37, 35, 10,  1, 91, 80, 69,\n",
       "       58, 60, 39, 23, 43, 37, 77, 99, 88, 18, 44, 83,  0, 56,  1, 47, 19,\n",
       "       53,  3, 38, 74, 24, 20, 38, 20, 52, 97, 19, 72, 21, 88, 84,  9, 65,\n",
       "       29, 61,  5, 93, 89,  3, 27,  7, 41, 92, 77, 75, 69, 70, 58])"
      ]
     },
     "execution_count": 3,
     "metadata": {},
     "output_type": "execute_result"
    }
   ],
   "source": [
    "x = np.random.randint(0, 100, size = 100)\n",
    "x"
   ]
  },
  {
   "cell_type": "code",
   "execution_count": 16,
   "metadata": {},
   "outputs": [
    {
     "data": {
      "text/plain": [
       "array([[  0.,  46.],\n",
       "       [ 19.,  55.],\n",
       "       [ 84.,  87.],\n",
       "       [ 79.,   9.],\n",
       "       [ 33.,  50.],\n",
       "       [ 32.,  80.],\n",
       "       [  9.,  74.],\n",
       "       [ 42.,  60.],\n",
       "       [ 28.,  62.],\n",
       "       [ 89.,  79.]])"
      ]
     },
     "execution_count": 16,
     "metadata": {},
     "output_type": "execute_result"
    }
   ],
   "source": [
    "X = np.random.randint(0, 100, size = (50, 2))\n",
    "X = np.array(X, dtype=float) #转换为float类型\n",
    "X[:10, :]"
   ]
  },
  {
   "cell_type": "markdown",
   "metadata": {},
   "source": [
    "### 最值归一化 normalization"
   ]
  },
  {
   "cell_type": "code",
   "execution_count": 5,
   "metadata": {},
   "outputs": [],
   "source": [
    "x_norm = (x - np.min(x)) / (np.max(x) - np.min(x))"
   ]
  },
  {
   "cell_type": "code",
   "execution_count": 6,
   "metadata": {},
   "outputs": [
    {
     "data": {
      "text/plain": [
       "array([ 0.13131313,  0.34343434,  0.81818182,  0.50505051,  0.08080808,\n",
       "        0.65656566,  0.65656566,  0.50505051,  0.15151515,  0.80808081,\n",
       "        0.44444444,  0.51515152,  0.92929293,  0.65656566,  0.11111111,\n",
       "        0.91919192,  0.72727273,  0.1010101 ,  0.84848485,  0.55555556,\n",
       "        0.32323232,  0.25252525,  0.19191919,  0.11111111,  0.87878788,\n",
       "        0.29292929,  1.        ,  0.51515152,  0.83838384,  0.02020202,\n",
       "        0.94949495,  0.97979798,  0.4040404 ,  0.71717172,  0.39393939,\n",
       "        0.60606061,  0.97979798,  0.07070707,  0.24242424,  0.57575758,\n",
       "        0.48484848,  0.06060606,  0.57575758,  0.71717172,  0.37373737,\n",
       "        0.35353535,  0.1010101 ,  0.01010101,  0.91919192,  0.80808081,\n",
       "        0.6969697 ,  0.58585859,  0.60606061,  0.39393939,  0.23232323,\n",
       "        0.43434343,  0.37373737,  0.77777778,  1.        ,  0.88888889,\n",
       "        0.18181818,  0.44444444,  0.83838384,  0.        ,  0.56565657,\n",
       "        0.01010101,  0.47474747,  0.19191919,  0.53535354,  0.03030303,\n",
       "        0.38383838,  0.74747475,  0.24242424,  0.2020202 ,  0.38383838,\n",
       "        0.2020202 ,  0.52525253,  0.97979798,  0.19191919,  0.72727273,\n",
       "        0.21212121,  0.88888889,  0.84848485,  0.09090909,  0.65656566,\n",
       "        0.29292929,  0.61616162,  0.05050505,  0.93939394,  0.8989899 ,\n",
       "        0.03030303,  0.27272727,  0.07070707,  0.41414141,  0.92929293,\n",
       "        0.77777778,  0.75757576,  0.6969697 ,  0.70707071,  0.58585859])"
      ]
     },
     "execution_count": 6,
     "metadata": {},
     "output_type": "execute_result"
    }
   ],
   "source": [
    "x_norm"
   ]
  },
  {
   "cell_type": "code",
   "execution_count": 17,
   "metadata": {},
   "outputs": [],
   "source": [
    "X[:, 0] = (X[:, 0] - np.min(X[:, 0])) / (np.max(X[:, 0]) - np.min(X[:, 0]))"
   ]
  },
  {
   "cell_type": "code",
   "execution_count": 18,
   "metadata": {},
   "outputs": [],
   "source": [
    "X[:, 1] = (X[:, 1] - np.min(X[:, 1])) / (np.max(X[:, 1]) - np.min(X[:, 1]))"
   ]
  },
  {
   "cell_type": "code",
   "execution_count": 19,
   "metadata": {},
   "outputs": [
    {
     "data": {
      "text/plain": [
       "array([[ 0.        ,  0.5       ],\n",
       "       [ 0.19191919,  0.6       ],\n",
       "       [ 0.84848485,  0.95555556],\n",
       "       [ 0.7979798 ,  0.08888889],\n",
       "       [ 0.33333333,  0.54444444],\n",
       "       [ 0.32323232,  0.87777778],\n",
       "       [ 0.09090909,  0.81111111],\n",
       "       [ 0.42424242,  0.65555556],\n",
       "       [ 0.28282828,  0.67777778],\n",
       "       [ 0.8989899 ,  0.86666667],\n",
       "       [ 0.57575758,  0.3       ],\n",
       "       [ 0.41414141,  0.48888889],\n",
       "       [ 0.24242424,  0.        ],\n",
       "       [ 0.51515152,  0.83333333],\n",
       "       [ 0.51515152,  0.31111111],\n",
       "       [ 0.21212121,  0.51111111],\n",
       "       [ 1.        ,  1.        ],\n",
       "       [ 0.54545455,  0.08888889],\n",
       "       [ 0.36363636,  0.54444444],\n",
       "       [ 0.23232323,  0.5       ],\n",
       "       [ 0.37373737,  0.67777778],\n",
       "       [ 0.4040404 ,  0.48888889],\n",
       "       [ 0.97979798,  0.36666667],\n",
       "       [ 0.35353535,  0.67777778],\n",
       "       [ 0.28282828,  0.25555556],\n",
       "       [ 0.87878788,  0.15555556],\n",
       "       [ 0.86868687,  0.2       ],\n",
       "       [ 0.63636364,  0.81111111],\n",
       "       [ 0.56565657,  0.13333333],\n",
       "       [ 0.06060606,  0.73333333],\n",
       "       [ 0.07070707,  0.04444444],\n",
       "       [ 0.96969697,  0.71111111],\n",
       "       [ 0.70707071,  0.65555556],\n",
       "       [ 0.35353535,  0.82222222],\n",
       "       [ 0.15151515,  0.57777778],\n",
       "       [ 0.33333333,  0.85555556],\n",
       "       [ 0.98989899,  0.53333333],\n",
       "       [ 0.12121212,  0.        ],\n",
       "       [ 0.56565657,  0.07777778],\n",
       "       [ 0.12121212,  0.5       ],\n",
       "       [ 0.75757576,  0.85555556],\n",
       "       [ 0.19191919,  0.91111111],\n",
       "       [ 0.36363636,  0.2       ],\n",
       "       [ 0.23232323,  0.2       ],\n",
       "       [ 0.87878788,  0.98888889],\n",
       "       [ 0.12121212,  0.03333333],\n",
       "       [ 0.43434343,  0.72222222],\n",
       "       [ 0.50505051,  0.41111111],\n",
       "       [ 0.16161616,  0.72222222],\n",
       "       [ 0.15151515,  0.67777778]])"
      ]
     },
     "execution_count": 19,
     "metadata": {},
     "output_type": "execute_result"
    }
   ],
   "source": [
    "X"
   ]
  },
  {
   "cell_type": "code",
   "execution_count": 20,
   "metadata": {},
   "outputs": [
    {
     "data": {
      "text/plain": [
       "0.44787878787878799"
      ]
     },
     "execution_count": 20,
     "metadata": {},
     "output_type": "execute_result"
    }
   ],
   "source": [
    "np.mean(X[:, 0])"
   ]
  },
  {
   "cell_type": "code",
   "execution_count": 21,
   "metadata": {},
   "outputs": [
    {
     "data": {
      "text/plain": [
       "0.28673072511260389"
      ]
     },
     "execution_count": 21,
     "metadata": {},
     "output_type": "execute_result"
    }
   ],
   "source": [
    "np.std(X[:, 0])"
   ]
  },
  {
   "cell_type": "markdown",
   "metadata": {},
   "source": [
    "### 均值均方差归一化 standardization"
   ]
  },
  {
   "cell_type": "code",
   "execution_count": 23,
   "metadata": {},
   "outputs": [
    {
     "data": {
      "text/plain": [
       "array([-1.21777117, -0.51327545,  1.06345306,  0.02348319, -1.38550825,\n",
       "        0.52669442,  0.52669442,  0.02348319, -1.15067634,  1.02990565,\n",
       "       -0.1778013 ,  0.05703061,  1.43247463,  0.52669442, -1.284866  ,\n",
       "        1.39892722,  0.76152633, -1.31841342,  1.16409531,  0.19122027,\n",
       "       -0.58037028, -0.81520219, -1.01648668, -1.284866  ,  1.26473755,\n",
       "       -0.68101253,  1.66730654,  0.05703061,  1.13054789, -1.58679274,\n",
       "        1.49956946,  1.60021171, -0.31199096,  0.72797891, -0.34553838,\n",
       "        0.35895734,  1.60021171, -1.41905566, -0.84874961,  0.2583151 ,\n",
       "       -0.04361164, -1.45260308,  0.2583151 ,  0.72797891, -0.41263321,\n",
       "       -0.47972804, -1.31841342, -1.62034016,  1.39892722,  1.02990565,\n",
       "        0.66088408,  0.29186251,  0.35895734, -0.34553838, -0.88229702,\n",
       "       -0.21134872, -0.41263321,  0.9292634 ,  1.66730654,  1.29828497,\n",
       "       -1.0500341 , -0.1778013 ,  1.13054789, -1.65388757,  0.22476768,\n",
       "       -1.62034016, -0.07715906, -1.01648668,  0.12412544, -1.55324533,\n",
       "       -0.37908579,  0.82862116, -0.84874961, -0.98293927, -0.37908579,\n",
       "       -0.98293927,  0.09057802,  1.60021171, -1.01648668,  0.76152633,\n",
       "       -0.94939185,  1.29828497,  1.16409531, -1.35196083,  0.52669442,\n",
       "       -0.68101253,  0.39250476, -1.4861505 ,  1.46602205,  1.33183239,\n",
       "       -1.55324533, -0.74810736, -1.41905566, -0.27844355,  1.43247463,\n",
       "        0.9292634 ,  0.86216857,  0.66088408,  0.6944315 ,  0.29186251])"
      ]
     },
     "execution_count": 23,
     "metadata": {},
     "output_type": "execute_result"
    }
   ],
   "source": [
    "x_stand = (x - np.mean(x)) / np.std(x)\n",
    "x_stand"
   ]
  },
  {
   "cell_type": "code",
   "execution_count": 25,
   "metadata": {},
   "outputs": [
    {
     "data": {
      "text/plain": [
       "1.2601031329495527e-16"
      ]
     },
     "execution_count": 25,
     "metadata": {},
     "output_type": "execute_result"
    }
   ],
   "source": [
    "np.mean(x_stand)"
   ]
  },
  {
   "cell_type": "code",
   "execution_count": 26,
   "metadata": {},
   "outputs": [
    {
     "data": {
      "text/plain": [
       "1.0"
      ]
     },
     "execution_count": 26,
     "metadata": {},
     "output_type": "execute_result"
    }
   ],
   "source": [
    "np.std(x_stand)"
   ]
  },
  {
   "cell_type": "code",
   "execution_count": 27,
   "metadata": {},
   "outputs": [
    {
     "data": {
      "text/plain": [
       "array([[ 44.,   4.],\n",
       "       [ 58.,  73.],\n",
       "       [ 64.,  98.],\n",
       "       [  9.,  32.],\n",
       "       [ 69.,   8.],\n",
       "       [ 32.,  95.],\n",
       "       [ 12.,  29.],\n",
       "       [ 94.,  96.],\n",
       "       [ 58.,  97.],\n",
       "       [ 48.,   5.]])"
      ]
     },
     "execution_count": 27,
     "metadata": {},
     "output_type": "execute_result"
    }
   ],
   "source": [
    "X = np.random.randint(0, 100, size=(50, 2))\n",
    "X = np.array(X, dtype=float)\n",
    "X[:10, :]"
   ]
  },
  {
   "cell_type": "code",
   "execution_count": 28,
   "metadata": {},
   "outputs": [],
   "source": [
    "X[:, 0] = (X[:, 0] - np.mean(X[:, 0])) / np.std(X[:, 0])"
   ]
  },
  {
   "cell_type": "code",
   "execution_count": 29,
   "metadata": {},
   "outputs": [],
   "source": [
    "X[:, 1] = (X[:, 1] - np.mean(X[:, 1])) / np.std(X[:, 1])"
   ]
  },
  {
   "cell_type": "code",
   "execution_count": 30,
   "metadata": {},
   "outputs": [
    {
     "data": {
      "text/plain": [
       "array([[-0.10385221, -1.35625555],\n",
       "       [ 0.35625251,  0.76577694],\n",
       "       [ 0.55344025,  1.53462929],\n",
       "       [-1.25411401, -0.49514091],\n",
       "       [ 0.71776336, -1.23323917],\n",
       "       [-0.49822768,  1.44236701],\n",
       "       [-1.15552014, -0.5874032 ],\n",
       "       [ 1.53937893,  1.4731211 ],\n",
       "       [ 0.35625251,  1.5038752 ],\n",
       "       [ 0.02760628, -1.32550145]])"
      ]
     },
     "execution_count": 30,
     "metadata": {},
     "output_type": "execute_result"
    }
   ],
   "source": [
    "X[:10, :]"
   ]
  },
  {
   "cell_type": "code",
   "execution_count": 31,
   "metadata": {},
   "outputs": [
    {
     "data": {
      "text/plain": [
       "1.0574874309554616e-16"
      ]
     },
     "execution_count": 31,
     "metadata": {},
     "output_type": "execute_result"
    }
   ],
   "source": [
    "np.mean(X[:, 0])"
   ]
  },
  {
   "cell_type": "code",
   "execution_count": 32,
   "metadata": {},
   "outputs": [
    {
     "data": {
      "text/plain": [
       "1.0"
      ]
     },
     "execution_count": 32,
     "metadata": {},
     "output_type": "execute_result"
    }
   ],
   "source": [
    "np.std(X[:, 0])"
   ]
  },
  {
   "cell_type": "code",
   "execution_count": 34,
   "metadata": {},
   "outputs": [
    {
     "data": {
      "image/png": "[encoded data removed]",
      "text/plain": [
       "<matplotlib.figure.Figure at 0x2dc21817d68>"
      ]
     },
     "metadata": {},
     "output_type": "display_data"
    }
   ],
   "source": [
    "plt.scatter(X[:, 0], X[:, 1])\n",
    "plt.show()"
   ]
  }
 ],
 "metadata": {
  "kernelspec": {
   "display_name": "Python3.6",
   "language": "python",
   "name": "py36"
  },
  "language_info": {
   "codemirror_mode": {
    "name": "ipython",
    "version": 3
   },
   "file_extension": ".py",
   "mimetype": "text/x-python",
   "name": "python",
   "nbconvert_exporter": "python",
   "pygments_lexer": "ipython3",
   "version": "3.6.2"
  }
 },
 "nbformat": 4,
 "nbformat_minor": 2
}

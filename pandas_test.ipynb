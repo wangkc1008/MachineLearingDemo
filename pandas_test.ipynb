{
 "cells": [
  {
   "cell_type": "code",
   "execution_count": 1,
   "metadata": {},
   "outputs": [],
   "source": [
    "import numpy as np\n",
    "import pandas as pd"
   ]
  },
  {
   "cell_type": "markdown",
   "metadata": {},
   "source": [
    "### Series"
   ]
  },
  {
   "cell_type": "code",
   "execution_count": 2,
   "metadata": {},
   "outputs": [
    {
     "data": {
      "text/plain": [
       "0    1\n",
       "1    2\n",
       "2    3\n",
       "3    4\n",
       "dtype: int64"
      ]
     },
     "execution_count": 2,
     "metadata": {},
     "output_type": "execute_result"
    }
   ],
   "source": [
    "pd.Series([1, 2, 3, 4])"
   ]
  },
  {
   "cell_type": "code",
   "execution_count": 3,
   "metadata": {},
   "outputs": [],
   "source": [
    "s1 = pd.Series([1, 2, 3, 4])"
   ]
  },
  {
   "cell_type": "code",
   "execution_count": 4,
   "metadata": {},
   "outputs": [
    {
     "data": {
      "text/plain": [
       "RangeIndex(start=0, stop=4, step=1)"
      ]
     },
     "execution_count": 4,
     "metadata": {},
     "output_type": "execute_result"
    }
   ],
   "source": [
    "s1.index"
   ]
  },
  {
   "cell_type": "code",
   "execution_count": 5,
   "metadata": {},
   "outputs": [
    {
     "data": {
      "text/plain": [
       "array([1, 2, 3, 4], dtype=int64)"
      ]
     },
     "execution_count": 5,
     "metadata": {},
     "output_type": "execute_result"
    }
   ],
   "source": [
    "s1.values"
   ]
  },
  {
   "cell_type": "code",
   "execution_count": 6,
   "metadata": {},
   "outputs": [
    {
     "data": {
      "text/plain": [
       "<bound method IndexOpsMixin.value_counts of 0    1\n",
       "1    2\n",
       "2    3\n",
       "3    4\n",
       "dtype: int64>"
      ]
     },
     "execution_count": 6,
     "metadata": {},
     "output_type": "execute_result"
    }
   ],
   "source": [
    "s1.value_counts"
   ]
  },
  {
   "cell_type": "code",
   "execution_count": 7,
   "metadata": {},
   "outputs": [
    {
     "data": {
      "text/plain": [
       "{0: 1, 1: 2, 2: 3, 3: 4}"
      ]
     },
     "execution_count": 7,
     "metadata": {},
     "output_type": "execute_result"
    }
   ],
   "source": [
    "s1.to_dict()"
   ]
  },
  {
   "cell_type": "code",
   "execution_count": 8,
   "metadata": {},
   "outputs": [
    {
     "data": {
      "text/plain": [
       "'{\"0\":1,\"1\":2,\"2\":3,\"3\":4}'"
      ]
     },
     "execution_count": 8,
     "metadata": {},
     "output_type": "execute_result"
    }
   ],
   "source": [
    "s1.to_json()"
   ]
  },
  {
   "cell_type": "code",
   "execution_count": 10,
   "metadata": {},
   "outputs": [],
   "source": [
    "s2 = pd.Series([1, 2, 3, 4], index=['a', 'b', 'c', 'd'])"
   ]
  },
  {
   "cell_type": "code",
   "execution_count": 11,
   "metadata": {},
   "outputs": [
    {
     "data": {
      "text/plain": [
       "a    1\n",
       "b    2\n",
       "c    3\n",
       "d    4\n",
       "dtype: int64"
      ]
     },
     "execution_count": 11,
     "metadata": {},
     "output_type": "execute_result"
    }
   ],
   "source": [
    "s2"
   ]
  },
  {
   "cell_type": "code",
   "execution_count": 12,
   "metadata": {},
   "outputs": [],
   "source": [
    "s2.name = 'series name'"
   ]
  },
  {
   "cell_type": "code",
   "execution_count": 13,
   "metadata": {},
   "outputs": [
    {
     "data": {
      "text/plain": [
       "a    1\n",
       "b    2\n",
       "c    3\n",
       "d    4\n",
       "Name: series name, dtype: int64"
      ]
     },
     "execution_count": 13,
     "metadata": {},
     "output_type": "execute_result"
    }
   ],
   "source": [
    "s2"
   ]
  },
  {
   "cell_type": "code",
   "execution_count": 14,
   "metadata": {},
   "outputs": [
    {
     "data": {
      "text/plain": [
       "Index(['a', 'b', 'c', 'd'], dtype='object')"
      ]
     },
     "execution_count": 14,
     "metadata": {},
     "output_type": "execute_result"
    }
   ],
   "source": [
    "s2.index"
   ]
  },
  {
   "cell_type": "code",
   "execution_count": 15,
   "metadata": {},
   "outputs": [],
   "source": [
    "s2.index.name = 'index name'"
   ]
  },
  {
   "cell_type": "code",
   "execution_count": 16,
   "metadata": {},
   "outputs": [
    {
     "data": {
      "text/plain": [
       "Index(['a', 'b', 'c', 'd'], dtype='object', name='index name')"
      ]
     },
     "execution_count": 16,
     "metadata": {},
     "output_type": "execute_result"
    }
   ],
   "source": [
    "s2.index"
   ]
  },
  {
   "cell_type": "code",
   "execution_count": 22,
   "metadata": {},
   "outputs": [],
   "source": [
    "s3 = pd.Series(np.arange(0, 10, 2))"
   ]
  },
  {
   "cell_type": "code",
   "execution_count": 23,
   "metadata": {},
   "outputs": [
    {
     "data": {
      "text/plain": [
       "0    0\n",
       "1    2\n",
       "2    4\n",
       "3    6\n",
       "4    8\n",
       "dtype: int32"
      ]
     },
     "execution_count": 23,
     "metadata": {},
     "output_type": "execute_result"
    }
   ],
   "source": [
    "s3"
   ]
  },
  {
   "cell_type": "markdown",
   "metadata": {},
   "source": [
    "### Dataframe"
   ]
  },
  {
   "cell_type": "code",
   "execution_count": 24,
   "metadata": {},
   "outputs": [],
   "source": [
    "from pandas import Series, DataFrame"
   ]
  },
  {
   "cell_type": "code",
   "execution_count": 25,
   "metadata": {},
   "outputs": [],
   "source": [
    "import webbrowser"
   ]
  },
  {
   "cell_type": "code",
   "execution_count": 26,
   "metadata": {},
   "outputs": [
    {
     "data": {
      "text/plain": [
       "True"
      ]
     },
     "execution_count": 26,
     "metadata": {},
     "output_type": "execute_result"
    }
   ],
   "source": [
    "link = 'https://www.tiobe.com/tiobe-index/'\n",
    "webbrowser.open(link)"
   ]
  },
  {
   "cell_type": "code",
   "execution_count": 27,
   "metadata": {},
   "outputs": [],
   "source": [
    "df = pd.read_clipboard()"
   ]
  },
  {
   "cell_type": "code",
   "execution_count": 28,
   "metadata": {},
   "outputs": [
    {
     "data": {
      "text/html": [
       "<div>\n",
       "<style scoped>\n",
       "    .dataframe tbody tr th:only-of-type {\n",
       "        vertical-align: middle;\n",
       "    }\n",
       "\n",
       "    .dataframe tbody tr th {\n",
       "        vertical-align: top;\n",
       "    }\n",
       "\n",
       "    .dataframe thead th {\n",
       "        text-align: right;\n",
       "    }\n",
       "</style>\n",
       "<table border=\"1\" class=\"dataframe\">\n",
       "  <thead>\n",
       "    <tr style=\"text-align: right;\">\n",
       "      <th></th>\n",
       "      <th>Mar 2020</th>\n",
       "      <th>Mar 2019</th>\n",
       "      <th>Change</th>\n",
       "      <th>Programming Language</th>\n",
       "      <th>Ratings</th>\n",
       "      <th>Change.1</th>\n",
       "    </tr>\n",
       "  </thead>\n",
       "  <tbody>\n",
       "    <tr>\n",
       "      <th>0</th>\n",
       "      <td>1</td>\n",
       "      <td>1</td>\n",
       "      <td>NaN</td>\n",
       "      <td>Java</td>\n",
       "      <td>17.78%</td>\n",
       "      <td>+2.90%</td>\n",
       "    </tr>\n",
       "    <tr>\n",
       "      <th>1</th>\n",
       "      <td>2</td>\n",
       "      <td>2</td>\n",
       "      <td>NaN</td>\n",
       "      <td>C</td>\n",
       "      <td>16.33%</td>\n",
       "      <td>+3.03%</td>\n",
       "    </tr>\n",
       "    <tr>\n",
       "      <th>2</th>\n",
       "      <td>3</td>\n",
       "      <td>3</td>\n",
       "      <td>NaN</td>\n",
       "      <td>Python</td>\n",
       "      <td>10.11%</td>\n",
       "      <td>+1.85%</td>\n",
       "    </tr>\n",
       "    <tr>\n",
       "      <th>3</th>\n",
       "      <td>4</td>\n",
       "      <td>4</td>\n",
       "      <td>NaN</td>\n",
       "      <td>C++</td>\n",
       "      <td>6.79%</td>\n",
       "      <td>-1.34%</td>\n",
       "    </tr>\n",
       "    <tr>\n",
       "      <th>4</th>\n",
       "      <td>5</td>\n",
       "      <td>6</td>\n",
       "      <td>change</td>\n",
       "      <td>C#</td>\n",
       "      <td>5.32%</td>\n",
       "      <td>+2.05%</td>\n",
       "    </tr>\n",
       "    <tr>\n",
       "      <th>5</th>\n",
       "      <td>6</td>\n",
       "      <td>5</td>\n",
       "      <td>change</td>\n",
       "      <td>Visual Basic .NET</td>\n",
       "      <td>5.26%</td>\n",
       "      <td>-1.17%</td>\n",
       "    </tr>\n",
       "    <tr>\n",
       "      <th>6</th>\n",
       "      <td>7</td>\n",
       "      <td>7</td>\n",
       "      <td>NaN</td>\n",
       "      <td>JavaScript</td>\n",
       "      <td>2.05%</td>\n",
       "      <td>-0.38%</td>\n",
       "    </tr>\n",
       "    <tr>\n",
       "      <th>7</th>\n",
       "      <td>8</td>\n",
       "      <td>8</td>\n",
       "      <td>NaN</td>\n",
       "      <td>PHP</td>\n",
       "      <td>2.02%</td>\n",
       "      <td>-0.40%</td>\n",
       "    </tr>\n",
       "    <tr>\n",
       "      <th>8</th>\n",
       "      <td>9</td>\n",
       "      <td>9</td>\n",
       "      <td>NaN</td>\n",
       "      <td>SQL</td>\n",
       "      <td>1.83%</td>\n",
       "      <td>-0.09%</td>\n",
       "    </tr>\n",
       "    <tr>\n",
       "      <th>9</th>\n",
       "      <td>10</td>\n",
       "      <td>18</td>\n",
       "      <td>change</td>\n",
       "      <td>Go</td>\n",
       "      <td>1.28%</td>\n",
       "      <td>+0.26%</td>\n",
       "    </tr>\n",
       "  </tbody>\n",
       "</table>\n",
       "</div>"
      ],
      "text/plain": [
       "   Mar 2020  Mar 2019  Change Programming Language Ratings Change.1\n",
       "0         1         1     NaN                 Java  17.78%   +2.90%\n",
       "1         2         2     NaN                    C  16.33%   +3.03%\n",
       "2         3         3     NaN               Python  10.11%   +1.85%\n",
       "3         4         4     NaN                  C++   6.79%   -1.34%\n",
       "4         5         6  change                   C#   5.32%   +2.05%\n",
       "5         6         5  change    Visual Basic .NET   5.26%   -1.17%\n",
       "6         7         7     NaN           JavaScript   2.05%   -0.38%\n",
       "7         8         8     NaN                  PHP   2.02%   -0.40%\n",
       "8         9         9     NaN                  SQL   1.83%   -0.09%\n",
       "9        10        18  change                   Go   1.28%   +0.26%"
      ]
     },
     "execution_count": 28,
     "metadata": {},
     "output_type": "execute_result"
    }
   ],
   "source": [
    "df"
   ]
  },
  {
   "cell_type": "code",
   "execution_count": 29,
   "metadata": {},
   "outputs": [
    {
     "data": {
      "text/plain": [
       "Index(['Mar 2020', 'Mar 2019', 'Change', 'Programming Language', 'Ratings',\n",
       "       'Change.1'],\n",
       "      dtype='object')"
      ]
     },
     "execution_count": 29,
     "metadata": {},
     "output_type": "execute_result"
    }
   ],
   "source": [
    "df.columns"
   ]
  },
  {
   "cell_type": "code",
   "execution_count": 30,
   "metadata": {},
   "outputs": [
    {
     "data": {
      "text/plain": [
       "RangeIndex(start=0, stop=10, step=1)"
      ]
     },
     "execution_count": 30,
     "metadata": {},
     "output_type": "execute_result"
    }
   ],
   "source": [
    "df.index"
   ]
  },
  {
   "cell_type": "code",
   "execution_count": 31,
   "metadata": {},
   "outputs": [
    {
     "data": {
      "text/plain": [
       "array([[1, 1, nan, 'Java', '17.78%', '+2.90%'],\n",
       "       [2, 2, nan, 'C', '16.33%', '+3.03%'],\n",
       "       [3, 3, nan, 'Python', '10.11%', '+1.85%'],\n",
       "       [4, 4, nan, 'C++', '6.79%', '-1.34%'],\n",
       "       [5, 6, 'change', 'C#', '5.32%', '+2.05%'],\n",
       "       [6, 5, 'change', 'Visual Basic .NET', '5.26%', '-1.17%'],\n",
       "       [7, 7, nan, 'JavaScript', '2.05%', '-0.38%'],\n",
       "       [8, 8, nan, 'PHP', '2.02%', '-0.40%'],\n",
       "       [9, 9, nan, 'SQL', '1.83%', '-0.09%'],\n",
       "       [10, 18, 'change', 'Go', '1.28%', '+0.26%']], dtype=object)"
      ]
     },
     "execution_count": 31,
     "metadata": {},
     "output_type": "execute_result"
    }
   ],
   "source": [
    "df.values"
   ]
  },
  {
   "cell_type": "code",
   "execution_count": 34,
   "metadata": {},
   "outputs": [],
   "source": [
    "df2 = DataFrame(df, columns=['Language', 'Change.1'])"
   ]
  },
  {
   "cell_type": "code",
   "execution_count": 35,
   "metadata": {},
   "outputs": [
    {
     "data": {
      "text/html": [
       "<div>\n",
       "<style scoped>\n",
       "    .dataframe tbody tr th:only-of-type {\n",
       "        vertical-align: middle;\n",
       "    }\n",
       "\n",
       "    .dataframe tbody tr th {\n",
       "        vertical-align: top;\n",
       "    }\n",
       "\n",
       "    .dataframe thead th {\n",
       "        text-align: right;\n",
       "    }\n",
       "</style>\n",
       "<table border=\"1\" class=\"dataframe\">\n",
       "  <thead>\n",
       "    <tr style=\"text-align: right;\">\n",
       "      <th></th>\n",
       "      <th>Language</th>\n",
       "      <th>Change.1</th>\n",
       "    </tr>\n",
       "  </thead>\n",
       "  <tbody>\n",
       "    <tr>\n",
       "      <th>0</th>\n",
       "      <td>NaN</td>\n",
       "      <td>+2.90%</td>\n",
       "    </tr>\n",
       "    <tr>\n",
       "      <th>1</th>\n",
       "      <td>NaN</td>\n",
       "      <td>+3.03%</td>\n",
       "    </tr>\n",
       "    <tr>\n",
       "      <th>2</th>\n",
       "      <td>NaN</td>\n",
       "      <td>+1.85%</td>\n",
       "    </tr>\n",
       "    <tr>\n",
       "      <th>3</th>\n",
       "      <td>NaN</td>\n",
       "      <td>-1.34%</td>\n",
       "    </tr>\n",
       "    <tr>\n",
       "      <th>4</th>\n",
       "      <td>NaN</td>\n",
       "      <td>+2.05%</td>\n",
       "    </tr>\n",
       "    <tr>\n",
       "      <th>5</th>\n",
       "      <td>NaN</td>\n",
       "      <td>-1.17%</td>\n",
       "    </tr>\n",
       "    <tr>\n",
       "      <th>6</th>\n",
       "      <td>NaN</td>\n",
       "      <td>-0.38%</td>\n",
       "    </tr>\n",
       "    <tr>\n",
       "      <th>7</th>\n",
       "      <td>NaN</td>\n",
       "      <td>-0.40%</td>\n",
       "    </tr>\n",
       "    <tr>\n",
       "      <th>8</th>\n",
       "      <td>NaN</td>\n",
       "      <td>-0.09%</td>\n",
       "    </tr>\n",
       "    <tr>\n",
       "      <th>9</th>\n",
       "      <td>NaN</td>\n",
       "      <td>+0.26%</td>\n",
       "    </tr>\n",
       "  </tbody>\n",
       "</table>\n",
       "</div>"
      ],
      "text/plain": [
       "   Language Change.1\n",
       "0       NaN   +2.90%\n",
       "1       NaN   +3.03%\n",
       "2       NaN   +1.85%\n",
       "3       NaN   -1.34%\n",
       "4       NaN   +2.05%\n",
       "5       NaN   -1.17%\n",
       "6       NaN   -0.38%\n",
       "7       NaN   -0.40%\n",
       "8       NaN   -0.09%\n",
       "9       NaN   +0.26%"
      ]
     },
     "execution_count": 35,
     "metadata": {},
     "output_type": "execute_result"
    }
   ],
   "source": [
    "df2"
   ]
  },
  {
   "cell_type": "code",
   "execution_count": 36,
   "metadata": {},
   "outputs": [
    {
     "data": {
      "text/plain": [
       "pandas.core.frame.DataFrame"
      ]
     },
     "execution_count": 36,
     "metadata": {},
     "output_type": "execute_result"
    }
   ],
   "source": [
    "type(df)"
   ]
  },
  {
   "cell_type": "code",
   "execution_count": 38,
   "metadata": {},
   "outputs": [],
   "source": [
    "df['New column'] = pd.Series(['a', 'b', 'c'])"
   ]
  },
  {
   "cell_type": "code",
   "execution_count": 39,
   "metadata": {},
   "outputs": [
    {
     "data": {
      "text/html": [
       "<div>\n",
       "<style scoped>\n",
       "    .dataframe tbody tr th:only-of-type {\n",
       "        vertical-align: middle;\n",
       "    }\n",
       "\n",
       "    .dataframe tbody tr th {\n",
       "        vertical-align: top;\n",
       "    }\n",
       "\n",
       "    .dataframe thead th {\n",
       "        text-align: right;\n",
       "    }\n",
       "</style>\n",
       "<table border=\"1\" class=\"dataframe\">\n",
       "  <thead>\n",
       "    <tr style=\"text-align: right;\">\n",
       "      <th></th>\n",
       "      <th>Mar 2020</th>\n",
       "      <th>Mar 2019</th>\n",
       "      <th>Change</th>\n",
       "      <th>Programming Language</th>\n",
       "      <th>Ratings</th>\n",
       "      <th>Change.1</th>\n",
       "      <th>New column</th>\n",
       "    </tr>\n",
       "  </thead>\n",
       "  <tbody>\n",
       "    <tr>\n",
       "      <th>0</th>\n",
       "      <td>1</td>\n",
       "      <td>1</td>\n",
       "      <td>NaN</td>\n",
       "      <td>Java</td>\n",
       "      <td>17.78%</td>\n",
       "      <td>+2.90%</td>\n",
       "      <td>a</td>\n",
       "    </tr>\n",
       "    <tr>\n",
       "      <th>1</th>\n",
       "      <td>2</td>\n",
       "      <td>2</td>\n",
       "      <td>NaN</td>\n",
       "      <td>C</td>\n",
       "      <td>16.33%</td>\n",
       "      <td>+3.03%</td>\n",
       "      <td>b</td>\n",
       "    </tr>\n",
       "    <tr>\n",
       "      <th>2</th>\n",
       "      <td>3</td>\n",
       "      <td>3</td>\n",
       "      <td>NaN</td>\n",
       "      <td>Python</td>\n",
       "      <td>10.11%</td>\n",
       "      <td>+1.85%</td>\n",
       "      <td>c</td>\n",
       "    </tr>\n",
       "    <tr>\n",
       "      <th>3</th>\n",
       "      <td>4</td>\n",
       "      <td>4</td>\n",
       "      <td>NaN</td>\n",
       "      <td>C++</td>\n",
       "      <td>6.79%</td>\n",
       "      <td>-1.34%</td>\n",
       "      <td>NaN</td>\n",
       "    </tr>\n",
       "    <tr>\n",
       "      <th>4</th>\n",
       "      <td>5</td>\n",
       "      <td>6</td>\n",
       "      <td>change</td>\n",
       "      <td>C#</td>\n",
       "      <td>5.32%</td>\n",
       "      <td>+2.05%</td>\n",
       "      <td>NaN</td>\n",
       "    </tr>\n",
       "    <tr>\n",
       "      <th>5</th>\n",
       "      <td>6</td>\n",
       "      <td>5</td>\n",
       "      <td>change</td>\n",
       "      <td>Visual Basic .NET</td>\n",
       "      <td>5.26%</td>\n",
       "      <td>-1.17%</td>\n",
       "      <td>NaN</td>\n",
       "    </tr>\n",
       "    <tr>\n",
       "      <th>6</th>\n",
       "      <td>7</td>\n",
       "      <td>7</td>\n",
       "      <td>NaN</td>\n",
       "      <td>JavaScript</td>\n",
       "      <td>2.05%</td>\n",
       "      <td>-0.38%</td>\n",
       "      <td>NaN</td>\n",
       "    </tr>\n",
       "    <tr>\n",
       "      <th>7</th>\n",
       "      <td>8</td>\n",
       "      <td>8</td>\n",
       "      <td>NaN</td>\n",
       "      <td>PHP</td>\n",
       "      <td>2.02%</td>\n",
       "      <td>-0.40%</td>\n",
       "      <td>NaN</td>\n",
       "    </tr>\n",
       "    <tr>\n",
       "      <th>8</th>\n",
       "      <td>9</td>\n",
       "      <td>9</td>\n",
       "      <td>NaN</td>\n",
       "      <td>SQL</td>\n",
       "      <td>1.83%</td>\n",
       "      <td>-0.09%</td>\n",
       "      <td>NaN</td>\n",
       "    </tr>\n",
       "    <tr>\n",
       "      <th>9</th>\n",
       "      <td>10</td>\n",
       "      <td>18</td>\n",
       "      <td>change</td>\n",
       "      <td>Go</td>\n",
       "      <td>1.28%</td>\n",
       "      <td>+0.26%</td>\n",
       "      <td>NaN</td>\n",
       "    </tr>\n",
       "  </tbody>\n",
       "</table>\n",
       "</div>"
      ],
      "text/plain": [
       "   Mar 2020  Mar 2019  Change Programming Language Ratings Change.1 New column\n",
       "0         1         1     NaN                 Java  17.78%   +2.90%          a\n",
       "1         2         2     NaN                    C  16.33%   +3.03%          b\n",
       "2         3         3     NaN               Python  10.11%   +1.85%          c\n",
       "3         4         4     NaN                  C++   6.79%   -1.34%        NaN\n",
       "4         5         6  change                   C#   5.32%   +2.05%        NaN\n",
       "5         6         5  change    Visual Basic .NET   5.26%   -1.17%        NaN\n",
       "6         7         7     NaN           JavaScript   2.05%   -0.38%        NaN\n",
       "7         8         8     NaN                  PHP   2.02%   -0.40%        NaN\n",
       "8         9         9     NaN                  SQL   1.83%   -0.09%        NaN\n",
       "9        10        18  change                   Go   1.28%   +0.26%        NaN"
      ]
     },
     "execution_count": 39,
     "metadata": {},
     "output_type": "execute_result"
    }
   ],
   "source": [
    "df"
   ]
  },
  {
   "cell_type": "code",
   "execution_count": 40,
   "metadata": {},
   "outputs": [
    {
     "data": {
      "text/plain": [
       "Index(['Mar 2020', 'Mar 2019', 'Change', 'Programming Language', 'Ratings',\n",
       "       'Change.1', 'New column'],\n",
       "      dtype='object')"
      ]
     },
     "execution_count": 40,
     "metadata": {},
     "output_type": "execute_result"
    }
   ],
   "source": [
    "df.columns"
   ]
  },
  {
   "cell_type": "code",
   "execution_count": 42,
   "metadata": {},
   "outputs": [
    {
     "data": {
      "text/html": [
       "<div>\n",
       "<style scoped>\n",
       "    .dataframe tbody tr th:only-of-type {\n",
       "        vertical-align: middle;\n",
       "    }\n",
       "\n",
       "    .dataframe tbody tr th {\n",
       "        vertical-align: top;\n",
       "    }\n",
       "\n",
       "    .dataframe thead th {\n",
       "        text-align: right;\n",
       "    }\n",
       "</style>\n",
       "<table border=\"1\" class=\"dataframe\">\n",
       "  <thead>\n",
       "    <tr style=\"text-align: right;\">\n",
       "      <th></th>\n",
       "      <th>Programming Language</th>\n",
       "      <th>Change.1</th>\n",
       "    </tr>\n",
       "  </thead>\n",
       "  <tbody>\n",
       "    <tr>\n",
       "      <th>0</th>\n",
       "      <td>Java</td>\n",
       "      <td>+2.90%</td>\n",
       "    </tr>\n",
       "    <tr>\n",
       "      <th>1</th>\n",
       "      <td>C</td>\n",
       "      <td>+3.03%</td>\n",
       "    </tr>\n",
       "    <tr>\n",
       "      <th>2</th>\n",
       "      <td>Python</td>\n",
       "      <td>+1.85%</td>\n",
       "    </tr>\n",
       "    <tr>\n",
       "      <th>3</th>\n",
       "      <td>C++</td>\n",
       "      <td>-1.34%</td>\n",
       "    </tr>\n",
       "    <tr>\n",
       "      <th>4</th>\n",
       "      <td>C#</td>\n",
       "      <td>+2.05%</td>\n",
       "    </tr>\n",
       "    <tr>\n",
       "      <th>5</th>\n",
       "      <td>Visual Basic .NET</td>\n",
       "      <td>-1.17%</td>\n",
       "    </tr>\n",
       "    <tr>\n",
       "      <th>6</th>\n",
       "      <td>JavaScript</td>\n",
       "      <td>-0.38%</td>\n",
       "    </tr>\n",
       "    <tr>\n",
       "      <th>7</th>\n",
       "      <td>PHP</td>\n",
       "      <td>-0.40%</td>\n",
       "    </tr>\n",
       "    <tr>\n",
       "      <th>8</th>\n",
       "      <td>SQL</td>\n",
       "      <td>-0.09%</td>\n",
       "    </tr>\n",
       "    <tr>\n",
       "      <th>9</th>\n",
       "      <td>Go</td>\n",
       "      <td>+0.26%</td>\n",
       "    </tr>\n",
       "  </tbody>\n",
       "</table>\n",
       "</div>"
      ],
      "text/plain": [
       "  Programming Language Change.1\n",
       "0                 Java   +2.90%\n",
       "1                    C   +3.03%\n",
       "2               Python   +1.85%\n",
       "3                  C++   -1.34%\n",
       "4                   C#   +2.05%\n",
       "5    Visual Basic .NET   -1.17%\n",
       "6           JavaScript   -0.38%\n",
       "7                  PHP   -0.40%\n",
       "8                  SQL   -0.09%\n",
       "9                   Go   +0.26%"
      ]
     },
     "execution_count": 42,
     "metadata": {},
     "output_type": "execute_result"
    }
   ],
   "source": [
    "df_new = DataFrame(df, columns=['Programming Language', 'Change.1'])\n",
    "df_new"
   ]
  },
  {
   "cell_type": "code",
   "execution_count": 43,
   "metadata": {},
   "outputs": [
    {
     "data": {
      "text/html": [
       "<div>\n",
       "<style scoped>\n",
       "    .dataframe tbody tr th:only-of-type {\n",
       "        vertical-align: middle;\n",
       "    }\n",
       "\n",
       "    .dataframe tbody tr th {\n",
       "        vertical-align: top;\n",
       "    }\n",
       "\n",
       "    .dataframe thead th {\n",
       "        text-align: right;\n",
       "    }\n",
       "</style>\n",
       "<table border=\"1\" class=\"dataframe\">\n",
       "  <thead>\n",
       "    <tr style=\"text-align: right;\">\n",
       "      <th></th>\n",
       "      <th>Programming Language</th>\n",
       "      <th>Change.1</th>\n",
       "    </tr>\n",
       "  </thead>\n",
       "  <tbody>\n",
       "    <tr>\n",
       "      <th>0</th>\n",
       "      <td>Java</td>\n",
       "      <td>0</td>\n",
       "    </tr>\n",
       "    <tr>\n",
       "      <th>1</th>\n",
       "      <td>C</td>\n",
       "      <td>1</td>\n",
       "    </tr>\n",
       "    <tr>\n",
       "      <th>2</th>\n",
       "      <td>Python</td>\n",
       "      <td>2</td>\n",
       "    </tr>\n",
       "    <tr>\n",
       "      <th>3</th>\n",
       "      <td>C++</td>\n",
       "      <td>3</td>\n",
       "    </tr>\n",
       "    <tr>\n",
       "      <th>4</th>\n",
       "      <td>C#</td>\n",
       "      <td>4</td>\n",
       "    </tr>\n",
       "    <tr>\n",
       "      <th>5</th>\n",
       "      <td>Visual Basic .NET</td>\n",
       "      <td>5</td>\n",
       "    </tr>\n",
       "    <tr>\n",
       "      <th>6</th>\n",
       "      <td>JavaScript</td>\n",
       "      <td>6</td>\n",
       "    </tr>\n",
       "    <tr>\n",
       "      <th>7</th>\n",
       "      <td>PHP</td>\n",
       "      <td>7</td>\n",
       "    </tr>\n",
       "    <tr>\n",
       "      <th>8</th>\n",
       "      <td>SQL</td>\n",
       "      <td>8</td>\n",
       "    </tr>\n",
       "    <tr>\n",
       "      <th>9</th>\n",
       "      <td>Go</td>\n",
       "      <td>9</td>\n",
       "    </tr>\n",
       "  </tbody>\n",
       "</table>\n",
       "</div>"
      ],
      "text/plain": [
       "  Programming Language  Change.1\n",
       "0                 Java         0\n",
       "1                    C         1\n",
       "2               Python         2\n",
       "3                  C++         3\n",
       "4                   C#         4\n",
       "5    Visual Basic .NET         5\n",
       "6           JavaScript         6\n",
       "7                  PHP         7\n",
       "8                  SQL         8\n",
       "9                   Go         9"
      ]
     },
     "execution_count": 43,
     "metadata": {},
     "output_type": "execute_result"
    }
   ],
   "source": [
    "df_new['Change.1'] = np.arange(10)\n",
    "df_new"
   ]
  },
  {
   "cell_type": "code",
   "execution_count": 45,
   "metadata": {},
   "outputs": [
    {
     "data": {
      "text/plain": [
       "0                 Java\n",
       "1                    C\n",
       "2               Python\n",
       "3                  C++\n",
       "4                   C#\n",
       "5    Visual Basic .NET\n",
       "6           JavaScript\n",
       "7                  PHP\n",
       "8                  SQL\n",
       "9                   Go\n",
       "Name: Programming Language, dtype: object"
      ]
     },
     "execution_count": 45,
     "metadata": {},
     "output_type": "execute_result"
    }
   ],
   "source": [
    "df['Programming Language']"
   ]
  },
  {
   "cell_type": "code",
   "execution_count": 46,
   "metadata": {},
   "outputs": [
    {
     "data": {
      "text/plain": [
       "pandas.core.series.Series"
      ]
     },
     "execution_count": 46,
     "metadata": {},
     "output_type": "execute_result"
    }
   ],
   "source": [
    "type(df['Programming Language'])"
   ]
  },
  {
   "cell_type": "markdown",
   "metadata": {},
   "source": [
    "### 深入理解Series和Dataframe"
   ]
  },
  {
   "cell_type": "code",
   "execution_count": 48,
   "metadata": {},
   "outputs": [],
   "source": [
    "data = {\n",
    "    'lower': ['a', 'b', 'c'],\n",
    "    'num': ['1', '2', '3'],\n",
    "    'upper': ['A', 'B', 'C']\n",
    "}"
   ]
  },
  {
   "cell_type": "code",
   "execution_count": 49,
   "metadata": {},
   "outputs": [],
   "source": [
    "df = DataFrame(data)"
   ]
  },
  {
   "cell_type": "code",
   "execution_count": 50,
   "metadata": {},
   "outputs": [
    {
     "data": {
      "text/html": [
       "<div>\n",
       "<style scoped>\n",
       "    .dataframe tbody tr th:only-of-type {\n",
       "        vertical-align: middle;\n",
       "    }\n",
       "\n",
       "    .dataframe tbody tr th {\n",
       "        vertical-align: top;\n",
       "    }\n",
       "\n",
       "    .dataframe thead th {\n",
       "        text-align: right;\n",
       "    }\n",
       "</style>\n",
       "<table border=\"1\" class=\"dataframe\">\n",
       "  <thead>\n",
       "    <tr style=\"text-align: right;\">\n",
       "      <th></th>\n",
       "      <th>lower</th>\n",
       "      <th>num</th>\n",
       "      <th>upper</th>\n",
       "    </tr>\n",
       "  </thead>\n",
       "  <tbody>\n",
       "    <tr>\n",
       "      <th>0</th>\n",
       "      <td>a</td>\n",
       "      <td>1</td>\n",
       "      <td>A</td>\n",
       "    </tr>\n",
       "    <tr>\n",
       "      <th>1</th>\n",
       "      <td>b</td>\n",
       "      <td>2</td>\n",
       "      <td>B</td>\n",
       "    </tr>\n",
       "    <tr>\n",
       "      <th>2</th>\n",
       "      <td>c</td>\n",
       "      <td>3</td>\n",
       "      <td>C</td>\n",
       "    </tr>\n",
       "  </tbody>\n",
       "</table>\n",
       "</div>"
      ],
      "text/plain": [
       "  lower num upper\n",
       "0     a   1     A\n",
       "1     b   2     B\n",
       "2     c   3     C"
      ]
     },
     "execution_count": 50,
     "metadata": {},
     "output_type": "execute_result"
    }
   ],
   "source": [
    "df"
   ]
  },
  {
   "cell_type": "code",
   "execution_count": 51,
   "metadata": {},
   "outputs": [
    {
     "data": {
      "text/plain": [
       "0    a\n",
       "1    b\n",
       "2    c\n",
       "Name: lower, dtype: object"
      ]
     },
     "execution_count": 51,
     "metadata": {},
     "output_type": "execute_result"
    }
   ],
   "source": [
    "df.lower"
   ]
  },
  {
   "cell_type": "code",
   "execution_count": 52,
   "metadata": {},
   "outputs": [
    {
     "data": {
      "text/plain": [
       "0    A\n",
       "1    B\n",
       "2    C\n",
       "Name: upper, dtype: object"
      ]
     },
     "execution_count": 52,
     "metadata": {},
     "output_type": "execute_result"
    }
   ],
   "source": [
    "df.upper"
   ]
  },
  {
   "cell_type": "code",
   "execution_count": 53,
   "metadata": {},
   "outputs": [
    {
     "data": {
      "text/plain": [
       "<generator object DataFrame.iterrows at 0x000002C4C3238E08>"
      ]
     },
     "execution_count": 53,
     "metadata": {},
     "output_type": "execute_result"
    }
   ],
   "source": [
    "df.iterrows()"
   ]
  },
  {
   "cell_type": "code",
   "execution_count": 59,
   "metadata": {},
   "outputs": [
    {
     "name": "stdout",
     "output_type": "stream",
     "text": [
      "0\n",
      "lower    a\n",
      "num      1\n",
      "upper    A\n",
      "Name: 0, dtype: object\n"
     ]
    }
   ],
   "source": [
    "for row in df.iterrows():\n",
    "#     print(row), print(len(row)), print(type(row))\n",
    "    print(row[0])\n",
    "    print(row[1])\n",
    "    break"
   ]
  },
  {
   "cell_type": "code",
   "execution_count": 61,
   "metadata": {},
   "outputs": [],
   "source": [
    "s1 = pd.Series(data['lower'])\n",
    "s2 = pd.Series(data['num'])\n",
    "s3 = pd.Series(data['upper'])"
   ]
  },
  {
   "cell_type": "code",
   "execution_count": 63,
   "metadata": {},
   "outputs": [
    {
     "data": {
      "text/html": [
       "<div>\n",
       "<style scoped>\n",
       "    .dataframe tbody tr th:only-of-type {\n",
       "        vertical-align: middle;\n",
       "    }\n",
       "\n",
       "    .dataframe tbody tr th {\n",
       "        vertical-align: top;\n",
       "    }\n",
       "\n",
       "    .dataframe thead th {\n",
       "        text-align: right;\n",
       "    }\n",
       "</style>\n",
       "<table border=\"1\" class=\"dataframe\">\n",
       "  <thead>\n",
       "    <tr style=\"text-align: right;\">\n",
       "      <th></th>\n",
       "      <th>0</th>\n",
       "      <th>1</th>\n",
       "      <th>2</th>\n",
       "    </tr>\n",
       "  </thead>\n",
       "  <tbody>\n",
       "    <tr>\n",
       "      <th>0</th>\n",
       "      <td>a</td>\n",
       "      <td>b</td>\n",
       "      <td>c</td>\n",
       "    </tr>\n",
       "    <tr>\n",
       "      <th>1</th>\n",
       "      <td>1</td>\n",
       "      <td>2</td>\n",
       "      <td>3</td>\n",
       "    </tr>\n",
       "    <tr>\n",
       "      <th>2</th>\n",
       "      <td>A</td>\n",
       "      <td>B</td>\n",
       "      <td>C</td>\n",
       "    </tr>\n",
       "  </tbody>\n",
       "</table>\n",
       "</div>"
      ],
      "text/plain": [
       "   0  1  2\n",
       "0  a  b  c\n",
       "1  1  2  3\n",
       "2  A  B  C"
      ]
     },
     "execution_count": 63,
     "metadata": {},
     "output_type": "execute_result"
    }
   ],
   "source": [
    "df_new = pd.DataFrame([s1, s2, s3])\n",
    "df_new"
   ]
  },
  {
   "cell_type": "code",
   "execution_count": 64,
   "metadata": {},
   "outputs": [
    {
     "data": {
      "text/html": [
       "<div>\n",
       "<style scoped>\n",
       "    .dataframe tbody tr th:only-of-type {\n",
       "        vertical-align: middle;\n",
       "    }\n",
       "\n",
       "    .dataframe tbody tr th {\n",
       "        vertical-align: top;\n",
       "    }\n",
       "\n",
       "    .dataframe thead th {\n",
       "        text-align: right;\n",
       "    }\n",
       "</style>\n",
       "<table border=\"1\" class=\"dataframe\">\n",
       "  <thead>\n",
       "    <tr style=\"text-align: right;\">\n",
       "      <th></th>\n",
       "      <th>0</th>\n",
       "      <th>1</th>\n",
       "      <th>2</th>\n",
       "    </tr>\n",
       "  </thead>\n",
       "  <tbody>\n",
       "    <tr>\n",
       "      <th>0</th>\n",
       "      <td>a</td>\n",
       "      <td>1</td>\n",
       "      <td>A</td>\n",
       "    </tr>\n",
       "    <tr>\n",
       "      <th>1</th>\n",
       "      <td>b</td>\n",
       "      <td>2</td>\n",
       "      <td>B</td>\n",
       "    </tr>\n",
       "    <tr>\n",
       "      <th>2</th>\n",
       "      <td>c</td>\n",
       "      <td>3</td>\n",
       "      <td>C</td>\n",
       "    </tr>\n",
       "  </tbody>\n",
       "</table>\n",
       "</div>"
      ],
      "text/plain": [
       "   0  1  2\n",
       "0  a  1  A\n",
       "1  b  2  B\n",
       "2  c  3  C"
      ]
     },
     "execution_count": 64,
     "metadata": {},
     "output_type": "execute_result"
    }
   ],
   "source": [
    "df_new.T"
   ]
  },
  {
   "cell_type": "code",
   "execution_count": 66,
   "metadata": {},
   "outputs": [
    {
     "data": {
      "text/html": [
       "<div>\n",
       "<style scoped>\n",
       "    .dataframe tbody tr th:only-of-type {\n",
       "        vertical-align: middle;\n",
       "    }\n",
       "\n",
       "    .dataframe tbody tr th {\n",
       "        vertical-align: top;\n",
       "    }\n",
       "\n",
       "    .dataframe thead th {\n",
       "        text-align: right;\n",
       "    }\n",
       "</style>\n",
       "<table border=\"1\" class=\"dataframe\">\n",
       "  <thead>\n",
       "    <tr style=\"text-align: right;\">\n",
       "      <th></th>\n",
       "      <th>0</th>\n",
       "      <th>1</th>\n",
       "      <th>2</th>\n",
       "    </tr>\n",
       "  </thead>\n",
       "  <tbody>\n",
       "    <tr>\n",
       "      <th>lower</th>\n",
       "      <td>a</td>\n",
       "      <td>b</td>\n",
       "      <td>c</td>\n",
       "    </tr>\n",
       "    <tr>\n",
       "      <th>num</th>\n",
       "      <td>1</td>\n",
       "      <td>2</td>\n",
       "      <td>3</td>\n",
       "    </tr>\n",
       "    <tr>\n",
       "      <th>upper</th>\n",
       "      <td>A</td>\n",
       "      <td>B</td>\n",
       "      <td>C</td>\n",
       "    </tr>\n",
       "  </tbody>\n",
       "</table>\n",
       "</div>"
      ],
      "text/plain": [
       "       0  1  2\n",
       "lower  a  b  c\n",
       "num    1  2  3\n",
       "upper  A  B  C"
      ]
     },
     "execution_count": 66,
     "metadata": {},
     "output_type": "execute_result"
    }
   ],
   "source": [
    "df_new = pd.DataFrame([s1, s2, s3], index=['lower', 'num', 'upper'])\n",
    "df_new"
   ]
  },
  {
   "cell_type": "code",
   "execution_count": 67,
   "metadata": {},
   "outputs": [
    {
     "data": {
      "text/html": [
       "<div>\n",
       "<style scoped>\n",
       "    .dataframe tbody tr th:only-of-type {\n",
       "        vertical-align: middle;\n",
       "    }\n",
       "\n",
       "    .dataframe tbody tr th {\n",
       "        vertical-align: top;\n",
       "    }\n",
       "\n",
       "    .dataframe thead th {\n",
       "        text-align: right;\n",
       "    }\n",
       "</style>\n",
       "<table border=\"1\" class=\"dataframe\">\n",
       "  <thead>\n",
       "    <tr style=\"text-align: right;\">\n",
       "      <th></th>\n",
       "      <th>lower</th>\n",
       "      <th>num</th>\n",
       "      <th>upper</th>\n",
       "    </tr>\n",
       "  </thead>\n",
       "  <tbody>\n",
       "    <tr>\n",
       "      <th>0</th>\n",
       "      <td>a</td>\n",
       "      <td>1</td>\n",
       "      <td>A</td>\n",
       "    </tr>\n",
       "    <tr>\n",
       "      <th>1</th>\n",
       "      <td>b</td>\n",
       "      <td>2</td>\n",
       "      <td>B</td>\n",
       "    </tr>\n",
       "    <tr>\n",
       "      <th>2</th>\n",
       "      <td>c</td>\n",
       "      <td>3</td>\n",
       "      <td>C</td>\n",
       "    </tr>\n",
       "  </tbody>\n",
       "</table>\n",
       "</div>"
      ],
      "text/plain": [
       "  lower num upper\n",
       "0     a   1     A\n",
       "1     b   2     B\n",
       "2     c   3     C"
      ]
     },
     "execution_count": 67,
     "metadata": {},
     "output_type": "execute_result"
    }
   ],
   "source": [
    "df_new.T"
   ]
  },
  {
   "cell_type": "markdown",
   "metadata": {},
   "source": [
    "### Dataframe IO"
   ]
  },
  {
   "cell_type": "code",
   "execution_count": 68,
   "metadata": {},
   "outputs": [
    {
     "data": {
      "text/html": [
       "<div>\n",
       "<style scoped>\n",
       "    .dataframe tbody tr th:only-of-type {\n",
       "        vertical-align: middle;\n",
       "    }\n",
       "\n",
       "    .dataframe tbody tr th {\n",
       "        vertical-align: top;\n",
       "    }\n",
       "\n",
       "    .dataframe thead th {\n",
       "        text-align: right;\n",
       "    }\n",
       "</style>\n",
       "<table border=\"1\" class=\"dataframe\">\n",
       "  <thead>\n",
       "    <tr style=\"text-align: right;\">\n",
       "      <th></th>\n",
       "      <th>Mar 2020</th>\n",
       "      <th>Mar 2019</th>\n",
       "      <th>Change</th>\n",
       "      <th>Programming Language</th>\n",
       "      <th>Ratings</th>\n",
       "      <th>Change.1</th>\n",
       "    </tr>\n",
       "  </thead>\n",
       "  <tbody>\n",
       "    <tr>\n",
       "      <th>0</th>\n",
       "      <td>1</td>\n",
       "      <td>1</td>\n",
       "      <td>NaN</td>\n",
       "      <td>Java</td>\n",
       "      <td>17.78%</td>\n",
       "      <td>+2.90%</td>\n",
       "    </tr>\n",
       "    <tr>\n",
       "      <th>1</th>\n",
       "      <td>2</td>\n",
       "      <td>2</td>\n",
       "      <td>NaN</td>\n",
       "      <td>C</td>\n",
       "      <td>16.33%</td>\n",
       "      <td>+3.03%</td>\n",
       "    </tr>\n",
       "    <tr>\n",
       "      <th>2</th>\n",
       "      <td>3</td>\n",
       "      <td>3</td>\n",
       "      <td>NaN</td>\n",
       "      <td>Python</td>\n",
       "      <td>10.11%</td>\n",
       "      <td>+1.85%</td>\n",
       "    </tr>\n",
       "    <tr>\n",
       "      <th>3</th>\n",
       "      <td>4</td>\n",
       "      <td>4</td>\n",
       "      <td>NaN</td>\n",
       "      <td>C++</td>\n",
       "      <td>6.79%</td>\n",
       "      <td>-1.34%</td>\n",
       "    </tr>\n",
       "    <tr>\n",
       "      <th>4</th>\n",
       "      <td>5</td>\n",
       "      <td>6</td>\n",
       "      <td>change</td>\n",
       "      <td>C#</td>\n",
       "      <td>5.32%</td>\n",
       "      <td>+2.05%</td>\n",
       "    </tr>\n",
       "    <tr>\n",
       "      <th>5</th>\n",
       "      <td>6</td>\n",
       "      <td>5</td>\n",
       "      <td>change</td>\n",
       "      <td>Visual Basic .NET</td>\n",
       "      <td>5.26%</td>\n",
       "      <td>-1.17%</td>\n",
       "    </tr>\n",
       "    <tr>\n",
       "      <th>6</th>\n",
       "      <td>7</td>\n",
       "      <td>7</td>\n",
       "      <td>NaN</td>\n",
       "      <td>JavaScript</td>\n",
       "      <td>2.05%</td>\n",
       "      <td>-0.38%</td>\n",
       "    </tr>\n",
       "    <tr>\n",
       "      <th>7</th>\n",
       "      <td>8</td>\n",
       "      <td>8</td>\n",
       "      <td>NaN</td>\n",
       "      <td>PHP</td>\n",
       "      <td>2.02%</td>\n",
       "      <td>-0.40%</td>\n",
       "    </tr>\n",
       "    <tr>\n",
       "      <th>8</th>\n",
       "      <td>9</td>\n",
       "      <td>9</td>\n",
       "      <td>NaN</td>\n",
       "      <td>SQL</td>\n",
       "      <td>1.83%</td>\n",
       "      <td>-0.09%</td>\n",
       "    </tr>\n",
       "    <tr>\n",
       "      <th>9</th>\n",
       "      <td>10</td>\n",
       "      <td>18</td>\n",
       "      <td>change</td>\n",
       "      <td>Go</td>\n",
       "      <td>1.28%</td>\n",
       "      <td>+0.26%</td>\n",
       "    </tr>\n",
       "    <tr>\n",
       "      <th>10</th>\n",
       "      <td>11</td>\n",
       "      <td>14</td>\n",
       "      <td>change</td>\n",
       "      <td>R</td>\n",
       "      <td>1.26%</td>\n",
       "      <td>-0.02%</td>\n",
       "    </tr>\n",
       "    <tr>\n",
       "      <th>11</th>\n",
       "      <td>12</td>\n",
       "      <td>12</td>\n",
       "      <td>NaN</td>\n",
       "      <td>Assembly language</td>\n",
       "      <td>1.25%</td>\n",
       "      <td>-0.16%</td>\n",
       "    </tr>\n",
       "    <tr>\n",
       "      <th>12</th>\n",
       "      <td>13</td>\n",
       "      <td>17</td>\n",
       "      <td>change</td>\n",
       "      <td>Swift</td>\n",
       "      <td>1.24%</td>\n",
       "      <td>+0.08%</td>\n",
       "    </tr>\n",
       "    <tr>\n",
       "      <th>13</th>\n",
       "      <td>14</td>\n",
       "      <td>15</td>\n",
       "      <td>change</td>\n",
       "      <td>Ruby</td>\n",
       "      <td>1.05%</td>\n",
       "      <td>-0.15%</td>\n",
       "    </tr>\n",
       "    <tr>\n",
       "      <th>14</th>\n",
       "      <td>15</td>\n",
       "      <td>11</td>\n",
       "      <td>change</td>\n",
       "      <td>MATLAB</td>\n",
       "      <td>0.99%</td>\n",
       "      <td>-0.48%</td>\n",
       "    </tr>\n",
       "    <tr>\n",
       "      <th>15</th>\n",
       "      <td>16</td>\n",
       "      <td>22</td>\n",
       "      <td>change</td>\n",
       "      <td>PL/SQL</td>\n",
       "      <td>0.98%</td>\n",
       "      <td>+0.25%</td>\n",
       "    </tr>\n",
       "    <tr>\n",
       "      <th>16</th>\n",
       "      <td>17</td>\n",
       "      <td>13</td>\n",
       "      <td>change</td>\n",
       "      <td>Perl</td>\n",
       "      <td>0.91%</td>\n",
       "      <td>-0.40%</td>\n",
       "    </tr>\n",
       "    <tr>\n",
       "      <th>17</th>\n",
       "      <td>18</td>\n",
       "      <td>20</td>\n",
       "      <td>change</td>\n",
       "      <td>Visual Basic</td>\n",
       "      <td>0.77%</td>\n",
       "      <td>-0.19%</td>\n",
       "    </tr>\n",
       "    <tr>\n",
       "      <th>18</th>\n",
       "      <td>19</td>\n",
       "      <td>10</td>\n",
       "      <td>change</td>\n",
       "      <td>Objective-C</td>\n",
       "      <td>0.73%</td>\n",
       "      <td>-0.95%</td>\n",
       "    </tr>\n",
       "    <tr>\n",
       "      <th>19</th>\n",
       "      <td>20</td>\n",
       "      <td>19</td>\n",
       "      <td>change</td>\n",
       "      <td>Delphi/Object Pascal</td>\n",
       "      <td>0.71%</td>\n",
       "      <td>-0.30%</td>\n",
       "    </tr>\n",
       "  </tbody>\n",
       "</table>\n",
       "</div>"
      ],
      "text/plain": [
       "    Mar 2020  Mar 2019  Change  Programming Language Ratings Change.1\n",
       "0          1         1     NaN                  Java  17.78%   +2.90%\n",
       "1          2         2     NaN                     C  16.33%   +3.03%\n",
       "2          3         3     NaN                Python  10.11%   +1.85%\n",
       "3          4         4     NaN                   C++   6.79%   -1.34%\n",
       "4          5         6  change                    C#   5.32%   +2.05%\n",
       "5          6         5  change     Visual Basic .NET   5.26%   -1.17%\n",
       "6          7         7     NaN            JavaScript   2.05%   -0.38%\n",
       "7          8         8     NaN                   PHP   2.02%   -0.40%\n",
       "8          9         9     NaN                   SQL   1.83%   -0.09%\n",
       "9         10        18  change                    Go   1.28%   +0.26%\n",
       "10        11        14  change                     R   1.26%   -0.02%\n",
       "11        12        12     NaN     Assembly language   1.25%   -0.16%\n",
       "12        13        17  change                 Swift   1.24%   +0.08%\n",
       "13        14        15  change                  Ruby   1.05%   -0.15%\n",
       "14        15        11  change                MATLAB   0.99%   -0.48%\n",
       "15        16        22  change                PL/SQL   0.98%   +0.25%\n",
       "16        17        13  change                  Perl   0.91%   -0.40%\n",
       "17        18        20  change          Visual Basic   0.77%   -0.19%\n",
       "18        19        10  change           Objective-C   0.73%   -0.95%\n",
       "19        20        19  change  Delphi/Object Pascal   0.71%   -0.30%"
      ]
     },
     "execution_count": 68,
     "metadata": {},
     "output_type": "execute_result"
    }
   ],
   "source": [
    "df1 = pd.read_clipboard()\n",
    "df1"
   ]
  },
  {
   "cell_type": "code",
   "execution_count": 69,
   "metadata": {},
   "outputs": [
    {
     "data": {
      "text/plain": [
       "{'Change': {0: nan,\n",
       "  1: nan,\n",
       "  2: nan,\n",
       "  3: nan,\n",
       "  4: 'change',\n",
       "  5: 'change',\n",
       "  6: nan,\n",
       "  7: nan,\n",
       "  8: nan,\n",
       "  9: 'change',\n",
       "  10: 'change',\n",
       "  11: nan,\n",
       "  12: 'change',\n",
       "  13: 'change',\n",
       "  14: 'change',\n",
       "  15: 'change',\n",
       "  16: 'change',\n",
       "  17: 'change',\n",
       "  18: 'change',\n",
       "  19: 'change'},\n",
       " 'Change.1': {0: '+2.90%',\n",
       "  1: '+3.03%',\n",
       "  2: '+1.85%',\n",
       "  3: '-1.34%',\n",
       "  4: '+2.05%',\n",
       "  5: '-1.17%',\n",
       "  6: '-0.38%',\n",
       "  7: '-0.40%',\n",
       "  8: '-0.09%',\n",
       "  9: '+0.26%',\n",
       "  10: '-0.02%',\n",
       "  11: '-0.16%',\n",
       "  12: '+0.08%',\n",
       "  13: '-0.15%',\n",
       "  14: '-0.48%',\n",
       "  15: '+0.25%',\n",
       "  16: '-0.40%',\n",
       "  17: '-0.19%',\n",
       "  18: '-0.95%',\n",
       "  19: '-0.30%'},\n",
       " 'Mar 2019': {0: 1,\n",
       "  1: 2,\n",
       "  2: 3,\n",
       "  3: 4,\n",
       "  4: 6,\n",
       "  5: 5,\n",
       "  6: 7,\n",
       "  7: 8,\n",
       "  8: 9,\n",
       "  9: 18,\n",
       "  10: 14,\n",
       "  11: 12,\n",
       "  12: 17,\n",
       "  13: 15,\n",
       "  14: 11,\n",
       "  15: 22,\n",
       "  16: 13,\n",
       "  17: 20,\n",
       "  18: 10,\n",
       "  19: 19},\n",
       " 'Mar 2020': {0: 1,\n",
       "  1: 2,\n",
       "  2: 3,\n",
       "  3: 4,\n",
       "  4: 5,\n",
       "  5: 6,\n",
       "  6: 7,\n",
       "  7: 8,\n",
       "  8: 9,\n",
       "  9: 10,\n",
       "  10: 11,\n",
       "  11: 12,\n",
       "  12: 13,\n",
       "  13: 14,\n",
       "  14: 15,\n",
       "  15: 16,\n",
       "  16: 17,\n",
       "  17: 18,\n",
       "  18: 19,\n",
       "  19: 20},\n",
       " 'Programming Language': {0: 'Java',\n",
       "  1: 'C',\n",
       "  2: 'Python',\n",
       "  3: 'C++',\n",
       "  4: 'C#',\n",
       "  5: 'Visual Basic .NET',\n",
       "  6: 'JavaScript',\n",
       "  7: 'PHP',\n",
       "  8: 'SQL',\n",
       "  9: 'Go',\n",
       "  10: 'R',\n",
       "  11: 'Assembly language',\n",
       "  12: 'Swift',\n",
       "  13: 'Ruby',\n",
       "  14: 'MATLAB',\n",
       "  15: 'PL/SQL',\n",
       "  16: 'Perl',\n",
       "  17: 'Visual Basic',\n",
       "  18: 'Objective-C',\n",
       "  19: 'Delphi/Object Pascal'},\n",
       " 'Ratings': {0: '17.78%',\n",
       "  1: '16.33%',\n",
       "  2: '10.11%',\n",
       "  3: '6.79%',\n",
       "  4: '5.32%',\n",
       "  5: '5.26%',\n",
       "  6: '2.05%',\n",
       "  7: '2.02%',\n",
       "  8: '1.83%',\n",
       "  9: '1.28%',\n",
       "  10: '1.26%',\n",
       "  11: '1.25%',\n",
       "  12: '1.24%',\n",
       "  13: '1.05%',\n",
       "  14: '0.99%',\n",
       "  15: '0.98%',\n",
       "  16: '0.91%',\n",
       "  17: '0.77%',\n",
       "  18: '0.73%',\n",
       "  19: '0.71%'}}"
      ]
     },
     "execution_count": 69,
     "metadata": {},
     "output_type": "execute_result"
    }
   ],
   "source": [
    "df1.to_dict()"
   ]
  },
  {
   "cell_type": "code",
   "execution_count": 70,
   "metadata": {},
   "outputs": [],
   "source": [
    "df1.to_clipboard()"
   ]
  },
  {
   "cell_type": "code",
   "execution_count": null,
   "metadata": {},
   "outputs": [],
   "source": [
    "\tMar 2020\tMar 2019\tChange\tProgramming Language\tRatings\tChange.1\n",
    "0\t1\t1\t\tJava\t17.78%\t+2.90%\n",
    "1\t2\t2\t\tC\t16.33%\t+3.03%\n",
    "2\t3\t3\t\tPython\t10.11%\t+1.85%\n",
    "3\t4\t4\t\tC++\t6.79%\t-1.34%\n",
    "4\t5\t6\tchange\tC#\t5.32%\t+2.05%\n",
    "5\t6\t5\tchange\tVisual Basic .NET\t5.26%\t-1.17%\n",
    "6\t7\t7\t\tJavaScript\t2.05%\t-0.38%\n",
    "7\t8\t8\t\tPHP\t2.02%\t-0.40%\n",
    "8\t9\t9\t\tSQL\t1.83%\t-0.09%\n",
    "9\t10\t18\tchange\tGo\t1.28%\t+0.26%\n",
    "10\t11\t14\tchange\tR\t1.26%\t-0.02%\n",
    "11\t12\t12\t\tAssembly language\t1.25%\t-0.16%\n",
    "12\t13\t17\tchange\tSwift\t1.24%\t+0.08%\n",
    "13\t14\t15\tchange\tRuby\t1.05%\t-0.15%\n",
    "14\t15\t11\tchange\tMATLAB\t0.99%\t-0.48%\n",
    "15\t16\t22\tchange\tPL/SQL\t0.98%\t+0.25%\n",
    "16\t17\t13\tchange\tPerl\t0.91%\t-0.40%\n",
    "17\t18\t20\tchange\tVisual Basic\t0.77%\t-0.19%\n",
    "18\t19\t10\tchange\tObjective-C\t0.73%\t-0.95%\n",
    "19\t20\t19\tchange\tDelphi/Object Pascal\t0.71%\t-0.30%\n"
   ]
  },
  {
   "cell_type": "code",
   "execution_count": 72,
   "metadata": {},
   "outputs": [],
   "source": [
    "df1.to_excel('df1.xlsx')"
   ]
  },
  {
   "cell_type": "code",
   "execution_count": 74,
   "metadata": {},
   "outputs": [
    {
     "data": {
      "text/html": [
       "<div>\n",
       "<style scoped>\n",
       "    .dataframe tbody tr th:only-of-type {\n",
       "        vertical-align: middle;\n",
       "    }\n",
       "\n",
       "    .dataframe tbody tr th {\n",
       "        vertical-align: top;\n",
       "    }\n",
       "\n",
       "    .dataframe thead th {\n",
       "        text-align: right;\n",
       "    }\n",
       "</style>\n",
       "<table border=\"1\" class=\"dataframe\">\n",
       "  <thead>\n",
       "    <tr style=\"text-align: right;\">\n",
       "      <th></th>\n",
       "      <th>Unnamed: 0</th>\n",
       "      <th>Mar 2020</th>\n",
       "      <th>Mar 2019</th>\n",
       "      <th>Change</th>\n",
       "      <th>Programming Language</th>\n",
       "      <th>Ratings</th>\n",
       "      <th>Change.1</th>\n",
       "    </tr>\n",
       "  </thead>\n",
       "  <tbody>\n",
       "    <tr>\n",
       "      <th>0</th>\n",
       "      <td>0</td>\n",
       "      <td>1</td>\n",
       "      <td>1</td>\n",
       "      <td>NaN</td>\n",
       "      <td>Java</td>\n",
       "      <td>17.78%</td>\n",
       "      <td>+2.90%</td>\n",
       "    </tr>\n",
       "    <tr>\n",
       "      <th>1</th>\n",
       "      <td>1</td>\n",
       "      <td>2</td>\n",
       "      <td>2</td>\n",
       "      <td>NaN</td>\n",
       "      <td>C</td>\n",
       "      <td>16.33%</td>\n",
       "      <td>+3.03%</td>\n",
       "    </tr>\n",
       "    <tr>\n",
       "      <th>2</th>\n",
       "      <td>2</td>\n",
       "      <td>3</td>\n",
       "      <td>3</td>\n",
       "      <td>NaN</td>\n",
       "      <td>Python</td>\n",
       "      <td>10.11%</td>\n",
       "      <td>+1.85%</td>\n",
       "    </tr>\n",
       "    <tr>\n",
       "      <th>3</th>\n",
       "      <td>3</td>\n",
       "      <td>4</td>\n",
       "      <td>4</td>\n",
       "      <td>NaN</td>\n",
       "      <td>C++</td>\n",
       "      <td>6.79%</td>\n",
       "      <td>-1.34%</td>\n",
       "    </tr>\n",
       "    <tr>\n",
       "      <th>4</th>\n",
       "      <td>4</td>\n",
       "      <td>5</td>\n",
       "      <td>6</td>\n",
       "      <td>change</td>\n",
       "      <td>C#</td>\n",
       "      <td>5.32%</td>\n",
       "      <td>+2.05%</td>\n",
       "    </tr>\n",
       "    <tr>\n",
       "      <th>5</th>\n",
       "      <td>5</td>\n",
       "      <td>6</td>\n",
       "      <td>5</td>\n",
       "      <td>change</td>\n",
       "      <td>Visual Basic .NET</td>\n",
       "      <td>5.26%</td>\n",
       "      <td>-1.17%</td>\n",
       "    </tr>\n",
       "    <tr>\n",
       "      <th>6</th>\n",
       "      <td>6</td>\n",
       "      <td>7</td>\n",
       "      <td>7</td>\n",
       "      <td>NaN</td>\n",
       "      <td>JavaScript</td>\n",
       "      <td>2.05%</td>\n",
       "      <td>-0.38%</td>\n",
       "    </tr>\n",
       "    <tr>\n",
       "      <th>7</th>\n",
       "      <td>7</td>\n",
       "      <td>8</td>\n",
       "      <td>8</td>\n",
       "      <td>NaN</td>\n",
       "      <td>PHP</td>\n",
       "      <td>2.02%</td>\n",
       "      <td>-0.40%</td>\n",
       "    </tr>\n",
       "    <tr>\n",
       "      <th>8</th>\n",
       "      <td>8</td>\n",
       "      <td>9</td>\n",
       "      <td>9</td>\n",
       "      <td>NaN</td>\n",
       "      <td>SQL</td>\n",
       "      <td>1.83%</td>\n",
       "      <td>-0.09%</td>\n",
       "    </tr>\n",
       "    <tr>\n",
       "      <th>9</th>\n",
       "      <td>9</td>\n",
       "      <td>10</td>\n",
       "      <td>18</td>\n",
       "      <td>change</td>\n",
       "      <td>Go</td>\n",
       "      <td>1.28%</td>\n",
       "      <td>+0.26%</td>\n",
       "    </tr>\n",
       "    <tr>\n",
       "      <th>10</th>\n",
       "      <td>10</td>\n",
       "      <td>11</td>\n",
       "      <td>14</td>\n",
       "      <td>change</td>\n",
       "      <td>R</td>\n",
       "      <td>1.26%</td>\n",
       "      <td>-0.02%</td>\n",
       "    </tr>\n",
       "    <tr>\n",
       "      <th>11</th>\n",
       "      <td>11</td>\n",
       "      <td>12</td>\n",
       "      <td>12</td>\n",
       "      <td>NaN</td>\n",
       "      <td>Assembly language</td>\n",
       "      <td>1.25%</td>\n",
       "      <td>-0.16%</td>\n",
       "    </tr>\n",
       "    <tr>\n",
       "      <th>12</th>\n",
       "      <td>12</td>\n",
       "      <td>13</td>\n",
       "      <td>17</td>\n",
       "      <td>change</td>\n",
       "      <td>Swift</td>\n",
       "      <td>1.24%</td>\n",
       "      <td>+0.08%</td>\n",
       "    </tr>\n",
       "    <tr>\n",
       "      <th>13</th>\n",
       "      <td>13</td>\n",
       "      <td>14</td>\n",
       "      <td>15</td>\n",
       "      <td>change</td>\n",
       "      <td>Ruby</td>\n",
       "      <td>1.05%</td>\n",
       "      <td>-0.15%</td>\n",
       "    </tr>\n",
       "    <tr>\n",
       "      <th>14</th>\n",
       "      <td>14</td>\n",
       "      <td>15</td>\n",
       "      <td>11</td>\n",
       "      <td>change</td>\n",
       "      <td>MATLAB</td>\n",
       "      <td>0.99%</td>\n",
       "      <td>-0.48%</td>\n",
       "    </tr>\n",
       "    <tr>\n",
       "      <th>15</th>\n",
       "      <td>15</td>\n",
       "      <td>16</td>\n",
       "      <td>22</td>\n",
       "      <td>change</td>\n",
       "      <td>PL/SQL</td>\n",
       "      <td>0.98%</td>\n",
       "      <td>+0.25%</td>\n",
       "    </tr>\n",
       "    <tr>\n",
       "      <th>16</th>\n",
       "      <td>16</td>\n",
       "      <td>17</td>\n",
       "      <td>13</td>\n",
       "      <td>change</td>\n",
       "      <td>Perl</td>\n",
       "      <td>0.91%</td>\n",
       "      <td>-0.40%</td>\n",
       "    </tr>\n",
       "    <tr>\n",
       "      <th>17</th>\n",
       "      <td>17</td>\n",
       "      <td>18</td>\n",
       "      <td>20</td>\n",
       "      <td>change</td>\n",
       "      <td>Visual Basic</td>\n",
       "      <td>0.77%</td>\n",
       "      <td>-0.19%</td>\n",
       "    </tr>\n",
       "    <tr>\n",
       "      <th>18</th>\n",
       "      <td>18</td>\n",
       "      <td>19</td>\n",
       "      <td>10</td>\n",
       "      <td>change</td>\n",
       "      <td>Objective-C</td>\n",
       "      <td>0.73%</td>\n",
       "      <td>-0.95%</td>\n",
       "    </tr>\n",
       "    <tr>\n",
       "      <th>19</th>\n",
       "      <td>19</td>\n",
       "      <td>20</td>\n",
       "      <td>19</td>\n",
       "      <td>change</td>\n",
       "      <td>Delphi/Object Pascal</td>\n",
       "      <td>0.71%</td>\n",
       "      <td>-0.30%</td>\n",
       "    </tr>\n",
       "  </tbody>\n",
       "</table>\n",
       "</div>"
      ],
      "text/plain": [
       "    Unnamed: 0  Mar 2020  Mar 2019  Change  Programming Language Ratings  \\\n",
       "0            0         1         1     NaN                  Java  17.78%   \n",
       "1            1         2         2     NaN                     C  16.33%   \n",
       "2            2         3         3     NaN                Python  10.11%   \n",
       "3            3         4         4     NaN                   C++   6.79%   \n",
       "4            4         5         6  change                    C#   5.32%   \n",
       "5            5         6         5  change     Visual Basic .NET   5.26%   \n",
       "6            6         7         7     NaN            JavaScript   2.05%   \n",
       "7            7         8         8     NaN                   PHP   2.02%   \n",
       "8            8         9         9     NaN                   SQL   1.83%   \n",
       "9            9        10        18  change                    Go   1.28%   \n",
       "10          10        11        14  change                     R   1.26%   \n",
       "11          11        12        12     NaN     Assembly language   1.25%   \n",
       "12          12        13        17  change                 Swift   1.24%   \n",
       "13          13        14        15  change                  Ruby   1.05%   \n",
       "14          14        15        11  change                MATLAB   0.99%   \n",
       "15          15        16        22  change                PL/SQL   0.98%   \n",
       "16          16        17        13  change                  Perl   0.91%   \n",
       "17          17        18        20  change          Visual Basic   0.77%   \n",
       "18          18        19        10  change           Objective-C   0.73%   \n",
       "19          19        20        19  change  Delphi/Object Pascal   0.71%   \n",
       "\n",
       "   Change.1  \n",
       "0    +2.90%  \n",
       "1    +3.03%  \n",
       "2    +1.85%  \n",
       "3    -1.34%  \n",
       "4    +2.05%  \n",
       "5    -1.17%  \n",
       "6    -0.38%  \n",
       "7    -0.40%  \n",
       "8    -0.09%  \n",
       "9    +0.26%  \n",
       "10   -0.02%  \n",
       "11   -0.16%  \n",
       "12   +0.08%  \n",
       "13   -0.15%  \n",
       "14   -0.48%  \n",
       "15   +0.25%  \n",
       "16   -0.40%  \n",
       "17   -0.19%  \n",
       "18   -0.95%  \n",
       "19   -0.30%  "
      ]
     },
     "execution_count": 74,
     "metadata": {},
     "output_type": "execute_result"
    }
   ],
   "source": [
    "df2 = pd.read_excel('df1.xlsx')\n",
    "df2"
   ]
  },
  {
   "cell_type": "code",
   "execution_count": 75,
   "metadata": {},
   "outputs": [],
   "source": [
    "df1.to_html('df1.html')"
   ]
  },
  {
   "cell_type": "code",
   "execution_count": 76,
   "metadata": {},
   "outputs": [],
   "source": [
    "df1.to_json('df1.json')"
   ]
  },
  {
   "cell_type": "code",
   "execution_count": 77,
   "metadata": {},
   "outputs": [],
   "source": [
    "df2 = pd.read_json('df1.json')"
   ]
  },
  {
   "cell_type": "code",
   "execution_count": 78,
   "metadata": {},
   "outputs": [
    {
     "data": {
      "text/html": [
       "<div>\n",
       "<style scoped>\n",
       "    .dataframe tbody tr th:only-of-type {\n",
       "        vertical-align: middle;\n",
       "    }\n",
       "\n",
       "    .dataframe tbody tr th {\n",
       "        vertical-align: top;\n",
       "    }\n",
       "\n",
       "    .dataframe thead th {\n",
       "        text-align: right;\n",
       "    }\n",
       "</style>\n",
       "<table border=\"1\" class=\"dataframe\">\n",
       "  <thead>\n",
       "    <tr style=\"text-align: right;\">\n",
       "      <th></th>\n",
       "      <th>Mar 2020</th>\n",
       "      <th>Mar 2019</th>\n",
       "      <th>Change</th>\n",
       "      <th>Programming Language</th>\n",
       "      <th>Ratings</th>\n",
       "      <th>Change.1</th>\n",
       "    </tr>\n",
       "  </thead>\n",
       "  <tbody>\n",
       "    <tr>\n",
       "      <th>0</th>\n",
       "      <td>1</td>\n",
       "      <td>1</td>\n",
       "      <td>None</td>\n",
       "      <td>Java</td>\n",
       "      <td>17.78%</td>\n",
       "      <td>+2.90%</td>\n",
       "    </tr>\n",
       "    <tr>\n",
       "      <th>1</th>\n",
       "      <td>2</td>\n",
       "      <td>2</td>\n",
       "      <td>None</td>\n",
       "      <td>C</td>\n",
       "      <td>16.33%</td>\n",
       "      <td>+3.03%</td>\n",
       "    </tr>\n",
       "    <tr>\n",
       "      <th>2</th>\n",
       "      <td>3</td>\n",
       "      <td>3</td>\n",
       "      <td>None</td>\n",
       "      <td>Python</td>\n",
       "      <td>10.11%</td>\n",
       "      <td>+1.85%</td>\n",
       "    </tr>\n",
       "    <tr>\n",
       "      <th>3</th>\n",
       "      <td>4</td>\n",
       "      <td>4</td>\n",
       "      <td>None</td>\n",
       "      <td>C++</td>\n",
       "      <td>6.79%</td>\n",
       "      <td>-1.34%</td>\n",
       "    </tr>\n",
       "    <tr>\n",
       "      <th>4</th>\n",
       "      <td>5</td>\n",
       "      <td>6</td>\n",
       "      <td>change</td>\n",
       "      <td>C#</td>\n",
       "      <td>5.32%</td>\n",
       "      <td>+2.05%</td>\n",
       "    </tr>\n",
       "    <tr>\n",
       "      <th>5</th>\n",
       "      <td>6</td>\n",
       "      <td>5</td>\n",
       "      <td>change</td>\n",
       "      <td>Visual Basic .NET</td>\n",
       "      <td>5.26%</td>\n",
       "      <td>-1.17%</td>\n",
       "    </tr>\n",
       "    <tr>\n",
       "      <th>6</th>\n",
       "      <td>7</td>\n",
       "      <td>7</td>\n",
       "      <td>None</td>\n",
       "      <td>JavaScript</td>\n",
       "      <td>2.05%</td>\n",
       "      <td>-0.38%</td>\n",
       "    </tr>\n",
       "    <tr>\n",
       "      <th>7</th>\n",
       "      <td>8</td>\n",
       "      <td>8</td>\n",
       "      <td>None</td>\n",
       "      <td>PHP</td>\n",
       "      <td>2.02%</td>\n",
       "      <td>-0.40%</td>\n",
       "    </tr>\n",
       "    <tr>\n",
       "      <th>8</th>\n",
       "      <td>9</td>\n",
       "      <td>9</td>\n",
       "      <td>None</td>\n",
       "      <td>SQL</td>\n",
       "      <td>1.83%</td>\n",
       "      <td>-0.09%</td>\n",
       "    </tr>\n",
       "    <tr>\n",
       "      <th>9</th>\n",
       "      <td>10</td>\n",
       "      <td>18</td>\n",
       "      <td>change</td>\n",
       "      <td>Go</td>\n",
       "      <td>1.28%</td>\n",
       "      <td>+0.26%</td>\n",
       "    </tr>\n",
       "    <tr>\n",
       "      <th>10</th>\n",
       "      <td>11</td>\n",
       "      <td>14</td>\n",
       "      <td>change</td>\n",
       "      <td>R</td>\n",
       "      <td>1.26%</td>\n",
       "      <td>-0.02%</td>\n",
       "    </tr>\n",
       "    <tr>\n",
       "      <th>11</th>\n",
       "      <td>12</td>\n",
       "      <td>12</td>\n",
       "      <td>None</td>\n",
       "      <td>Assembly language</td>\n",
       "      <td>1.25%</td>\n",
       "      <td>-0.16%</td>\n",
       "    </tr>\n",
       "    <tr>\n",
       "      <th>12</th>\n",
       "      <td>13</td>\n",
       "      <td>17</td>\n",
       "      <td>change</td>\n",
       "      <td>Swift</td>\n",
       "      <td>1.24%</td>\n",
       "      <td>+0.08%</td>\n",
       "    </tr>\n",
       "    <tr>\n",
       "      <th>13</th>\n",
       "      <td>14</td>\n",
       "      <td>15</td>\n",
       "      <td>change</td>\n",
       "      <td>Ruby</td>\n",
       "      <td>1.05%</td>\n",
       "      <td>-0.15%</td>\n",
       "    </tr>\n",
       "    <tr>\n",
       "      <th>14</th>\n",
       "      <td>15</td>\n",
       "      <td>11</td>\n",
       "      <td>change</td>\n",
       "      <td>MATLAB</td>\n",
       "      <td>0.99%</td>\n",
       "      <td>-0.48%</td>\n",
       "    </tr>\n",
       "    <tr>\n",
       "      <th>15</th>\n",
       "      <td>16</td>\n",
       "      <td>22</td>\n",
       "      <td>change</td>\n",
       "      <td>PL/SQL</td>\n",
       "      <td>0.98%</td>\n",
       "      <td>+0.25%</td>\n",
       "    </tr>\n",
       "    <tr>\n",
       "      <th>16</th>\n",
       "      <td>17</td>\n",
       "      <td>13</td>\n",
       "      <td>change</td>\n",
       "      <td>Perl</td>\n",
       "      <td>0.91%</td>\n",
       "      <td>-0.40%</td>\n",
       "    </tr>\n",
       "    <tr>\n",
       "      <th>17</th>\n",
       "      <td>18</td>\n",
       "      <td>20</td>\n",
       "      <td>change</td>\n",
       "      <td>Visual Basic</td>\n",
       "      <td>0.77%</td>\n",
       "      <td>-0.19%</td>\n",
       "    </tr>\n",
       "    <tr>\n",
       "      <th>18</th>\n",
       "      <td>19</td>\n",
       "      <td>10</td>\n",
       "      <td>change</td>\n",
       "      <td>Objective-C</td>\n",
       "      <td>0.73%</td>\n",
       "      <td>-0.95%</td>\n",
       "    </tr>\n",
       "    <tr>\n",
       "      <th>19</th>\n",
       "      <td>20</td>\n",
       "      <td>19</td>\n",
       "      <td>change</td>\n",
       "      <td>Delphi/Object Pascal</td>\n",
       "      <td>0.71%</td>\n",
       "      <td>-0.30%</td>\n",
       "    </tr>\n",
       "  </tbody>\n",
       "</table>\n",
       "</div>"
      ],
      "text/plain": [
       "    Mar 2020  Mar 2019  Change  Programming Language Ratings Change.1\n",
       "0          1         1    None                  Java  17.78%   +2.90%\n",
       "1          2         2    None                     C  16.33%   +3.03%\n",
       "2          3         3    None                Python  10.11%   +1.85%\n",
       "3          4         4    None                   C++   6.79%   -1.34%\n",
       "4          5         6  change                    C#   5.32%   +2.05%\n",
       "5          6         5  change     Visual Basic .NET   5.26%   -1.17%\n",
       "6          7         7    None            JavaScript   2.05%   -0.38%\n",
       "7          8         8    None                   PHP   2.02%   -0.40%\n",
       "8          9         9    None                   SQL   1.83%   -0.09%\n",
       "9         10        18  change                    Go   1.28%   +0.26%\n",
       "10        11        14  change                     R   1.26%   -0.02%\n",
       "11        12        12    None     Assembly language   1.25%   -0.16%\n",
       "12        13        17  change                 Swift   1.24%   +0.08%\n",
       "13        14        15  change                  Ruby   1.05%   -0.15%\n",
       "14        15        11  change                MATLAB   0.99%   -0.48%\n",
       "15        16        22  change                PL/SQL   0.98%   +0.25%\n",
       "16        17        13  change                  Perl   0.91%   -0.40%\n",
       "17        18        20  change          Visual Basic   0.77%   -0.19%\n",
       "18        19        10  change           Objective-C   0.73%   -0.95%\n",
       "19        20        19  change  Delphi/Object Pascal   0.71%   -0.30%"
      ]
     },
     "execution_count": 78,
     "metadata": {},
     "output_type": "execute_result"
    }
   ],
   "source": [
    "df2"
   ]
  },
  {
   "cell_type": "code",
   "execution_count": 79,
   "metadata": {},
   "outputs": [],
   "source": [
    "df1.to_json('df2.json', indent=False)"
   ]
  },
  {
   "cell_type": "code",
   "execution_count": 80,
   "metadata": {},
   "outputs": [],
   "source": [
    "df1.to_excel('df2.xlsx', index=False)"
   ]
  },
  {
   "cell_type": "markdown",
   "metadata": {},
   "source": [
    "### Selecting And Indexing"
   ]
  },
  {
   "cell_type": "code",
   "execution_count": 83,
   "metadata": {},
   "outputs": [
    {
     "data": {
      "text/html": [
       "<div>\n",
       "<style scoped>\n",
       "    .dataframe tbody tr th:only-of-type {\n",
       "        vertical-align: middle;\n",
       "    }\n",
       "\n",
       "    .dataframe tbody tr th {\n",
       "        vertical-align: top;\n",
       "    }\n",
       "\n",
       "    .dataframe thead th {\n",
       "        text-align: right;\n",
       "    }\n",
       "</style>\n",
       "<table border=\"1\" class=\"dataframe\">\n",
       "  <thead>\n",
       "    <tr style=\"text-align: right;\">\n",
       "      <th></th>\n",
       "      <th>Mar 2020</th>\n",
       "      <th>Mar 2019</th>\n",
       "      <th>Change</th>\n",
       "      <th>Programming Language</th>\n",
       "      <th>Ratings</th>\n",
       "      <th>Change.1</th>\n",
       "    </tr>\n",
       "  </thead>\n",
       "  <tbody>\n",
       "    <tr>\n",
       "      <th>0</th>\n",
       "      <td>1</td>\n",
       "      <td>1</td>\n",
       "      <td>NaN</td>\n",
       "      <td>Java</td>\n",
       "      <td>17.78%</td>\n",
       "      <td>+2.90%</td>\n",
       "    </tr>\n",
       "    <tr>\n",
       "      <th>1</th>\n",
       "      <td>2</td>\n",
       "      <td>2</td>\n",
       "      <td>NaN</td>\n",
       "      <td>C</td>\n",
       "      <td>16.33%</td>\n",
       "      <td>+3.03%</td>\n",
       "    </tr>\n",
       "    <tr>\n",
       "      <th>2</th>\n",
       "      <td>3</td>\n",
       "      <td>3</td>\n",
       "      <td>NaN</td>\n",
       "      <td>Python</td>\n",
       "      <td>10.11%</td>\n",
       "      <td>+1.85%</td>\n",
       "    </tr>\n",
       "    <tr>\n",
       "      <th>3</th>\n",
       "      <td>4</td>\n",
       "      <td>4</td>\n",
       "      <td>NaN</td>\n",
       "      <td>C++</td>\n",
       "      <td>6.79%</td>\n",
       "      <td>-1.34%</td>\n",
       "    </tr>\n",
       "    <tr>\n",
       "      <th>4</th>\n",
       "      <td>5</td>\n",
       "      <td>6</td>\n",
       "      <td>change</td>\n",
       "      <td>C#</td>\n",
       "      <td>5.32%</td>\n",
       "      <td>+2.05%</td>\n",
       "    </tr>\n",
       "    <tr>\n",
       "      <th>5</th>\n",
       "      <td>6</td>\n",
       "      <td>5</td>\n",
       "      <td>change</td>\n",
       "      <td>Visual Basic .NET</td>\n",
       "      <td>5.26%</td>\n",
       "      <td>-1.17%</td>\n",
       "    </tr>\n",
       "    <tr>\n",
       "      <th>6</th>\n",
       "      <td>7</td>\n",
       "      <td>7</td>\n",
       "      <td>NaN</td>\n",
       "      <td>JavaScript</td>\n",
       "      <td>2.05%</td>\n",
       "      <td>-0.38%</td>\n",
       "    </tr>\n",
       "    <tr>\n",
       "      <th>7</th>\n",
       "      <td>8</td>\n",
       "      <td>8</td>\n",
       "      <td>NaN</td>\n",
       "      <td>PHP</td>\n",
       "      <td>2.02%</td>\n",
       "      <td>-0.40%</td>\n",
       "    </tr>\n",
       "    <tr>\n",
       "      <th>8</th>\n",
       "      <td>9</td>\n",
       "      <td>9</td>\n",
       "      <td>NaN</td>\n",
       "      <td>SQL</td>\n",
       "      <td>1.83%</td>\n",
       "      <td>-0.09%</td>\n",
       "    </tr>\n",
       "    <tr>\n",
       "      <th>9</th>\n",
       "      <td>10</td>\n",
       "      <td>18</td>\n",
       "      <td>change</td>\n",
       "      <td>Go</td>\n",
       "      <td>1.28%</td>\n",
       "      <td>+0.26%</td>\n",
       "    </tr>\n",
       "    <tr>\n",
       "      <th>10</th>\n",
       "      <td>11</td>\n",
       "      <td>14</td>\n",
       "      <td>change</td>\n",
       "      <td>R</td>\n",
       "      <td>1.26%</td>\n",
       "      <td>-0.02%</td>\n",
       "    </tr>\n",
       "    <tr>\n",
       "      <th>11</th>\n",
       "      <td>12</td>\n",
       "      <td>12</td>\n",
       "      <td>NaN</td>\n",
       "      <td>Assembly language</td>\n",
       "      <td>1.25%</td>\n",
       "      <td>-0.16%</td>\n",
       "    </tr>\n",
       "    <tr>\n",
       "      <th>12</th>\n",
       "      <td>13</td>\n",
       "      <td>17</td>\n",
       "      <td>change</td>\n",
       "      <td>Swift</td>\n",
       "      <td>1.24%</td>\n",
       "      <td>+0.08%</td>\n",
       "    </tr>\n",
       "    <tr>\n",
       "      <th>13</th>\n",
       "      <td>14</td>\n",
       "      <td>15</td>\n",
       "      <td>change</td>\n",
       "      <td>Ruby</td>\n",
       "      <td>1.05%</td>\n",
       "      <td>-0.15%</td>\n",
       "    </tr>\n",
       "    <tr>\n",
       "      <th>14</th>\n",
       "      <td>15</td>\n",
       "      <td>11</td>\n",
       "      <td>change</td>\n",
       "      <td>MATLAB</td>\n",
       "      <td>0.99%</td>\n",
       "      <td>-0.48%</td>\n",
       "    </tr>\n",
       "    <tr>\n",
       "      <th>15</th>\n",
       "      <td>16</td>\n",
       "      <td>22</td>\n",
       "      <td>change</td>\n",
       "      <td>PL/SQL</td>\n",
       "      <td>0.98%</td>\n",
       "      <td>+0.25%</td>\n",
       "    </tr>\n",
       "    <tr>\n",
       "      <th>16</th>\n",
       "      <td>17</td>\n",
       "      <td>13</td>\n",
       "      <td>change</td>\n",
       "      <td>Perl</td>\n",
       "      <td>0.91%</td>\n",
       "      <td>-0.40%</td>\n",
       "    </tr>\n",
       "    <tr>\n",
       "      <th>17</th>\n",
       "      <td>18</td>\n",
       "      <td>20</td>\n",
       "      <td>change</td>\n",
       "      <td>Visual Basic</td>\n",
       "      <td>0.77%</td>\n",
       "      <td>-0.19%</td>\n",
       "    </tr>\n",
       "    <tr>\n",
       "      <th>18</th>\n",
       "      <td>19</td>\n",
       "      <td>10</td>\n",
       "      <td>change</td>\n",
       "      <td>Objective-C</td>\n",
       "      <td>0.73%</td>\n",
       "      <td>-0.95%</td>\n",
       "    </tr>\n",
       "    <tr>\n",
       "      <th>19</th>\n",
       "      <td>20</td>\n",
       "      <td>19</td>\n",
       "      <td>change</td>\n",
       "      <td>Delphi/Object Pascal</td>\n",
       "      <td>0.71%</td>\n",
       "      <td>-0.30%</td>\n",
       "    </tr>\n",
       "  </tbody>\n",
       "</table>\n",
       "</div>"
      ],
      "text/plain": [
       "    Mar 2020  Mar 2019  Change  Programming Language Ratings Change.1\n",
       "0          1         1     NaN                  Java  17.78%   +2.90%\n",
       "1          2         2     NaN                     C  16.33%   +3.03%\n",
       "2          3         3     NaN                Python  10.11%   +1.85%\n",
       "3          4         4     NaN                   C++   6.79%   -1.34%\n",
       "4          5         6  change                    C#   5.32%   +2.05%\n",
       "5          6         5  change     Visual Basic .NET   5.26%   -1.17%\n",
       "6          7         7     NaN            JavaScript   2.05%   -0.38%\n",
       "7          8         8     NaN                   PHP   2.02%   -0.40%\n",
       "8          9         9     NaN                   SQL   1.83%   -0.09%\n",
       "9         10        18  change                    Go   1.28%   +0.26%\n",
       "10        11        14  change                     R   1.26%   -0.02%\n",
       "11        12        12     NaN     Assembly language   1.25%   -0.16%\n",
       "12        13        17  change                 Swift   1.24%   +0.08%\n",
       "13        14        15  change                  Ruby   1.05%   -0.15%\n",
       "14        15        11  change                MATLAB   0.99%   -0.48%\n",
       "15        16        22  change                PL/SQL   0.98%   +0.25%\n",
       "16        17        13  change                  Perl   0.91%   -0.40%\n",
       "17        18        20  change          Visual Basic   0.77%   -0.19%\n",
       "18        19        10  change           Objective-C   0.73%   -0.95%\n",
       "19        20        19  change  Delphi/Object Pascal   0.71%   -0.30%"
      ]
     },
     "execution_count": 83,
     "metadata": {},
     "output_type": "execute_result"
    }
   ],
   "source": [
    "df1"
   ]
  },
  {
   "cell_type": "code",
   "execution_count": 84,
   "metadata": {},
   "outputs": [
    {
     "data": {
      "text/html": [
       "<div>\n",
       "<style scoped>\n",
       "    .dataframe tbody tr th:only-of-type {\n",
       "        vertical-align: middle;\n",
       "    }\n",
       "\n",
       "    .dataframe tbody tr th {\n",
       "        vertical-align: top;\n",
       "    }\n",
       "\n",
       "    .dataframe thead th {\n",
       "        text-align: right;\n",
       "    }\n",
       "</style>\n",
       "<table border=\"1\" class=\"dataframe\">\n",
       "  <thead>\n",
       "    <tr style=\"text-align: right;\">\n",
       "      <th></th>\n",
       "      <th>Mar 2020</th>\n",
       "      <th>Mar 2019</th>\n",
       "      <th>Change</th>\n",
       "      <th>Programming Language</th>\n",
       "      <th>Ratings</th>\n",
       "      <th>Change.1</th>\n",
       "    </tr>\n",
       "  </thead>\n",
       "  <tbody>\n",
       "    <tr>\n",
       "      <th>0</th>\n",
       "      <td>1</td>\n",
       "      <td>1</td>\n",
       "      <td>NaN</td>\n",
       "      <td>Java</td>\n",
       "      <td>17.78%</td>\n",
       "      <td>+2.90%</td>\n",
       "    </tr>\n",
       "    <tr>\n",
       "      <th>1</th>\n",
       "      <td>2</td>\n",
       "      <td>2</td>\n",
       "      <td>NaN</td>\n",
       "      <td>C</td>\n",
       "      <td>16.33%</td>\n",
       "      <td>+3.03%</td>\n",
       "    </tr>\n",
       "    <tr>\n",
       "      <th>2</th>\n",
       "      <td>3</td>\n",
       "      <td>3</td>\n",
       "      <td>NaN</td>\n",
       "      <td>Python</td>\n",
       "      <td>10.11%</td>\n",
       "      <td>+1.85%</td>\n",
       "    </tr>\n",
       "    <tr>\n",
       "      <th>3</th>\n",
       "      <td>4</td>\n",
       "      <td>4</td>\n",
       "      <td>NaN</td>\n",
       "      <td>C++</td>\n",
       "      <td>6.79%</td>\n",
       "      <td>-1.34%</td>\n",
       "    </tr>\n",
       "    <tr>\n",
       "      <th>4</th>\n",
       "      <td>5</td>\n",
       "      <td>6</td>\n",
       "      <td>change</td>\n",
       "      <td>C#</td>\n",
       "      <td>5.32%</td>\n",
       "      <td>+2.05%</td>\n",
       "    </tr>\n",
       "  </tbody>\n",
       "</table>\n",
       "</div>"
      ],
      "text/plain": [
       "   Mar 2020  Mar 2019  Change Programming Language Ratings Change.1\n",
       "0         1         1     NaN                 Java  17.78%   +2.90%\n",
       "1         2         2     NaN                    C  16.33%   +3.03%\n",
       "2         3         3     NaN               Python  10.11%   +1.85%\n",
       "3         4         4     NaN                  C++   6.79%   -1.34%\n",
       "4         5         6  change                   C#   5.32%   +2.05%"
      ]
     },
     "execution_count": 84,
     "metadata": {},
     "output_type": "execute_result"
    }
   ],
   "source": [
    "df1.head()"
   ]
  },
  {
   "cell_type": "code",
   "execution_count": 85,
   "metadata": {},
   "outputs": [
    {
     "data": {
      "text/html": [
       "<div>\n",
       "<style scoped>\n",
       "    .dataframe tbody tr th:only-of-type {\n",
       "        vertical-align: middle;\n",
       "    }\n",
       "\n",
       "    .dataframe tbody tr th {\n",
       "        vertical-align: top;\n",
       "    }\n",
       "\n",
       "    .dataframe thead th {\n",
       "        text-align: right;\n",
       "    }\n",
       "</style>\n",
       "<table border=\"1\" class=\"dataframe\">\n",
       "  <thead>\n",
       "    <tr style=\"text-align: right;\">\n",
       "      <th></th>\n",
       "      <th>Mar 2020</th>\n",
       "      <th>Mar 2019</th>\n",
       "      <th>Change</th>\n",
       "      <th>Programming Language</th>\n",
       "      <th>Ratings</th>\n",
       "      <th>Change.1</th>\n",
       "    </tr>\n",
       "  </thead>\n",
       "  <tbody>\n",
       "    <tr>\n",
       "      <th>15</th>\n",
       "      <td>16</td>\n",
       "      <td>22</td>\n",
       "      <td>change</td>\n",
       "      <td>PL/SQL</td>\n",
       "      <td>0.98%</td>\n",
       "      <td>+0.25%</td>\n",
       "    </tr>\n",
       "    <tr>\n",
       "      <th>16</th>\n",
       "      <td>17</td>\n",
       "      <td>13</td>\n",
       "      <td>change</td>\n",
       "      <td>Perl</td>\n",
       "      <td>0.91%</td>\n",
       "      <td>-0.40%</td>\n",
       "    </tr>\n",
       "    <tr>\n",
       "      <th>17</th>\n",
       "      <td>18</td>\n",
       "      <td>20</td>\n",
       "      <td>change</td>\n",
       "      <td>Visual Basic</td>\n",
       "      <td>0.77%</td>\n",
       "      <td>-0.19%</td>\n",
       "    </tr>\n",
       "    <tr>\n",
       "      <th>18</th>\n",
       "      <td>19</td>\n",
       "      <td>10</td>\n",
       "      <td>change</td>\n",
       "      <td>Objective-C</td>\n",
       "      <td>0.73%</td>\n",
       "      <td>-0.95%</td>\n",
       "    </tr>\n",
       "    <tr>\n",
       "      <th>19</th>\n",
       "      <td>20</td>\n",
       "      <td>19</td>\n",
       "      <td>change</td>\n",
       "      <td>Delphi/Object Pascal</td>\n",
       "      <td>0.71%</td>\n",
       "      <td>-0.30%</td>\n",
       "    </tr>\n",
       "  </tbody>\n",
       "</table>\n",
       "</div>"
      ],
      "text/plain": [
       "    Mar 2020  Mar 2019  Change  Programming Language Ratings Change.1\n",
       "15        16        22  change                PL/SQL   0.98%   +0.25%\n",
       "16        17        13  change                  Perl   0.91%   -0.40%\n",
       "17        18        20  change          Visual Basic   0.77%   -0.19%\n",
       "18        19        10  change           Objective-C   0.73%   -0.95%\n",
       "19        20        19  change  Delphi/Object Pascal   0.71%   -0.30%"
      ]
     },
     "execution_count": 85,
     "metadata": {},
     "output_type": "execute_result"
    }
   ],
   "source": [
    "df1.tail()"
   ]
  },
  {
   "cell_type": "code",
   "execution_count": 86,
   "metadata": {},
   "outputs": [
    {
     "data": {
      "text/html": [
       "<div>\n",
       "<style scoped>\n",
       "    .dataframe tbody tr th:only-of-type {\n",
       "        vertical-align: middle;\n",
       "    }\n",
       "\n",
       "    .dataframe tbody tr th {\n",
       "        vertical-align: top;\n",
       "    }\n",
       "\n",
       "    .dataframe thead th {\n",
       "        text-align: right;\n",
       "    }\n",
       "</style>\n",
       "<table border=\"1\" class=\"dataframe\">\n",
       "  <thead>\n",
       "    <tr style=\"text-align: right;\">\n",
       "      <th></th>\n",
       "      <th>Mar 2020</th>\n",
       "      <th>Mar 2019</th>\n",
       "      <th>Change</th>\n",
       "      <th>Programming Language</th>\n",
       "      <th>Ratings</th>\n",
       "      <th>Change.1</th>\n",
       "    </tr>\n",
       "  </thead>\n",
       "  <tbody>\n",
       "    <tr>\n",
       "      <th>0</th>\n",
       "      <td>1</td>\n",
       "      <td>1</td>\n",
       "      <td>NaN</td>\n",
       "      <td>Java</td>\n",
       "      <td>17.78%</td>\n",
       "      <td>+2.90%</td>\n",
       "    </tr>\n",
       "    <tr>\n",
       "      <th>1</th>\n",
       "      <td>2</td>\n",
       "      <td>2</td>\n",
       "      <td>NaN</td>\n",
       "      <td>C</td>\n",
       "      <td>16.33%</td>\n",
       "      <td>+3.03%</td>\n",
       "    </tr>\n",
       "    <tr>\n",
       "      <th>2</th>\n",
       "      <td>3</td>\n",
       "      <td>3</td>\n",
       "      <td>NaN</td>\n",
       "      <td>Python</td>\n",
       "      <td>10.11%</td>\n",
       "      <td>+1.85%</td>\n",
       "    </tr>\n",
       "    <tr>\n",
       "      <th>3</th>\n",
       "      <td>4</td>\n",
       "      <td>4</td>\n",
       "      <td>NaN</td>\n",
       "      <td>C++</td>\n",
       "      <td>6.79%</td>\n",
       "      <td>-1.34%</td>\n",
       "    </tr>\n",
       "    <tr>\n",
       "      <th>4</th>\n",
       "      <td>5</td>\n",
       "      <td>6</td>\n",
       "      <td>change</td>\n",
       "      <td>C#</td>\n",
       "      <td>5.32%</td>\n",
       "      <td>+2.05%</td>\n",
       "    </tr>\n",
       "    <tr>\n",
       "      <th>5</th>\n",
       "      <td>6</td>\n",
       "      <td>5</td>\n",
       "      <td>change</td>\n",
       "      <td>Visual Basic .NET</td>\n",
       "      <td>5.26%</td>\n",
       "      <td>-1.17%</td>\n",
       "    </tr>\n",
       "    <tr>\n",
       "      <th>6</th>\n",
       "      <td>7</td>\n",
       "      <td>7</td>\n",
       "      <td>NaN</td>\n",
       "      <td>JavaScript</td>\n",
       "      <td>2.05%</td>\n",
       "      <td>-0.38%</td>\n",
       "    </tr>\n",
       "    <tr>\n",
       "      <th>7</th>\n",
       "      <td>8</td>\n",
       "      <td>8</td>\n",
       "      <td>NaN</td>\n",
       "      <td>PHP</td>\n",
       "      <td>2.02%</td>\n",
       "      <td>-0.40%</td>\n",
       "    </tr>\n",
       "    <tr>\n",
       "      <th>8</th>\n",
       "      <td>9</td>\n",
       "      <td>9</td>\n",
       "      <td>NaN</td>\n",
       "      <td>SQL</td>\n",
       "      <td>1.83%</td>\n",
       "      <td>-0.09%</td>\n",
       "    </tr>\n",
       "    <tr>\n",
       "      <th>9</th>\n",
       "      <td>10</td>\n",
       "      <td>18</td>\n",
       "      <td>change</td>\n",
       "      <td>Go</td>\n",
       "      <td>1.28%</td>\n",
       "      <td>+0.26%</td>\n",
       "    </tr>\n",
       "  </tbody>\n",
       "</table>\n",
       "</div>"
      ],
      "text/plain": [
       "   Mar 2020  Mar 2019  Change Programming Language Ratings Change.1\n",
       "0         1         1     NaN                 Java  17.78%   +2.90%\n",
       "1         2         2     NaN                    C  16.33%   +3.03%\n",
       "2         3         3     NaN               Python  10.11%   +1.85%\n",
       "3         4         4     NaN                  C++   6.79%   -1.34%\n",
       "4         5         6  change                   C#   5.32%   +2.05%\n",
       "5         6         5  change    Visual Basic .NET   5.26%   -1.17%\n",
       "6         7         7     NaN           JavaScript   2.05%   -0.38%\n",
       "7         8         8     NaN                  PHP   2.02%   -0.40%\n",
       "8         9         9     NaN                  SQL   1.83%   -0.09%\n",
       "9        10        18  change                   Go   1.28%   +0.26%"
      ]
     },
     "execution_count": 86,
     "metadata": {},
     "output_type": "execute_result"
    }
   ],
   "source": [
    "df1.head(10)"
   ]
  },
  {
   "cell_type": "code",
   "execution_count": 88,
   "metadata": {},
   "outputs": [
    {
     "data": {
      "text/html": [
       "<div>\n",
       "<style scoped>\n",
       "    .dataframe tbody tr th:only-of-type {\n",
       "        vertical-align: middle;\n",
       "    }\n",
       "\n",
       "    .dataframe tbody tr th {\n",
       "        vertical-align: top;\n",
       "    }\n",
       "\n",
       "    .dataframe thead th {\n",
       "        text-align: right;\n",
       "    }\n",
       "</style>\n",
       "<table border=\"1\" class=\"dataframe\">\n",
       "  <thead>\n",
       "    <tr style=\"text-align: right;\">\n",
       "      <th></th>\n",
       "      <th>Programming Language</th>\n",
       "      <th>Change.1</th>\n",
       "    </tr>\n",
       "  </thead>\n",
       "  <tbody>\n",
       "    <tr>\n",
       "      <th>0</th>\n",
       "      <td>Java</td>\n",
       "      <td>+2.90%</td>\n",
       "    </tr>\n",
       "    <tr>\n",
       "      <th>1</th>\n",
       "      <td>C</td>\n",
       "      <td>+3.03%</td>\n",
       "    </tr>\n",
       "    <tr>\n",
       "      <th>2</th>\n",
       "      <td>Python</td>\n",
       "      <td>+1.85%</td>\n",
       "    </tr>\n",
       "    <tr>\n",
       "      <th>3</th>\n",
       "      <td>C++</td>\n",
       "      <td>-1.34%</td>\n",
       "    </tr>\n",
       "    <tr>\n",
       "      <th>4</th>\n",
       "      <td>C#</td>\n",
       "      <td>+2.05%</td>\n",
       "    </tr>\n",
       "    <tr>\n",
       "      <th>5</th>\n",
       "      <td>Visual Basic .NET</td>\n",
       "      <td>-1.17%</td>\n",
       "    </tr>\n",
       "    <tr>\n",
       "      <th>6</th>\n",
       "      <td>JavaScript</td>\n",
       "      <td>-0.38%</td>\n",
       "    </tr>\n",
       "    <tr>\n",
       "      <th>7</th>\n",
       "      <td>PHP</td>\n",
       "      <td>-0.40%</td>\n",
       "    </tr>\n",
       "    <tr>\n",
       "      <th>8</th>\n",
       "      <td>SQL</td>\n",
       "      <td>-0.09%</td>\n",
       "    </tr>\n",
       "    <tr>\n",
       "      <th>9</th>\n",
       "      <td>Go</td>\n",
       "      <td>+0.26%</td>\n",
       "    </tr>\n",
       "    <tr>\n",
       "      <th>10</th>\n",
       "      <td>R</td>\n",
       "      <td>-0.02%</td>\n",
       "    </tr>\n",
       "    <tr>\n",
       "      <th>11</th>\n",
       "      <td>Assembly language</td>\n",
       "      <td>-0.16%</td>\n",
       "    </tr>\n",
       "    <tr>\n",
       "      <th>12</th>\n",
       "      <td>Swift</td>\n",
       "      <td>+0.08%</td>\n",
       "    </tr>\n",
       "    <tr>\n",
       "      <th>13</th>\n",
       "      <td>Ruby</td>\n",
       "      <td>-0.15%</td>\n",
       "    </tr>\n",
       "    <tr>\n",
       "      <th>14</th>\n",
       "      <td>MATLAB</td>\n",
       "      <td>-0.48%</td>\n",
       "    </tr>\n",
       "    <tr>\n",
       "      <th>15</th>\n",
       "      <td>PL/SQL</td>\n",
       "      <td>+0.25%</td>\n",
       "    </tr>\n",
       "    <tr>\n",
       "      <th>16</th>\n",
       "      <td>Perl</td>\n",
       "      <td>-0.40%</td>\n",
       "    </tr>\n",
       "    <tr>\n",
       "      <th>17</th>\n",
       "      <td>Visual Basic</td>\n",
       "      <td>-0.19%</td>\n",
       "    </tr>\n",
       "    <tr>\n",
       "      <th>18</th>\n",
       "      <td>Objective-C</td>\n",
       "      <td>-0.95%</td>\n",
       "    </tr>\n",
       "    <tr>\n",
       "      <th>19</th>\n",
       "      <td>Delphi/Object Pascal</td>\n",
       "      <td>-0.30%</td>\n",
       "    </tr>\n",
       "  </tbody>\n",
       "</table>\n",
       "</div>"
      ],
      "text/plain": [
       "    Programming Language Change.1\n",
       "0                   Java   +2.90%\n",
       "1                      C   +3.03%\n",
       "2                 Python   +1.85%\n",
       "3                    C++   -1.34%\n",
       "4                     C#   +2.05%\n",
       "5      Visual Basic .NET   -1.17%\n",
       "6             JavaScript   -0.38%\n",
       "7                    PHP   -0.40%\n",
       "8                    SQL   -0.09%\n",
       "9                     Go   +0.26%\n",
       "10                     R   -0.02%\n",
       "11     Assembly language   -0.16%\n",
       "12                 Swift   +0.08%\n",
       "13                  Ruby   -0.15%\n",
       "14                MATLAB   -0.48%\n",
       "15                PL/SQL   +0.25%\n",
       "16                  Perl   -0.40%\n",
       "17          Visual Basic   -0.19%\n",
       "18           Objective-C   -0.95%\n",
       "19  Delphi/Object Pascal   -0.30%"
      ]
     },
     "execution_count": 88,
     "metadata": {},
     "output_type": "execute_result"
    }
   ],
   "source": [
    "sub_df = df1[['Programming Language', 'Change.1']]\n",
    "sub_df"
   ]
  },
  {
   "cell_type": "code",
   "execution_count": 89,
   "metadata": {},
   "outputs": [
    {
     "data": {
      "text/html": [
       "<div>\n",
       "<style scoped>\n",
       "    .dataframe tbody tr th:only-of-type {\n",
       "        vertical-align: middle;\n",
       "    }\n",
       "\n",
       "    .dataframe tbody tr th {\n",
       "        vertical-align: top;\n",
       "    }\n",
       "\n",
       "    .dataframe thead th {\n",
       "        text-align: right;\n",
       "    }\n",
       "</style>\n",
       "<table border=\"1\" class=\"dataframe\">\n",
       "  <thead>\n",
       "    <tr style=\"text-align: right;\">\n",
       "      <th></th>\n",
       "      <th>Programming Language</th>\n",
       "      <th>Change.1</th>\n",
       "    </tr>\n",
       "  </thead>\n",
       "  <tbody>\n",
       "    <tr>\n",
       "      <th>2</th>\n",
       "      <td>Python</td>\n",
       "      <td>+1.85%</td>\n",
       "    </tr>\n",
       "  </tbody>\n",
       "</table>\n",
       "</div>"
      ],
      "text/plain": [
       "  Programming Language Change.1\n",
       "2               Python   +1.85%"
      ]
     },
     "execution_count": 89,
     "metadata": {},
     "output_type": "execute_result"
    }
   ],
   "source": [
    "sub_df.iloc[2:3, :]"
   ]
  },
  {
   "cell_type": "code",
   "execution_count": 90,
   "metadata": {},
   "outputs": [
    {
     "data": {
      "text/html": [
       "<div>\n",
       "<style scoped>\n",
       "    .dataframe tbody tr th:only-of-type {\n",
       "        vertical-align: middle;\n",
       "    }\n",
       "\n",
       "    .dataframe tbody tr th {\n",
       "        vertical-align: top;\n",
       "    }\n",
       "\n",
       "    .dataframe thead th {\n",
       "        text-align: right;\n",
       "    }\n",
       "</style>\n",
       "<table border=\"1\" class=\"dataframe\">\n",
       "  <thead>\n",
       "    <tr style=\"text-align: right;\">\n",
       "      <th></th>\n",
       "      <th>Programming Language</th>\n",
       "      <th>Change.1</th>\n",
       "    </tr>\n",
       "  </thead>\n",
       "  <tbody>\n",
       "    <tr>\n",
       "      <th>0</th>\n",
       "      <td>Java</td>\n",
       "      <td>+2.90%</td>\n",
       "    </tr>\n",
       "    <tr>\n",
       "      <th>2</th>\n",
       "      <td>Python</td>\n",
       "      <td>+1.85%</td>\n",
       "    </tr>\n",
       "    <tr>\n",
       "      <th>4</th>\n",
       "      <td>C#</td>\n",
       "      <td>+2.05%</td>\n",
       "    </tr>\n",
       "    <tr>\n",
       "      <th>6</th>\n",
       "      <td>JavaScript</td>\n",
       "      <td>-0.38%</td>\n",
       "    </tr>\n",
       "    <tr>\n",
       "      <th>8</th>\n",
       "      <td>SQL</td>\n",
       "      <td>-0.09%</td>\n",
       "    </tr>\n",
       "  </tbody>\n",
       "</table>\n",
       "</div>"
      ],
      "text/plain": [
       "  Programming Language Change.1\n",
       "0                 Java   +2.90%\n",
       "2               Python   +1.85%\n",
       "4                   C#   +2.05%\n",
       "6           JavaScript   -0.38%\n",
       "8                  SQL   -0.09%"
      ]
     },
     "execution_count": 90,
     "metadata": {},
     "output_type": "execute_result"
    }
   ],
   "source": [
    "sub_df.iloc[0:10:2, :] #根据索引过滤"
   ]
  },
  {
   "cell_type": "code",
   "execution_count": 91,
   "metadata": {},
   "outputs": [
    {
     "data": {
      "text/html": [
       "<div>\n",
       "<style scoped>\n",
       "    .dataframe tbody tr th:only-of-type {\n",
       "        vertical-align: middle;\n",
       "    }\n",
       "\n",
       "    .dataframe tbody tr th {\n",
       "        vertical-align: top;\n",
       "    }\n",
       "\n",
       "    .dataframe thead th {\n",
       "        text-align: right;\n",
       "    }\n",
       "</style>\n",
       "<table border=\"1\" class=\"dataframe\">\n",
       "  <thead>\n",
       "    <tr style=\"text-align: right;\">\n",
       "      <th></th>\n",
       "      <th>Programming Language</th>\n",
       "      <th>Change.1</th>\n",
       "    </tr>\n",
       "  </thead>\n",
       "  <tbody>\n",
       "    <tr>\n",
       "      <th>4</th>\n",
       "      <td>C#</td>\n",
       "      <td>+2.05%</td>\n",
       "    </tr>\n",
       "    <tr>\n",
       "      <th>5</th>\n",
       "      <td>Visual Basic .NET</td>\n",
       "      <td>-1.17%</td>\n",
       "    </tr>\n",
       "    <tr>\n",
       "      <th>6</th>\n",
       "      <td>JavaScript</td>\n",
       "      <td>-0.38%</td>\n",
       "    </tr>\n",
       "    <tr>\n",
       "      <th>7</th>\n",
       "      <td>PHP</td>\n",
       "      <td>-0.40%</td>\n",
       "    </tr>\n",
       "    <tr>\n",
       "      <th>8</th>\n",
       "      <td>SQL</td>\n",
       "      <td>-0.09%</td>\n",
       "    </tr>\n",
       "  </tbody>\n",
       "</table>\n",
       "</div>"
      ],
      "text/plain": [
       "  Programming Language Change.1\n",
       "4                   C#   +2.05%\n",
       "5    Visual Basic .NET   -1.17%\n",
       "6           JavaScript   -0.38%\n",
       "7                  PHP   -0.40%\n",
       "8                  SQL   -0.09%"
      ]
     },
     "execution_count": 91,
     "metadata": {},
     "output_type": "execute_result"
    }
   ],
   "source": [
    "sub_df.loc[4:8] #根据行或者列的名称过滤"
   ]
  },
  {
   "cell_type": "markdown",
   "metadata": {},
   "source": [
    "### Reindexing Series and Dataframe"
   ]
  },
  {
   "cell_type": "code",
   "execution_count": 104,
   "metadata": {},
   "outputs": [],
   "source": [
    "s1 = pd.Series([1, 2, 3, 4, 5], index=['a', 'b', 'c', 'd', 'e'])"
   ]
  },
  {
   "cell_type": "code",
   "execution_count": 105,
   "metadata": {},
   "outputs": [
    {
     "data": {
      "text/plain": [
       "a    1\n",
       "b    2\n",
       "c    3\n",
       "d    4\n",
       "e    5\n",
       "dtype: int64"
      ]
     },
     "execution_count": 105,
     "metadata": {},
     "output_type": "execute_result"
    }
   ],
   "source": [
    "s1"
   ]
  },
  {
   "cell_type": "code",
   "execution_count": 106,
   "metadata": {},
   "outputs": [
    {
     "data": {
      "text/plain": [
       "a    1.0\n",
       "b    2.0\n",
       "c    3.0\n",
       "d    4.0\n",
       "f    NaN\n",
       "dtype: float64"
      ]
     },
     "execution_count": 106,
     "metadata": {},
     "output_type": "execute_result"
    }
   ],
   "source": [
    "s1.reindex(index=['a', 'b', 'c', 'd', 'f'])"
   ]
  },
  {
   "cell_type": "code",
   "execution_count": 107,
   "metadata": {},
   "outputs": [
    {
     "data": {
      "text/plain": [
       "a    1\n",
       "b    2\n",
       "c    3\n",
       "d    4\n",
       "f    5\n",
       "dtype: int64"
      ]
     },
     "execution_count": 107,
     "metadata": {},
     "output_type": "execute_result"
    }
   ],
   "source": [
    "s1.reindex(index=['a', 'b', 'c', 'd', 'f'], method='ffill')"
   ]
  },
  {
   "cell_type": "code",
   "execution_count": 108,
   "metadata": {},
   "outputs": [
    {
     "data": {
      "text/plain": [
       "1     a\n",
       "5     b\n",
       "10    c\n",
       "dtype: object"
      ]
     },
     "execution_count": 108,
     "metadata": {},
     "output_type": "execute_result"
    }
   ],
   "source": [
    "s2 = pd.Series(['a', 'b', 'c'], index=[1, 5, 10])\n",
    "s2"
   ]
  },
  {
   "cell_type": "code",
   "execution_count": 109,
   "metadata": {},
   "outputs": [
    {
     "data": {
      "text/plain": [
       "0     NaN\n",
       "1       a\n",
       "2     NaN\n",
       "3     NaN\n",
       "4     NaN\n",
       "5       b\n",
       "6     NaN\n",
       "7     NaN\n",
       "8     NaN\n",
       "9     NaN\n",
       "10      c\n",
       "11    NaN\n",
       "12    NaN\n",
       "13    NaN\n",
       "14    NaN\n",
       "dtype: object"
      ]
     },
     "execution_count": 109,
     "metadata": {},
     "output_type": "execute_result"
    }
   ],
   "source": [
    "s2.reindex(np.arange(15))"
   ]
  },
  {
   "cell_type": "code",
   "execution_count": 110,
   "metadata": {},
   "outputs": [
    {
     "data": {
      "text/plain": [
       "0     NaN\n",
       "1       a\n",
       "2       a\n",
       "3       a\n",
       "4       a\n",
       "5       b\n",
       "6       b\n",
       "7       b\n",
       "8       b\n",
       "9       b\n",
       "10      c\n",
       "11      c\n",
       "12      c\n",
       "13      c\n",
       "14      c\n",
       "dtype: object"
      ]
     },
     "execution_count": 110,
     "metadata": {},
     "output_type": "execute_result"
    }
   ],
   "source": [
    "s2.reindex(np.arange(15), method='ffill')"
   ]
  },
  {
   "cell_type": "code",
   "execution_count": 117,
   "metadata": {},
   "outputs": [],
   "source": [
    "df1 = DataFrame(np.random.rand(25).reshape([5, -1]), index=['a', 'b', 'c', 'd', 'e'], columns=['c1', 'c2', 'c3', 'c4', 'c5'])"
   ]
  },
  {
   "cell_type": "code",
   "execution_count": 118,
   "metadata": {},
   "outputs": [
    {
     "data": {
      "text/html": [
       "<div>\n",
       "<style scoped>\n",
       "    .dataframe tbody tr th:only-of-type {\n",
       "        vertical-align: middle;\n",
       "    }\n",
       "\n",
       "    .dataframe tbody tr th {\n",
       "        vertical-align: top;\n",
       "    }\n",
       "\n",
       "    .dataframe thead th {\n",
       "        text-align: right;\n",
       "    }\n",
       "</style>\n",
       "<table border=\"1\" class=\"dataframe\">\n",
       "  <thead>\n",
       "    <tr style=\"text-align: right;\">\n",
       "      <th></th>\n",
       "      <th>c1</th>\n",
       "      <th>c2</th>\n",
       "      <th>c3</th>\n",
       "      <th>c4</th>\n",
       "      <th>c5</th>\n",
       "    </tr>\n",
       "  </thead>\n",
       "  <tbody>\n",
       "    <tr>\n",
       "      <th>a</th>\n",
       "      <td>0.178456</td>\n",
       "      <td>0.880768</td>\n",
       "      <td>0.248985</td>\n",
       "      <td>0.464761</td>\n",
       "      <td>0.782054</td>\n",
       "    </tr>\n",
       "    <tr>\n",
       "      <th>b</th>\n",
       "      <td>0.468120</td>\n",
       "      <td>0.345523</td>\n",
       "      <td>0.402044</td>\n",
       "      <td>0.188579</td>\n",
       "      <td>0.355698</td>\n",
       "    </tr>\n",
       "    <tr>\n",
       "      <th>c</th>\n",
       "      <td>0.319340</td>\n",
       "      <td>0.369774</td>\n",
       "      <td>0.406277</td>\n",
       "      <td>0.106798</td>\n",
       "      <td>0.841643</td>\n",
       "    </tr>\n",
       "    <tr>\n",
       "      <th>d</th>\n",
       "      <td>0.614276</td>\n",
       "      <td>0.175984</td>\n",
       "      <td>0.028658</td>\n",
       "      <td>0.468025</td>\n",
       "      <td>0.805391</td>\n",
       "    </tr>\n",
       "    <tr>\n",
       "      <th>e</th>\n",
       "      <td>0.480245</td>\n",
       "      <td>0.379536</td>\n",
       "      <td>0.206631</td>\n",
       "      <td>0.300447</td>\n",
       "      <td>0.708443</td>\n",
       "    </tr>\n",
       "  </tbody>\n",
       "</table>\n",
       "</div>"
      ],
      "text/plain": [
       "         c1        c2        c3        c4        c5\n",
       "a  0.178456  0.880768  0.248985  0.464761  0.782054\n",
       "b  0.468120  0.345523  0.402044  0.188579  0.355698\n",
       "c  0.319340  0.369774  0.406277  0.106798  0.841643\n",
       "d  0.614276  0.175984  0.028658  0.468025  0.805391\n",
       "e  0.480245  0.379536  0.206631  0.300447  0.708443"
      ]
     },
     "execution_count": 118,
     "metadata": {},
     "output_type": "execute_result"
    }
   ],
   "source": [
    "df1"
   ]
  },
  {
   "cell_type": "code",
   "execution_count": 119,
   "metadata": {},
   "outputs": [
    {
     "data": {
      "text/html": [
       "<div>\n",
       "<style scoped>\n",
       "    .dataframe tbody tr th:only-of-type {\n",
       "        vertical-align: middle;\n",
       "    }\n",
       "\n",
       "    .dataframe tbody tr th {\n",
       "        vertical-align: top;\n",
       "    }\n",
       "\n",
       "    .dataframe thead th {\n",
       "        text-align: right;\n",
       "    }\n",
       "</style>\n",
       "<table border=\"1\" class=\"dataframe\">\n",
       "  <thead>\n",
       "    <tr style=\"text-align: right;\">\n",
       "      <th></th>\n",
       "      <th>c1</th>\n",
       "      <th>c2</th>\n",
       "      <th>c3</th>\n",
       "      <th>c4</th>\n",
       "      <th>c5</th>\n",
       "    </tr>\n",
       "  </thead>\n",
       "  <tbody>\n",
       "    <tr>\n",
       "      <th>a</th>\n",
       "      <td>0.178456</td>\n",
       "      <td>0.880768</td>\n",
       "      <td>0.248985</td>\n",
       "      <td>0.464761</td>\n",
       "      <td>0.782054</td>\n",
       "    </tr>\n",
       "    <tr>\n",
       "      <th>b</th>\n",
       "      <td>0.468120</td>\n",
       "      <td>0.345523</td>\n",
       "      <td>0.402044</td>\n",
       "      <td>0.188579</td>\n",
       "      <td>0.355698</td>\n",
       "    </tr>\n",
       "    <tr>\n",
       "      <th>f</th>\n",
       "      <td>NaN</td>\n",
       "      <td>NaN</td>\n",
       "      <td>NaN</td>\n",
       "      <td>NaN</td>\n",
       "      <td>NaN</td>\n",
       "    </tr>\n",
       "    <tr>\n",
       "      <th>c</th>\n",
       "      <td>0.319340</td>\n",
       "      <td>0.369774</td>\n",
       "      <td>0.406277</td>\n",
       "      <td>0.106798</td>\n",
       "      <td>0.841643</td>\n",
       "    </tr>\n",
       "    <tr>\n",
       "      <th>d</th>\n",
       "      <td>0.614276</td>\n",
       "      <td>0.175984</td>\n",
       "      <td>0.028658</td>\n",
       "      <td>0.468025</td>\n",
       "      <td>0.805391</td>\n",
       "    </tr>\n",
       "    <tr>\n",
       "      <th>e</th>\n",
       "      <td>0.480245</td>\n",
       "      <td>0.379536</td>\n",
       "      <td>0.206631</td>\n",
       "      <td>0.300447</td>\n",
       "      <td>0.708443</td>\n",
       "    </tr>\n",
       "  </tbody>\n",
       "</table>\n",
       "</div>"
      ],
      "text/plain": [
       "         c1        c2        c3        c4        c5\n",
       "a  0.178456  0.880768  0.248985  0.464761  0.782054\n",
       "b  0.468120  0.345523  0.402044  0.188579  0.355698\n",
       "f       NaN       NaN       NaN       NaN       NaN\n",
       "c  0.319340  0.369774  0.406277  0.106798  0.841643\n",
       "d  0.614276  0.175984  0.028658  0.468025  0.805391\n",
       "e  0.480245  0.379536  0.206631  0.300447  0.708443"
      ]
     },
     "execution_count": 119,
     "metadata": {},
     "output_type": "execute_result"
    }
   ],
   "source": [
    "df1.reindex(index=['a', 'b', 'f', 'c', 'd', 'e'])"
   ]
  },
  {
   "cell_type": "code",
   "execution_count": 120,
   "metadata": {},
   "outputs": [
    {
     "data": {
      "text/html": [
       "<div>\n",
       "<style scoped>\n",
       "    .dataframe tbody tr th:only-of-type {\n",
       "        vertical-align: middle;\n",
       "    }\n",
       "\n",
       "    .dataframe tbody tr th {\n",
       "        vertical-align: top;\n",
       "    }\n",
       "\n",
       "    .dataframe thead th {\n",
       "        text-align: right;\n",
       "    }\n",
       "</style>\n",
       "<table border=\"1\" class=\"dataframe\">\n",
       "  <thead>\n",
       "    <tr style=\"text-align: right;\">\n",
       "      <th></th>\n",
       "      <th>c1</th>\n",
       "      <th>c2</th>\n",
       "      <th>c3</th>\n",
       "      <th>c6</th>\n",
       "      <th>c4</th>\n",
       "      <th>c5</th>\n",
       "    </tr>\n",
       "  </thead>\n",
       "  <tbody>\n",
       "    <tr>\n",
       "      <th>a</th>\n",
       "      <td>0.178456</td>\n",
       "      <td>0.880768</td>\n",
       "      <td>0.248985</td>\n",
       "      <td>NaN</td>\n",
       "      <td>0.464761</td>\n",
       "      <td>0.782054</td>\n",
       "    </tr>\n",
       "    <tr>\n",
       "      <th>b</th>\n",
       "      <td>0.468120</td>\n",
       "      <td>0.345523</td>\n",
       "      <td>0.402044</td>\n",
       "      <td>NaN</td>\n",
       "      <td>0.188579</td>\n",
       "      <td>0.355698</td>\n",
       "    </tr>\n",
       "    <tr>\n",
       "      <th>c</th>\n",
       "      <td>0.319340</td>\n",
       "      <td>0.369774</td>\n",
       "      <td>0.406277</td>\n",
       "      <td>NaN</td>\n",
       "      <td>0.106798</td>\n",
       "      <td>0.841643</td>\n",
       "    </tr>\n",
       "    <tr>\n",
       "      <th>d</th>\n",
       "      <td>0.614276</td>\n",
       "      <td>0.175984</td>\n",
       "      <td>0.028658</td>\n",
       "      <td>NaN</td>\n",
       "      <td>0.468025</td>\n",
       "      <td>0.805391</td>\n",
       "    </tr>\n",
       "    <tr>\n",
       "      <th>e</th>\n",
       "      <td>0.480245</td>\n",
       "      <td>0.379536</td>\n",
       "      <td>0.206631</td>\n",
       "      <td>NaN</td>\n",
       "      <td>0.300447</td>\n",
       "      <td>0.708443</td>\n",
       "    </tr>\n",
       "  </tbody>\n",
       "</table>\n",
       "</div>"
      ],
      "text/plain": [
       "         c1        c2        c3  c6        c4        c5\n",
       "a  0.178456  0.880768  0.248985 NaN  0.464761  0.782054\n",
       "b  0.468120  0.345523  0.402044 NaN  0.188579  0.355698\n",
       "c  0.319340  0.369774  0.406277 NaN  0.106798  0.841643\n",
       "d  0.614276  0.175984  0.028658 NaN  0.468025  0.805391\n",
       "e  0.480245  0.379536  0.206631 NaN  0.300447  0.708443"
      ]
     },
     "execution_count": 120,
     "metadata": {},
     "output_type": "execute_result"
    }
   ],
   "source": [
    "df1.reindex(columns=['c1', 'c2', 'c3', 'c6',  'c4', 'c5'])"
   ]
  },
  {
   "cell_type": "code",
   "execution_count": 121,
   "metadata": {},
   "outputs": [
    {
     "data": {
      "text/html": [
       "<div>\n",
       "<style scoped>\n",
       "    .dataframe tbody tr th:only-of-type {\n",
       "        vertical-align: middle;\n",
       "    }\n",
       "\n",
       "    .dataframe tbody tr th {\n",
       "        vertical-align: top;\n",
       "    }\n",
       "\n",
       "    .dataframe thead th {\n",
       "        text-align: right;\n",
       "    }\n",
       "</style>\n",
       "<table border=\"1\" class=\"dataframe\">\n",
       "  <thead>\n",
       "    <tr style=\"text-align: right;\">\n",
       "      <th></th>\n",
       "      <th>c1</th>\n",
       "      <th>c2</th>\n",
       "      <th>c3</th>\n",
       "      <th>c4</th>\n",
       "      <th>c5</th>\n",
       "    </tr>\n",
       "  </thead>\n",
       "  <tbody>\n",
       "    <tr>\n",
       "      <th>a</th>\n",
       "      <td>0.178456</td>\n",
       "      <td>0.880768</td>\n",
       "      <td>0.248985</td>\n",
       "      <td>0.464761</td>\n",
       "      <td>0.782054</td>\n",
       "    </tr>\n",
       "    <tr>\n",
       "      <th>b</th>\n",
       "      <td>0.468120</td>\n",
       "      <td>0.345523</td>\n",
       "      <td>0.402044</td>\n",
       "      <td>0.188579</td>\n",
       "      <td>0.355698</td>\n",
       "    </tr>\n",
       "    <tr>\n",
       "      <th>c</th>\n",
       "      <td>0.319340</td>\n",
       "      <td>0.369774</td>\n",
       "      <td>0.406277</td>\n",
       "      <td>0.106798</td>\n",
       "      <td>0.841643</td>\n",
       "    </tr>\n",
       "    <tr>\n",
       "      <th>d</th>\n",
       "      <td>0.614276</td>\n",
       "      <td>0.175984</td>\n",
       "      <td>0.028658</td>\n",
       "      <td>0.468025</td>\n",
       "      <td>0.805391</td>\n",
       "    </tr>\n",
       "    <tr>\n",
       "      <th>e</th>\n",
       "      <td>0.480245</td>\n",
       "      <td>0.379536</td>\n",
       "      <td>0.206631</td>\n",
       "      <td>0.300447</td>\n",
       "      <td>0.708443</td>\n",
       "    </tr>\n",
       "  </tbody>\n",
       "</table>\n",
       "</div>"
      ],
      "text/plain": [
       "         c1        c2        c3        c4        c5\n",
       "a  0.178456  0.880768  0.248985  0.464761  0.782054\n",
       "b  0.468120  0.345523  0.402044  0.188579  0.355698\n",
       "c  0.319340  0.369774  0.406277  0.106798  0.841643\n",
       "d  0.614276  0.175984  0.028658  0.468025  0.805391\n",
       "e  0.480245  0.379536  0.206631  0.300447  0.708443"
      ]
     },
     "execution_count": 121,
     "metadata": {},
     "output_type": "execute_result"
    }
   ],
   "source": [
    "df1"
   ]
  },
  {
   "cell_type": "code",
   "execution_count": 122,
   "metadata": {},
   "outputs": [
    {
     "data": {
      "text/html": [
       "<div>\n",
       "<style scoped>\n",
       "    .dataframe tbody tr th:only-of-type {\n",
       "        vertical-align: middle;\n",
       "    }\n",
       "\n",
       "    .dataframe tbody tr th {\n",
       "        vertical-align: top;\n",
       "    }\n",
       "\n",
       "    .dataframe thead th {\n",
       "        text-align: right;\n",
       "    }\n",
       "</style>\n",
       "<table border=\"1\" class=\"dataframe\">\n",
       "  <thead>\n",
       "    <tr style=\"text-align: right;\">\n",
       "      <th></th>\n",
       "      <th>c1</th>\n",
       "      <th>c2</th>\n",
       "      <th>c3</th>\n",
       "      <th>c4</th>\n",
       "      <th>c5</th>\n",
       "    </tr>\n",
       "  </thead>\n",
       "  <tbody>\n",
       "    <tr>\n",
       "      <th>b</th>\n",
       "      <td>0.468120</td>\n",
       "      <td>0.345523</td>\n",
       "      <td>0.402044</td>\n",
       "      <td>0.188579</td>\n",
       "      <td>0.355698</td>\n",
       "    </tr>\n",
       "    <tr>\n",
       "      <th>c</th>\n",
       "      <td>0.319340</td>\n",
       "      <td>0.369774</td>\n",
       "      <td>0.406277</td>\n",
       "      <td>0.106798</td>\n",
       "      <td>0.841643</td>\n",
       "    </tr>\n",
       "    <tr>\n",
       "      <th>d</th>\n",
       "      <td>0.614276</td>\n",
       "      <td>0.175984</td>\n",
       "      <td>0.028658</td>\n",
       "      <td>0.468025</td>\n",
       "      <td>0.805391</td>\n",
       "    </tr>\n",
       "    <tr>\n",
       "      <th>e</th>\n",
       "      <td>0.480245</td>\n",
       "      <td>0.379536</td>\n",
       "      <td>0.206631</td>\n",
       "      <td>0.300447</td>\n",
       "      <td>0.708443</td>\n",
       "    </tr>\n",
       "  </tbody>\n",
       "</table>\n",
       "</div>"
      ],
      "text/plain": [
       "         c1        c2        c3        c4        c5\n",
       "b  0.468120  0.345523  0.402044  0.188579  0.355698\n",
       "c  0.319340  0.369774  0.406277  0.106798  0.841643\n",
       "d  0.614276  0.175984  0.028658  0.468025  0.805391\n",
       "e  0.480245  0.379536  0.206631  0.300447  0.708443"
      ]
     },
     "execution_count": 122,
     "metadata": {},
     "output_type": "execute_result"
    }
   ],
   "source": [
    "df1.drop('a',axis=0)"
   ]
  },
  {
   "cell_type": "code",
   "execution_count": 124,
   "metadata": {},
   "outputs": [
    {
     "data": {
      "text/html": [
       "<div>\n",
       "<style scoped>\n",
       "    .dataframe tbody tr th:only-of-type {\n",
       "        vertical-align: middle;\n",
       "    }\n",
       "\n",
       "    .dataframe tbody tr th {\n",
       "        vertical-align: top;\n",
       "    }\n",
       "\n",
       "    .dataframe thead th {\n",
       "        text-align: right;\n",
       "    }\n",
       "</style>\n",
       "<table border=\"1\" class=\"dataframe\">\n",
       "  <thead>\n",
       "    <tr style=\"text-align: right;\">\n",
       "      <th></th>\n",
       "      <th>c2</th>\n",
       "      <th>c3</th>\n",
       "      <th>c4</th>\n",
       "      <th>c5</th>\n",
       "    </tr>\n",
       "  </thead>\n",
       "  <tbody>\n",
       "    <tr>\n",
       "      <th>a</th>\n",
       "      <td>0.880768</td>\n",
       "      <td>0.248985</td>\n",
       "      <td>0.464761</td>\n",
       "      <td>0.782054</td>\n",
       "    </tr>\n",
       "    <tr>\n",
       "      <th>b</th>\n",
       "      <td>0.345523</td>\n",
       "      <td>0.402044</td>\n",
       "      <td>0.188579</td>\n",
       "      <td>0.355698</td>\n",
       "    </tr>\n",
       "    <tr>\n",
       "      <th>c</th>\n",
       "      <td>0.369774</td>\n",
       "      <td>0.406277</td>\n",
       "      <td>0.106798</td>\n",
       "      <td>0.841643</td>\n",
       "    </tr>\n",
       "    <tr>\n",
       "      <th>d</th>\n",
       "      <td>0.175984</td>\n",
       "      <td>0.028658</td>\n",
       "      <td>0.468025</td>\n",
       "      <td>0.805391</td>\n",
       "    </tr>\n",
       "    <tr>\n",
       "      <th>e</th>\n",
       "      <td>0.379536</td>\n",
       "      <td>0.206631</td>\n",
       "      <td>0.300447</td>\n",
       "      <td>0.708443</td>\n",
       "    </tr>\n",
       "  </tbody>\n",
       "</table>\n",
       "</div>"
      ],
      "text/plain": [
       "         c2        c3        c4        c5\n",
       "a  0.880768  0.248985  0.464761  0.782054\n",
       "b  0.345523  0.402044  0.188579  0.355698\n",
       "c  0.369774  0.406277  0.106798  0.841643\n",
       "d  0.175984  0.028658  0.468025  0.805391\n",
       "e  0.379536  0.206631  0.300447  0.708443"
      ]
     },
     "execution_count": 124,
     "metadata": {},
     "output_type": "execute_result"
    }
   ],
   "source": [
    "df1.drop('c1', axis=1)"
   ]
  },
  {
   "cell_type": "code",
   "execution_count": 125,
   "metadata": {},
   "outputs": [
    {
     "data": {
      "text/plain": [
       "a    1\n",
       "b    2\n",
       "c    3\n",
       "d    4\n",
       "e    5\n",
       "dtype: int64"
      ]
     },
     "execution_count": 125,
     "metadata": {},
     "output_type": "execute_result"
    }
   ],
   "source": [
    "s1"
   ]
  },
  {
   "cell_type": "code",
   "execution_count": 126,
   "metadata": {},
   "outputs": [
    {
     "data": {
      "text/plain": [
       "b    2\n",
       "c    3\n",
       "d    4\n",
       "e    5\n",
       "dtype: int64"
      ]
     },
     "execution_count": 126,
     "metadata": {},
     "output_type": "execute_result"
    }
   ],
   "source": [
    "s1.drop('a')"
   ]
  },
  {
   "cell_type": "markdown",
   "metadata": {},
   "source": [
    "### NaN"
   ]
  },
  {
   "cell_type": "code",
   "execution_count": 127,
   "metadata": {},
   "outputs": [
    {
     "data": {
      "text/plain": [
       "nan"
      ]
     },
     "execution_count": 127,
     "metadata": {},
     "output_type": "execute_result"
    }
   ],
   "source": [
    "np.nan"
   ]
  },
  {
   "cell_type": "code",
   "execution_count": 128,
   "metadata": {},
   "outputs": [
    {
     "data": {
      "text/plain": [
       "a    1\n",
       "b    2\n",
       "c    3\n",
       "d    4\n",
       "e    5\n",
       "dtype: int64"
      ]
     },
     "execution_count": 128,
     "metadata": {},
     "output_type": "execute_result"
    }
   ],
   "source": [
    "s1"
   ]
  },
  {
   "cell_type": "code",
   "execution_count": 129,
   "metadata": {},
   "outputs": [
    {
     "data": {
      "text/plain": [
       "a    False\n",
       "b    False\n",
       "c    False\n",
       "d    False\n",
       "e    False\n",
       "dtype: bool"
      ]
     },
     "execution_count": 129,
     "metadata": {},
     "output_type": "execute_result"
    }
   ],
   "source": [
    "s1.isnull()"
   ]
  },
  {
   "cell_type": "code",
   "execution_count": null,
   "metadata": {},
   "outputs": [],
   "source": [
    "#isnan() fillna() dropna()"
   ]
  },
  {
   "cell_type": "markdown",
   "metadata": {},
   "source": [
    "### 多级Index"
   ]
  },
  {
   "cell_type": "markdown",
   "metadata": {},
   "source": [
    "### Mapping and Replace"
   ]
  },
  {
   "cell_type": "code",
   "execution_count": null,
   "metadata": {},
   "outputs": [],
   "source": []
  }
 ],
 "metadata": {
  "kernelspec": {
   "display_name": "Python3.6",
   "language": "python",
   "name": "py36"
  },
  "language_info": {
   "codemirror_mode": {
    "name": "ipython",
    "version": 3
   },
   "file_extension": ".py",
   "mimetype": "text/x-python",
   "name": "python",
   "nbconvert_exporter": "python",
   "pygments_lexer": "ipython3",
   "version": "3.6.2"
  }
 },
 "nbformat": 4,
 "nbformat_minor": 2
}

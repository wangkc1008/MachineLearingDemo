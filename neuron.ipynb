{
 "cells": [
  {
   "cell_type": "code",
   "execution_count": 1,
   "metadata": {},
   "outputs": [
    {
     "name": "stdout",
     "output_type": "stream",
     "text": [
      "['batches.meta', 'data_batch_1', 'data_batch_2', 'data_batch_3', 'data_batch_4', 'data_batch_5', 'readme.html', 'test_batch']\n"
     ]
    }
   ],
   "source": [
    "import tensorflow as tf\n",
    "import _pickle as cPickle # python3中cPickle包已被替代\n",
    "import os\n",
    "import numpy\n",
    "\n",
    "CIFAR_DIR = './cifar-10-python/cifar-10-batches-py'\n",
    "print(os.listdir(CIFAR_DIR))"
   ]
  },
  {
   "cell_type": "code",
   "execution_count": 2,
   "metadata": {},
   "outputs": [],
   "source": [
    "def load_data(filename):\n",
    "    \"\"\"read data from load file\"\"\"\n",
    "    with open(filename, 'rb') as f:\n",
    "        data = cPickle.load(f, encoding='iso-8859-1') # python3打开pickle数据需要指定编码\n",
    "        return data['data'], data['labels']"
   ]
  },
  {
   "cell_type": "code",
   "execution_count": null,
   "metadata": {},
   "outputs": [],
   "source": [
    "\"\"\"tensorflow calculate graph\"\"\"\n",
    "# 为data(0-1)提供占位符 数据类型为float32 大小为[None, 3072] 行数暂定(计算梯度下降时应对mini_batch的可变性) 列数为3072\n",
    "x = tf.placeholder(tf.float32, [None, 3072])\n",
    "# 为label提供占位符 数据类型离散 \n",
    "y = tf.placeholder(tf.int64, [None])\n",
    "\n",
    "#get_variable() 当已经定义了名字为w的变量时则使用已经定义的w 否则新定义w\n",
    "#与每个样本做内积 大小[3072, 1]为每个样本的维度3072 * 二分类器输出为 1 初始化使用通用方式-正态分布 均值为0 方差为1\n",
    "w = tf.get_variable('w', [x.get_shape(-1), 1],\n",
    "                   initializer=tf.random_normal_initializer(0, 1))\n",
    "#偏置 初始化为0.0\n",
    "b = tf.get_variable('b', [1],\n",
    "                   initializer=tf.constant_initializerp(0.0))\n",
    "\n",
    "#[None, 3072] * [3072, 1] = [None, 1]\n",
    "y_ = tf.matmul(x, w) + b # y为内积值\n",
    "\n",
    "#[None, 1]\n",
    "p_y_1 = tf.nn.sigmoid(y_) # 将y映射为 0-1 的概率值\n",
    "#将y的大小转为[None, 1]\n",
    "y_reshaped = tf.reshape(y, (-1, 1))\n",
    "y_reshaped_float = tf.cast(y_reshaped, tf.float32)\n",
    "\n",
    "#计算损失值 真实值与预测值的差的平方的均值\n",
    "loss = tf.reduce_mean(tf.square(y_reshaped_float - p_y_1))\n",
    "\n",
    "#bool [None, 1]\n",
    "predict = p_y_1 > 0.5\n",
    "#bool [None, 1] 转为int后为 [0, 1, 0, 1, 1, 0, 0]\n",
    "correct_prediction = tf.equal(tf.cast(predict, tf.int64), y_reshaped)\n",
    "#正确率 求均值\n",
    "accuracy = tf.reduce_mean(tf.cast(correct_prediction, tf.float32))\n",
    "\n",
    "#adam为梯度下降的变种 初始化的learning_rate为10^-3 \n",
    "with tf.name_scope('train_op'):\n",
    "    train_op = tf.train.AdamOptimizer(1e-3).minimize(loss) \n"
   ]
  }
 ],
 "metadata": {
  "kernelspec": {
   "display_name": "Python 3",
   "language": "python",
   "name": "python3"
  },
  "language_info": {
   "codemirror_mode": {
    "name": "ipython",
    "version": 3
   },
   "file_extension": ".py",
   "mimetype": "text/x-python",
   "name": "python",
   "nbconvert_exporter": "python",
   "pygments_lexer": "ipython3",
   "version": "3.7.4"
  }
 },
 "nbformat": 4,
 "nbformat_minor": 2
}

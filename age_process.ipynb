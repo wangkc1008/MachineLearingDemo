{
 "cells": [
  {
   "cell_type": "code",
   "execution_count": 1,
   "metadata": {},
   "outputs": [],
   "source": [
    "import pandas as pd"
   ]
  },
  {
   "cell_type": "code",
   "execution_count": 2,
   "metadata": {},
   "outputs": [
    {
     "data": {
      "text/plain": [
       "(4290, 99)"
      ]
     },
     "execution_count": 2,
     "metadata": {},
     "output_type": "execute_result"
    }
   ],
   "source": [
    "file_name = 'C:/Users/wangkc/Desktop/python/CLOUT/CLOUT/total_20200630.csv'\n",
    "data = pd.read_csv(file_name)\n",
    "data.shape"
   ]
  },
  {
   "cell_type": "code",
   "execution_count": 6,
   "metadata": {},
   "outputs": [
    {
     "data": {
      "text/plain": [
       "Index(['subject_id', 'subject_id.1', 'gender', 'dod', 'dob', 'expire_flag',\n",
       "       'hadm_id_x', 'marital_status', 'diagnosis', 'ethnicity', 'admittime',\n",
       "       'hadm_id_y', 'patientweight', '220546', '8480', '8441', '8440', '8445',\n",
       "       '8446', '220180', '220046', '220050', '220051', '220603', '220624',\n",
       "       '220645', '1542', '1536', '1524', '1540', '1526', '8555', '212', '861',\n",
       "       '1087', '1127', '814', '781', '786', '787', '762', '813', '829', '837',\n",
       "       '827', '833', '851', '824', '853', '806', '850', '789', '793', '644',\n",
       "       '432', '470', '430', '431', '116', '87', '224167', '224643', '198',\n",
       "       '455', '442', '482', '484', '51', '6', '227457', '225693', '225309',\n",
       "       '225310', '227242', '227243', '617', '6701', '8368', '50868', '50882',\n",
       "       '50912', '50931', '51006', '51221', '51222', '51237', '51249', '51274',\n",
       "       '51277', '51279', '51301', '50862', '50863', '50893', '50970', '51491',\n",
       "       '51244', '51256', '50963'],\n",
       "      dtype='object')"
      ]
     },
     "execution_count": 6,
     "metadata": {},
     "output_type": "execute_result"
    }
   ],
   "source": [
    "data.columns"
   ]
  },
  {
   "cell_type": "code",
   "execution_count": 9,
   "metadata": {},
   "outputs": [
    {
     "data": {
      "text/plain": [
       "(4290, 96)"
      ]
     },
     "execution_count": 9,
     "metadata": {},
     "output_type": "execute_result"
    }
   ],
   "source": [
    "data = data.drop(labels=['subject_id.1', 'hadm_id_x', 'hadm_id_y'], axis=1)\n",
    "data.shape"
   ]
  },
  {
   "cell_type": "code",
   "execution_count": 11,
   "metadata": {},
   "outputs": [
    {
     "data": {
      "text/html": [
       "<div>\n",
       "<style scoped>\n",
       "    .dataframe tbody tr th:only-of-type {\n",
       "        vertical-align: middle;\n",
       "    }\n",
       "\n",
       "    .dataframe tbody tr th {\n",
       "        vertical-align: top;\n",
       "    }\n",
       "\n",
       "    .dataframe thead th {\n",
       "        text-align: right;\n",
       "    }\n",
       "</style>\n",
       "<table border=\"1\" class=\"dataframe\">\n",
       "  <thead>\n",
       "    <tr style=\"text-align: right;\">\n",
       "      <th></th>\n",
       "      <th>subject_id</th>\n",
       "      <th>gender</th>\n",
       "      <th>dod</th>\n",
       "      <th>dob</th>\n",
       "      <th>expire_flag</th>\n",
       "      <th>marital_status</th>\n",
       "      <th>diagnosis</th>\n",
       "      <th>ethnicity</th>\n",
       "      <th>admittime</th>\n",
       "      <th>patientweight</th>\n",
       "      <th>...</th>\n",
       "      <th>51279</th>\n",
       "      <th>51301</th>\n",
       "      <th>50862</th>\n",
       "      <th>50863</th>\n",
       "      <th>50893</th>\n",
       "      <th>50970</th>\n",
       "      <th>51491</th>\n",
       "      <th>51244</th>\n",
       "      <th>51256</th>\n",
       "      <th>50963</th>\n",
       "    </tr>\n",
       "  </thead>\n",
       "  <tbody>\n",
       "    <tr>\n",
       "      <th>0</th>\n",
       "      <td>28920</td>\n",
       "      <td>F</td>\n",
       "      <td>2118-05-10 00:00:00</td>\n",
       "      <td>2035-07-09 00:00:00</td>\n",
       "      <td>1</td>\n",
       "      <td>WIDOWED</td>\n",
       "      <td>ACUTE MYOCARDIAL INFARCTION\\CATH</td>\n",
       "      <td>UNABLE TO OBTAIN</td>\n",
       "      <td>2118-03-29 15:09:00</td>\n",
       "      <td>NaN</td>\n",
       "      <td>...</td>\n",
       "      <td>2.55</td>\n",
       "      <td>10.2</td>\n",
       "      <td>NaN</td>\n",
       "      <td>NaN</td>\n",
       "      <td>8.6</td>\n",
       "      <td>3.1</td>\n",
       "      <td>5.5</td>\n",
       "      <td>NaN</td>\n",
       "      <td>NaN</td>\n",
       "      <td>NaN</td>\n",
       "    </tr>\n",
       "    <tr>\n",
       "      <th>1</th>\n",
       "      <td>52000</td>\n",
       "      <td>F</td>\n",
       "      <td>NaN</td>\n",
       "      <td>2026-11-06 00:00:00</td>\n",
       "      <td>0</td>\n",
       "      <td>MARRIED</td>\n",
       "      <td>ACUTE CORONARY SYNDROME</td>\n",
       "      <td>UNABLE TO OBTAIN</td>\n",
       "      <td>2109-03-31 18:37:00</td>\n",
       "      <td>60.0</td>\n",
       "      <td>...</td>\n",
       "      <td>3.12</td>\n",
       "      <td>6.3</td>\n",
       "      <td>NaN</td>\n",
       "      <td>41.0</td>\n",
       "      <td>8.4</td>\n",
       "      <td>2.6</td>\n",
       "      <td>NaN</td>\n",
       "      <td>22.0</td>\n",
       "      <td>69.9</td>\n",
       "      <td>NaN</td>\n",
       "    </tr>\n",
       "    <tr>\n",
       "      <th>2</th>\n",
       "      <td>20923</td>\n",
       "      <td>M</td>\n",
       "      <td>NaN</td>\n",
       "      <td>2088-05-06 00:00:00</td>\n",
       "      <td>0</td>\n",
       "      <td>NaN</td>\n",
       "      <td>ACUTE MI\\LEFT HEART CATHETERIZATION</td>\n",
       "      <td>UNKNOWN/NOT SPECIFIED</td>\n",
       "      <td>2143-10-08 14:56:00</td>\n",
       "      <td>NaN</td>\n",
       "      <td>...</td>\n",
       "      <td>4.23</td>\n",
       "      <td>7.4</td>\n",
       "      <td>NaN</td>\n",
       "      <td>NaN</td>\n",
       "      <td>NaN</td>\n",
       "      <td>NaN</td>\n",
       "      <td>NaN</td>\n",
       "      <td>NaN</td>\n",
       "      <td>NaN</td>\n",
       "      <td>NaN</td>\n",
       "    </tr>\n",
       "    <tr>\n",
       "      <th>3</th>\n",
       "      <td>31789</td>\n",
       "      <td>F</td>\n",
       "      <td>NaN</td>\n",
       "      <td>1851-08-20 00:00:00</td>\n",
       "      <td>0</td>\n",
       "      <td>SINGLE</td>\n",
       "      <td>HYPOTENSION;FEMUR FX</td>\n",
       "      <td>WHITE</td>\n",
       "      <td>2151-08-20 17:37:00</td>\n",
       "      <td>NaN</td>\n",
       "      <td>...</td>\n",
       "      <td>3.91</td>\n",
       "      <td>8.5</td>\n",
       "      <td>NaN</td>\n",
       "      <td>NaN</td>\n",
       "      <td>7.5</td>\n",
       "      <td>2.1</td>\n",
       "      <td>8.0</td>\n",
       "      <td>30</td>\n",
       "      <td>58</td>\n",
       "      <td>NaN</td>\n",
       "    </tr>\n",
       "    <tr>\n",
       "      <th>4</th>\n",
       "      <td>95177</td>\n",
       "      <td>M</td>\n",
       "      <td>NaN</td>\n",
       "      <td>2072-11-16 00:00:00</td>\n",
       "      <td>0</td>\n",
       "      <td>DIVORCED</td>\n",
       "      <td>ST ELEVATION MI</td>\n",
       "      <td>WHITE</td>\n",
       "      <td>2128-11-17 01:09:00</td>\n",
       "      <td>99.0</td>\n",
       "      <td>...</td>\n",
       "      <td>4.54</td>\n",
       "      <td>12.1</td>\n",
       "      <td>4.0</td>\n",
       "      <td>56.0</td>\n",
       "      <td>9.2</td>\n",
       "      <td>4.0</td>\n",
       "      <td>NaN</td>\n",
       "      <td>NaN</td>\n",
       "      <td>NaN</td>\n",
       "      <td>NaN</td>\n",
       "    </tr>\n",
       "  </tbody>\n",
       "</table>\n",
       "<p>5 rows × 96 columns</p>\n",
       "</div>"
      ],
      "text/plain": [
       "   subject_id gender                  dod                  dob  expire_flag  \\\n",
       "0       28920      F  2118-05-10 00:00:00  2035-07-09 00:00:00            1   \n",
       "1       52000      F                  NaN  2026-11-06 00:00:00            0   \n",
       "2       20923      M                  NaN  2088-05-06 00:00:00            0   \n",
       "3       31789      F                  NaN  1851-08-20 00:00:00            0   \n",
       "4       95177      M                  NaN  2072-11-16 00:00:00            0   \n",
       "\n",
       "  marital_status                            diagnosis              ethnicity  \\\n",
       "0        WIDOWED     ACUTE MYOCARDIAL INFARCTION\\CATH       UNABLE TO OBTAIN   \n",
       "1        MARRIED              ACUTE CORONARY SYNDROME       UNABLE TO OBTAIN   \n",
       "2            NaN  ACUTE MI\\LEFT HEART CATHETERIZATION  UNKNOWN/NOT SPECIFIED   \n",
       "3         SINGLE                 HYPOTENSION;FEMUR FX                  WHITE   \n",
       "4       DIVORCED                      ST ELEVATION MI                  WHITE   \n",
       "\n",
       "             admittime  patientweight  ...  51279 51301  50862  50863  50893  \\\n",
       "0  2118-03-29 15:09:00            NaN  ...   2.55  10.2    NaN    NaN    8.6   \n",
       "1  2109-03-31 18:37:00           60.0  ...   3.12   6.3    NaN   41.0    8.4   \n",
       "2  2143-10-08 14:56:00            NaN  ...   4.23   7.4    NaN    NaN    NaN   \n",
       "3  2151-08-20 17:37:00            NaN  ...   3.91   8.5    NaN    NaN    7.5   \n",
       "4  2128-11-17 01:09:00           99.0  ...   4.54  12.1    4.0   56.0    9.2   \n",
       "\n",
       "   50970  51491  51244  51256  50963  \n",
       "0    3.1    5.5    NaN    NaN    NaN  \n",
       "1    2.6    NaN   22.0   69.9    NaN  \n",
       "2    NaN    NaN    NaN    NaN    NaN  \n",
       "3    2.1    8.0     30     58    NaN  \n",
       "4    4.0    NaN    NaN    NaN    NaN  \n",
       "\n",
       "[5 rows x 96 columns]"
      ]
     },
     "execution_count": 11,
     "metadata": {},
     "output_type": "execute_result"
    }
   ],
   "source": [
    "data.head()"
   ]
  },
  {
   "cell_type": "code",
   "execution_count": 30,
   "metadata": {},
   "outputs": [
    {
     "data": {
      "text/plain": [
       "0        83\n",
       "1        83\n",
       "2        55\n",
       "3       300\n",
       "4        56\n",
       "       ... \n",
       "4285     36\n",
       "4286     74\n",
       "4287     85\n",
       "4288     66\n",
       "4289     84\n",
       "Length: 4290, dtype: int64"
      ]
     },
     "execution_count": 30,
     "metadata": {},
     "output_type": "execute_result"
    }
   ],
   "source": [
    "age = (pd.to_datetime(data['admittime']).dt.year - pd.to_datetime(data['dob']).dt.year)\n",
    "age"
   ]
  },
  {
   "cell_type": "code",
   "execution_count": 31,
   "metadata": {},
   "outputs": [],
   "source": [
    "age[age>89] = 91.4"
   ]
  },
  {
   "cell_type": "code",
   "execution_count": 33,
   "metadata": {},
   "outputs": [
    {
     "data": {
      "text/plain": [
       "0       83.0\n",
       "1       83.0\n",
       "2       55.0\n",
       "3       91.4\n",
       "4       56.0\n",
       "        ... \n",
       "4285    36.0\n",
       "4286    74.0\n",
       "4287    85.0\n",
       "4288    66.0\n",
       "4289    84.0\n",
       "Length: 4290, dtype: float64"
      ]
     },
     "execution_count": 33,
     "metadata": {},
     "output_type": "execute_result"
    }
   ],
   "source": [
    "age"
   ]
  },
  {
   "cell_type": "code",
   "execution_count": 34,
   "metadata": {},
   "outputs": [
    {
     "data": {
      "text/plain": [
       "(4290, 97)"
      ]
     },
     "execution_count": 34,
     "metadata": {},
     "output_type": "execute_result"
    }
   ],
   "source": [
    "data['age'] = age\n",
    "data.shape"
   ]
  }
 ],
 "metadata": {
  "kernelspec": {
   "display_name": "Python 3",
   "language": "python",
   "name": "python3"
  },
  "language_info": {
   "codemirror_mode": {
    "name": "ipython",
    "version": 3
   },
   "file_extension": ".py",
   "mimetype": "text/x-python",
   "name": "python",
   "nbconvert_exporter": "python",
   "pygments_lexer": "ipython3",
   "version": "3.7.4"
  }
 },
 "nbformat": 4,
 "nbformat_minor": 4
}

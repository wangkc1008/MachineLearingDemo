{
 "cells": [
  {
   "cell_type": "code",
   "execution_count": 2,
   "metadata": {},
   "outputs": [],
   "source": [
    "import numpy as np\n",
    "import matplotlib.pyplot as plt\n",
    "from sklearn import datasets"
   ]
  },
  {
   "cell_type": "code",
   "execution_count": 3,
   "metadata": {},
   "outputs": [],
   "source": [
    "X, y = datasets.make_moons(n_samples=500, noise=0.3, random_state=666)"
   ]
  },
  {
   "cell_type": "code",
   "execution_count": 5,
   "metadata": {},
   "outputs": [
    {
     "data": {
      "text/plain": [
       "array([[ 0.09178048, -0.50006739],\n",
       "       [ 2.06188329, -0.37005551],\n",
       "       [ 0.54749584, -0.68109756],\n",
       "       [ 0.33964786,  0.39772099],\n",
       "       [ 0.14223227,  0.8886361 ],\n",
       "       [-1.4323299 ,  0.96587043],\n",
       "       [ 0.66569665, -0.18096569],\n",
       "       [-0.86997459,  0.47048505],\n",
       "       [-0.5097476 ,  0.49258537],\n",
       "       [ 0.14105072,  0.61660069],\n",
       "       [ 1.2765134 ,  0.19396224],\n",
       "       [ 1.597704  , -0.15086917],\n",
       "       [ 1.77418856,  0.01032202],\n",
       "       [ 0.63147221, -1.05449646],\n",
       "       [-0.62519474,  1.02781705],\n",
       "       [ 1.78808665, -0.21319224],\n",
       "       [-0.63455223,  0.66537255],\n",
       "       [ 0.24507211,  0.74827693],\n",
       "       [ 0.61192272, -0.32195517],\n",
       "       [ 0.63347262,  1.1470217 ],\n",
       "       [-0.35083135,  0.43534168],\n",
       "       [ 1.92461085,  0.26255443],\n",
       "       [ 0.59389043,  0.68869427],\n",
       "       [ 0.71034769, -0.49016124],\n",
       "       [ 0.13765272,  1.10594912],\n",
       "       [ 1.45931422, -0.43329846],\n",
       "       [ 0.63261727,  0.5956975 ],\n",
       "       [ 1.85865193, -0.42402225],\n",
       "       [-0.78845314,  0.8244818 ],\n",
       "       [ 1.76390349,  0.20980676],\n",
       "       [-0.96913691, -0.13525335],\n",
       "       [ 0.34640727,  1.22426943],\n",
       "       [ 1.55949618, -0.04547504],\n",
       "       [ 0.36368539,  0.13645012],\n",
       "       [ 0.23707786,  1.09258185],\n",
       "       [ 0.97947865, -0.17856024],\n",
       "       [-0.64838811,  1.22895165],\n",
       "       [ 2.08781395,  0.2250467 ],\n",
       "       [-0.84990519,  0.33263442],\n",
       "       [ 0.11441812,  0.73294296],\n",
       "       [ 0.48134782, -0.82019042],\n",
       "       [-0.01738082,  0.2151738 ],\n",
       "       [ 1.52608737,  0.08265382],\n",
       "       [ 0.60146864,  1.57079897],\n",
       "       [ 0.17800514,  0.85229359],\n",
       "       [-0.40100571,  0.35887775],\n",
       "       [ 0.86791541, -0.20527141],\n",
       "       [ 0.3922987 ,  0.24376795],\n",
       "       [ 1.58052159, -0.42045634],\n",
       "       [ 1.00712256,  1.05144576],\n",
       "       [ 0.26286272, -0.58616279],\n",
       "       [-1.22435254,  0.84499752],\n",
       "       [ 1.67600956, -0.03633753],\n",
       "       [-0.54224274,  0.57317371],\n",
       "       [ 0.06317917, -0.70629672],\n",
       "       [-0.98403364,  0.37571857],\n",
       "       [ 1.11109262,  0.28405378],\n",
       "       [-0.50537942,  0.18838989],\n",
       "       [ 0.65800068,  0.78500067],\n",
       "       [ 0.13362588, -0.33476038],\n",
       "       [ 0.46121601,  0.59525116],\n",
       "       [ 0.56834675,  0.18599614],\n",
       "       [ 0.32674199, -0.5113845 ],\n",
       "       [-0.17675289,  1.12119011],\n",
       "       [ 0.17375056, -0.4248235 ],\n",
       "       [ 0.64209556,  0.7675321 ],\n",
       "       [ 1.59824916, -0.10987527],\n",
       "       [ 1.01287252,  0.42389316],\n",
       "       [ 0.52681958, -0.38919154],\n",
       "       [ 0.71593062, -0.07953737],\n",
       "       [ 1.22102175, -0.95933955],\n",
       "       [ 1.16118478,  0.22713603],\n",
       "       [-1.27800243,  1.14300543],\n",
       "       [-0.14887093,  1.00984844],\n",
       "       [-0.94300362,  0.65082943],\n",
       "       [ 1.5882258 ,  0.52064858],\n",
       "       [-0.78919938,  0.60932607],\n",
       "       [ 1.34441267,  0.32477251],\n",
       "       [ 1.53590596, -0.55595852],\n",
       "       [ 1.18387572, -0.75303929],\n",
       "       [-0.77738772,  0.84867511],\n",
       "       [ 0.35066047,  0.51887806],\n",
       "       [ 1.60392248,  0.21853347],\n",
       "       [ 1.38247819, -0.63115585],\n",
       "       [ 1.38631615, -0.98497699],\n",
       "       [ 0.77957915,  0.51998328],\n",
       "       [-0.83122151,  0.895741  ],\n",
       "       [ 1.24076076, -0.12623199],\n",
       "       [ 0.50492817,  0.88666024],\n",
       "       [ 1.15510833,  0.57871894],\n",
       "       [ 0.28702462, -0.58350983],\n",
       "       [ 1.49674112, -0.19103176],\n",
       "       [-0.49157119,  1.01018809],\n",
       "       [-1.58415356, -0.02284615],\n",
       "       [ 1.6518474 , -0.35146219],\n",
       "       [ 0.21202687,  0.58964264],\n",
       "       [-0.3908849 ,  0.26766351],\n",
       "       [ 1.26308085, -0.44224465],\n",
       "       [ 0.13528141, -0.78231751],\n",
       "       [ 0.52434967,  0.78207104],\n",
       "       [-1.22430775,  0.63480602],\n",
       "       [-1.22235382,  0.2912377 ],\n",
       "       [ 0.65267133,  0.31560555],\n",
       "       [ 0.8963152 , -0.13491621],\n",
       "       [ 1.53467215,  0.24779228],\n",
       "       [-0.51408027,  0.15321109],\n",
       "       [ 1.05455938,  0.6348332 ],\n",
       "       [-0.09368461, -0.55223172],\n",
       "       [ 1.78918442, -0.86079049],\n",
       "       [ 1.58601944,  0.33061002],\n",
       "       [ 1.2916099 , -0.23930694],\n",
       "       [ 0.43974369,  1.27241377],\n",
       "       [-0.08600119,  1.81525927],\n",
       "       [-0.82014684,  0.52832232],\n",
       "       [ 1.52457358,  0.49076133],\n",
       "       [ 1.51497421, -0.38399062],\n",
       "       [-0.47926933,  0.87571698],\n",
       "       [-0.45044888,  0.79115587],\n",
       "       [ 1.96110292, -0.24304384],\n",
       "       [ 0.27462223, -0.6064696 ],\n",
       "       [ 0.85212671, -1.04639912],\n",
       "       [ 1.8249514 , -0.11773952],\n",
       "       [-0.08669476, -0.39113169],\n",
       "       [ 0.37017455, -0.67737088],\n",
       "       [ 0.72557208, -0.3759199 ],\n",
       "       [-1.34619688,  0.19073738],\n",
       "       [ 0.00400612, -0.0298505 ],\n",
       "       [ 2.05931162,  0.38705406],\n",
       "       [ 0.37517987, -0.3774313 ],\n",
       "       [ 1.55575796, -0.05542378],\n",
       "       [ 0.55182743,  0.97146013],\n",
       "       [ 0.82915408,  0.26778768],\n",
       "       [ 0.91629836,  0.34769215],\n",
       "       [ 0.17087178,  0.3082105 ],\n",
       "       [ 1.98172274,  0.21102044],\n",
       "       [ 0.73780709,  0.39413525],\n",
       "       [ 0.09862214,  0.51862949],\n",
       "       [ 0.11504099,  0.90649972],\n",
       "       [ 0.10439938, -0.10256957],\n",
       "       [ 0.21993934,  0.64409688],\n",
       "       [ 0.40666981,  0.87788969],\n",
       "       [-0.60654   ,  0.09867434],\n",
       "       [ 0.23228912,  1.36057188],\n",
       "       [-1.02346486,  0.12285795],\n",
       "       [-0.83953177,  0.06896856],\n",
       "       [ 0.84970515,  0.63439096],\n",
       "       [ 0.98879556,  0.52868448],\n",
       "       [-0.60017078,  0.48535748],\n",
       "       [ 0.46676466, -0.64625065],\n",
       "       [-1.08907738,  0.18422466],\n",
       "       [ 1.70941033,  0.15607104],\n",
       "       [ 0.21584111,  1.28890753],\n",
       "       [-0.52603029,  0.57004004],\n",
       "       [ 0.08811956,  0.71797844],\n",
       "       [ 0.38976142,  1.53324391],\n",
       "       [-0.49320805,  0.08749264],\n",
       "       [ 2.32976701, -0.07665391],\n",
       "       [ 0.30614117,  0.71150962],\n",
       "       [ 1.16514908, -0.48820986],\n",
       "       [ 1.47408256,  0.31651298],\n",
       "       [-0.94056944, -0.2282776 ],\n",
       "       [-0.45843687,  0.58097234],\n",
       "       [ 1.4580001 , -0.20758646],\n",
       "       [ 0.69178951,  0.11157793],\n",
       "       [ 0.68636952, -0.83491263],\n",
       "       [ 0.67300253, -0.39810425],\n",
       "       [ 0.99491018, -1.11895654],\n",
       "       [ 0.3379374 ,  0.23539922],\n",
       "       [-0.25587808, -0.51625671],\n",
       "       [ 1.24095709, -0.0348542 ],\n",
       "       [ 0.49604496,  1.1311765 ],\n",
       "       [ 1.74517891,  0.78867663],\n",
       "       [ 0.46970441,  0.70033087],\n",
       "       [ 0.63216671, -0.5955877 ],\n",
       "       [-0.52254374,  0.50992537],\n",
       "       [ 1.26092229,  0.28080213],\n",
       "       [ 0.55163328,  0.08754847],\n",
       "       [ 1.52940368, -0.08528497],\n",
       "       [ 2.04018322, -0.3094669 ],\n",
       "       [ 1.66685782, -0.68081757],\n",
       "       [-0.0089476 ,  1.22694992],\n",
       "       [-0.56121294,  1.10769224],\n",
       "       [ 0.50121894,  0.53250315],\n",
       "       [ 2.00730975, -0.16436283],\n",
       "       [ 2.24438905,  0.84394636],\n",
       "       [ 0.9081476 ,  0.8367614 ],\n",
       "       [-0.83321828,  0.26877178],\n",
       "       [ 0.24193431, -0.23261396],\n",
       "       [-0.12299348,  1.14439245],\n",
       "       [ 1.13195675,  0.2193764 ],\n",
       "       [-1.01615215, -0.14907514],\n",
       "       [ 0.1144946 , -0.131158  ],\n",
       "       [-0.54024189,  0.91443755],\n",
       "       [ 0.64750812,  1.20015826],\n",
       "       [-1.03902619,  0.85370985],\n",
       "       [ 0.77005867, -0.05926831],\n",
       "       [-0.72071319,  1.07618495],\n",
       "       [-0.63037027,  1.16069091],\n",
       "       [-0.0820248 ,  0.96236495],\n",
       "       [ 0.97057676, -0.26275939],\n",
       "       [-0.28494334,  1.12215383],\n",
       "       [ 0.66165802, -0.25390856],\n",
       "       [-0.85902138,  0.04934732],\n",
       "       [ 0.9903414 , -0.7813504 ],\n",
       "       [ 0.45959526,  0.88371112],\n",
       "       [ 1.37549905, -0.55021005],\n",
       "       [ 1.80994305,  0.17872533],\n",
       "       [ 0.65674604, -0.42541481],\n",
       "       [ 1.97005646,  0.57296866],\n",
       "       [ 0.53199222,  0.92277476],\n",
       "       [ 0.84878912, -0.13340563],\n",
       "       [-0.59310144,  0.79625447],\n",
       "       [ 1.34678716,  0.34183134],\n",
       "       [ 0.84519649, -0.74381536],\n",
       "       [-0.86081525,  0.32083206],\n",
       "       [ 0.52238929,  0.20279473],\n",
       "       [-0.04307169,  0.24245048],\n",
       "       [ 0.42681778, -0.2786319 ],\n",
       "       [ 1.6737825 ,  0.57461463],\n",
       "       [-0.89443152,  0.88246553],\n",
       "       [ 1.70568264,  0.14903417],\n",
       "       [ 0.02624235,  0.42997029],\n",
       "       [ 1.20449766, -0.66860777],\n",
       "       [ 2.55758956,  0.02513768],\n",
       "       [-0.49621884,  0.24660477],\n",
       "       [-0.19717074,  1.00768428],\n",
       "       [ 0.97419467, -0.37412867],\n",
       "       [ 0.55949696,  0.20476458],\n",
       "       [ 1.799702  ,  0.01863501],\n",
       "       [-0.49434948,  0.24365445],\n",
       "       [-0.69185076,  0.66172185],\n",
       "       [ 0.40363097, -0.63075814],\n",
       "       [ 0.35542665,  0.6618439 ],\n",
       "       [ 0.56607996,  0.63361508],\n",
       "       [-0.13895742,  1.00541265],\n",
       "       [ 1.05221395,  0.88793566],\n",
       "       [-0.09666368,  0.46295224],\n",
       "       [-1.36246868, -0.08843868],\n",
       "       [ 1.49749354, -0.43982473],\n",
       "       [ 2.09362374,  0.21392875],\n",
       "       [ 0.25097667,  0.60553873],\n",
       "       [-0.86013188,  0.26464806],\n",
       "       [ 1.82975255,  0.39052565],\n",
       "       [-0.24663611, -0.5610662 ],\n",
       "       [-1.38637809, -0.03168375],\n",
       "       [ 2.20657703,  0.27083712],\n",
       "       [ 0.4751463 , -0.08712767],\n",
       "       [ 0.68935614,  1.33740779],\n",
       "       [ 0.18962801,  0.09447084],\n",
       "       [ 0.25840099,  0.55123326],\n",
       "       [-0.92049052,  0.18567567],\n",
       "       [ 0.30211863, -0.09258281],\n",
       "       [ 0.41132612, -0.57263867],\n",
       "       [ 1.37519981,  0.22989401],\n",
       "       [ 0.13180816,  0.24419217],\n",
       "       [ 0.00632769,  0.05341771],\n",
       "       [ 0.1455906 , -0.22616045],\n",
       "       [ 0.32072602,  1.25394636],\n",
       "       [-0.67503531,  0.77930053],\n",
       "       [ 1.8353344 , -0.71773708],\n",
       "       [ 1.79605913, -0.32538249],\n",
       "       [-0.92454893,  0.45994066],\n",
       "       [ 1.07762484, -0.34491333],\n",
       "       [ 1.88713489, -0.12157877],\n",
       "       [ 0.44401761, -0.28942462],\n",
       "       [ 2.10972725,  0.66177051],\n",
       "       [ 0.65203488,  0.66614039],\n",
       "       [ 1.64531489,  0.10226433],\n",
       "       [ 1.73642441, -0.1654836 ],\n",
       "       [-0.5159297 ,  0.82837034],\n",
       "       [ 0.03241282,  1.3063566 ],\n",
       "       [ 0.77295674, -0.30966575],\n",
       "       [ 1.50729742, -0.42912192],\n",
       "       [ 0.40040634,  1.32183523],\n",
       "       [ 1.47466079, -0.03868695],\n",
       "       [ 0.17956717,  0.60391274],\n",
       "       [-0.62771456,  0.59421657],\n",
       "       [ 1.50705377,  0.0143894 ],\n",
       "       [ 1.05403291,  0.62467448],\n",
       "       [ 0.76716523,  0.06577147],\n",
       "       [ 2.20385405, -0.18327094],\n",
       "       [ 1.99066044,  0.77353044],\n",
       "       [ 0.45402807,  1.23745349],\n",
       "       [-1.07677403,  0.81676235],\n",
       "       [-0.02797193,  0.47989515],\n",
       "       [ 0.5021257 , -0.26033344],\n",
       "       [ 2.27026104,  0.15058791],\n",
       "       [-0.23028481,  1.22510324],\n",
       "       [-0.47771522,  0.9831559 ],\n",
       "       [ 0.21456661, -0.46625221],\n",
       "       [-0.78698921,  1.17698585],\n",
       "       [-0.73340103,  0.52163239],\n",
       "       [ 1.07209743, -0.44232681],\n",
       "       [ 0.09280623, -0.49134644],\n",
       "       [-0.70525943,  1.06276046],\n",
       "       [ 1.39862132, -0.17565577],\n",
       "       [ 0.49186762,  0.68413663],\n",
       "       [ 0.43417569, -0.2145321 ],\n",
       "       [ 0.19931621, -0.30678213],\n",
       "       [-1.26568346,  0.5005682 ],\n",
       "       [-0.60631554,  0.71468955],\n",
       "       [ 0.31332957,  1.00844025],\n",
       "       [ 0.90027064, -0.71660827],\n",
       "       [ 0.02102243,  0.70174846],\n",
       "       [-0.5794108 ,  0.52817061],\n",
       "       [ 0.44742859, -0.1950594 ],\n",
       "       [ 0.33591283,  0.92917406],\n",
       "       [ 0.32561189,  0.22755445],\n",
       "       [ 0.80789189,  0.46305959],\n",
       "       [ 1.44904989,  0.67298895],\n",
       "       [ 0.80465862, -0.79500268],\n",
       "       [-0.31746996,  1.12088636],\n",
       "       [ 0.99739917, -0.76857402],\n",
       "       [ 0.16948018,  0.18377518],\n",
       "       [ 1.20576819,  0.34471206],\n",
       "       [ 0.03407916,  1.12541008],\n",
       "       [-1.04151816, -0.07178838],\n",
       "       [ 0.52316169, -0.26489387],\n",
       "       [ 0.46787785,  1.47294379],\n",
       "       [ 1.81202336, -0.7831191 ],\n",
       "       [ 0.52257748, -0.48786376],\n",
       "       [ 1.00095129, -0.47012928],\n",
       "       [-0.87914666,  0.4548959 ],\n",
       "       [ 0.3400183 , -0.41745223],\n",
       "       [-1.31808692,  0.7420518 ],\n",
       "       [-0.80226309,  1.12043676],\n",
       "       [ 0.14643568,  0.60413281],\n",
       "       [-0.48071858,  0.4718513 ],\n",
       "       [ 0.88287751, -0.73429785],\n",
       "       [ 0.487446  ,  1.14537093],\n",
       "       [-0.92255389,  0.54917648],\n",
       "       [ 0.70909961,  1.09275305],\n",
       "       [ 1.32848459,  0.4501539 ],\n",
       "       [-0.56770046,  0.76870079],\n",
       "       [ 0.78392892, -0.01234011],\n",
       "       [-0.51213546,  0.64398249],\n",
       "       [ 2.24929839,  0.15297402],\n",
       "       [ 0.67405716, -0.49918341],\n",
       "       [ 1.68490343, -0.09376766],\n",
       "       [-0.40442251,  1.08997779],\n",
       "       [ 0.53200951,  1.01775373],\n",
       "       [ 0.87711714, -0.54870249],\n",
       "       [-0.6749529 , -0.00843123],\n",
       "       [ 1.23963448, -0.74348917],\n",
       "       [-0.47634961,  0.67173566],\n",
       "       [ 2.37267848, -0.08340939],\n",
       "       [ 0.80543896, -0.27479269],\n",
       "       [ 0.91031332, -0.54302207],\n",
       "       [ 1.03134627,  0.75385411],\n",
       "       [ 0.82072251, -0.36057534],\n",
       "       [ 0.49944268, -0.13262481],\n",
       "       [ 0.91508751, -0.20641774],\n",
       "       [ 2.22926238,  0.46591735],\n",
       "       [ 2.36634465,  0.05453308],\n",
       "       [ 0.58656898,  0.73521877],\n",
       "       [ 0.96802733, -0.63132325],\n",
       "       [ 0.03864583, -0.03349527],\n",
       "       [-0.0715752 ,  0.90967917],\n",
       "       [-0.28917292,  1.03543601],\n",
       "       [-1.21749517, -0.83988551],\n",
       "       [-0.11132772,  0.10327567],\n",
       "       [ 0.79084133,  0.52825219],\n",
       "       [ 0.93287541,  0.15286232],\n",
       "       [ 0.8407235 ,  0.05843043],\n",
       "       [-0.50870137,  0.83808838],\n",
       "       [-0.07717693,  0.18083323],\n",
       "       [ 0.45130404,  1.41820512],\n",
       "       [ 0.9531785 ,  0.32262548],\n",
       "       [ 0.01452263,  0.98172711],\n",
       "       [ 1.30377453, -0.52040768],\n",
       "       [ 0.66102026, -0.72910125],\n",
       "       [ 0.27053145,  0.36867077],\n",
       "       [-1.00005731,  0.40672468],\n",
       "       [ 2.32819633,  0.48674564],\n",
       "       [ 1.53579942, -0.13203176],\n",
       "       [ 0.32089987, -0.36761642],\n",
       "       [-1.55441812, -0.04969134],\n",
       "       [ 0.74507312,  0.06894957],\n",
       "       [ 2.05495647, -0.33991062],\n",
       "       [ 0.65722783, -0.07964002],\n",
       "       [-0.09685371, -0.50368324],\n",
       "       [ 2.21083036,  0.1114001 ],\n",
       "       [ 0.71199226, -0.2293163 ],\n",
       "       [-0.05073907,  0.52197477],\n",
       "       [ 1.0853531 , -0.67318102],\n",
       "       [ 0.71740768, -0.09233235],\n",
       "       [-0.26976445,  0.78826422],\n",
       "       [ 1.63083054,  0.0671771 ],\n",
       "       [ 0.56197392, -0.96090051],\n",
       "       [ 2.04141234,  0.42335144],\n",
       "       [ 0.82559967,  0.33278625],\n",
       "       [ 0.62349822,  0.02932499],\n",
       "       [-0.72010385,  0.70474604],\n",
       "       [ 1.75858049, -0.42595493],\n",
       "       [ 1.1353156 ,  0.55735757],\n",
       "       [ 2.14163685,  0.50971178],\n",
       "       [ 1.40218518, -0.4382748 ],\n",
       "       [-0.17339983,  0.67970036],\n",
       "       [-1.31791374, -0.02040021],\n",
       "       [ 0.03923878, -0.05521728],\n",
       "       [ 0.81333053, -0.55625927],\n",
       "       [ 1.24903427, -0.91118638],\n",
       "       [ 1.49068355, -0.23593775],\n",
       "       [ 2.2650195 ,  0.30084073],\n",
       "       [-1.06466021,  0.05385312],\n",
       "       [ 0.21586537, -0.06429538],\n",
       "       [ 0.02236448,  0.97570031],\n",
       "       [ 0.47700317,  0.9372358 ],\n",
       "       [ 0.5321861 ,  0.81192605],\n",
       "       [ 1.09403694, -0.32627953],\n",
       "       [-0.4265842 ,  0.70794565],\n",
       "       [ 0.54565241,  0.5185172 ],\n",
       "       [ 1.87473954,  0.03856561],\n",
       "       [-0.74461647,  0.87042391],\n",
       "       [-0.09361832,  0.82838183],\n",
       "       [-1.29473747,  0.52052223],\n",
       "       [ 1.26358512, -0.3312147 ],\n",
       "       [ 0.13690666, -0.32534387],\n",
       "       [ 1.27731172, -0.13232312],\n",
       "       [ 0.11841584,  1.02511331],\n",
       "       [-0.26575651,  0.71110619],\n",
       "       [ 1.78821416,  0.41357012],\n",
       "       [ 0.40017026,  0.74670313],\n",
       "       [ 0.69206736,  0.70144969],\n",
       "       [ 1.98306269,  0.02296981],\n",
       "       [ 0.42360158,  1.16574311],\n",
       "       [ 0.28059773,  0.83644031],\n",
       "       [ 2.32095267,  0.10974802],\n",
       "       [ 1.22859169, -0.11852147],\n",
       "       [-0.53193794,  0.75006295],\n",
       "       [ 0.69700666, -0.62876095],\n",
       "       [ 0.71313765,  0.63927018],\n",
       "       [ 0.68831094,  0.8661295 ],\n",
       "       [-0.16944252,  1.1227739 ],\n",
       "       [ 1.62436804, -0.44703428],\n",
       "       [ 1.73297575, -0.02108056],\n",
       "       [ 0.60570542, -0.62421597],\n",
       "       [ 2.08283798, -0.33687353],\n",
       "       [ 0.72226014,  0.34217185],\n",
       "       [ 0.20898418, -0.09368732],\n",
       "       [-1.28296997,  0.53699316],\n",
       "       [ 0.79545501, -0.21799073],\n",
       "       [ 1.43811942, -0.27508973],\n",
       "       [-0.43435213,  1.25408845],\n",
       "       [-0.56917403, -0.36817194],\n",
       "       [ 0.27257142,  0.8243103 ],\n",
       "       [-0.6909215 ,  1.43264672],\n",
       "       [-0.05757919, -0.15270573],\n",
       "       [ 1.87762679, -0.46344294],\n",
       "       [-0.82835043,  0.20186825],\n",
       "       [-0.58219522,  1.13054506],\n",
       "       [-0.82209782,  0.04246786],\n",
       "       [ 0.5772597 ,  1.24406431],\n",
       "       [ 0.8986967 ,  0.42588102],\n",
       "       [ 0.22620995,  0.53411836],\n",
       "       [ 0.19017937,  1.0275651 ],\n",
       "       [ 2.20981275,  0.68575874],\n",
       "       [-0.09019958, -0.46490358],\n",
       "       [ 0.72689782,  0.50169569],\n",
       "       [-1.17787965,  0.8831688 ],\n",
       "       [-0.16988975,  0.90502724],\n",
       "       [-0.88837783,  0.74326269],\n",
       "       [ 0.46700673, -0.21911233],\n",
       "       [-0.5845042 ,  1.26068256],\n",
       "       [ 1.58022174,  0.28073585],\n",
       "       [-0.10760186,  0.85191051],\n",
       "       [-0.15612712, -0.10767728],\n",
       "       [-0.36116213,  1.03783808],\n",
       "       [ 1.32508372,  0.4245321 ],\n",
       "       [ 0.09505171,  0.86313503],\n",
       "       [ 0.10863972,  0.17738089],\n",
       "       [ 1.17300801, -0.67032113],\n",
       "       [ 0.31685898, -0.0029976 ],\n",
       "       [-0.17721968,  0.8975185 ],\n",
       "       [ 1.41998209,  0.16673231],\n",
       "       [-1.37480521,  0.18291898],\n",
       "       [-0.56601707,  0.26881517],\n",
       "       [ 0.81118198,  0.67988208],\n",
       "       [-0.58275869, -0.25949012],\n",
       "       [ 1.53652261,  0.18521416],\n",
       "       [ 1.39146242, -0.18529674],\n",
       "       [ 0.83806636,  1.10713083],\n",
       "       [-1.32418993,  0.50340534],\n",
       "       [-0.13870186,  0.44264284],\n",
       "       [-0.40336946,  1.1099231 ],\n",
       "       [-1.34776734,  0.5507415 ],\n",
       "       [ 0.64715132,  0.93434915],\n",
       "       [ 1.05302531,  0.57050696],\n",
       "       [-0.83285659,  0.64859583],\n",
       "       [ 0.76672779,  0.98170862],\n",
       "       [ 1.7815642 , -0.36172132],\n",
       "       [ 1.4954843 , -0.69794591],\n",
       "       [ 1.73088345,  0.43537247],\n",
       "       [ 1.83335918,  0.47830869],\n",
       "       [ 0.79694569,  1.07783134],\n",
       "       [ 0.63732156, -0.32595574],\n",
       "       [ 1.63146752, -0.44651592],\n",
       "       [ 1.2490145 , -0.22851698],\n",
       "       [ 1.55774442, -0.55833456],\n",
       "       [-1.53767567,  0.29142878]])"
      ]
     },
     "execution_count": 5,
     "metadata": {},
     "output_type": "execute_result"
    }
   ],
   "source": [
    "X"
   ]
  },
  {
   "cell_type": "code",
   "execution_count": 6,
   "metadata": {},
   "outputs": [
    {
     "data": {
      "text/plain": [
       "array([1, 1, 1, 1, 0, 0, 0, 0, 0, 1, 1, 1, 1, 1, 0, 1, 0, 0, 1, 0, 1, 1,\n",
       "       0, 1, 0, 1, 0, 1, 0, 1, 0, 0, 1, 1, 0, 1, 0, 1, 0, 0, 1, 1, 0, 0,\n",
       "       0, 0, 1, 0, 1, 0, 1, 0, 1, 0, 1, 0, 0, 0, 0, 1, 1, 0, 1, 0, 1, 0,\n",
       "       1, 0, 1, 1, 1, 0, 0, 0, 0, 1, 0, 1, 1, 1, 0, 0, 1, 1, 1, 0, 0, 0,\n",
       "       0, 0, 1, 1, 0, 0, 1, 1, 1, 1, 1, 0, 0, 0, 0, 1, 1, 1, 0, 1, 1, 1,\n",
       "       0, 0, 0, 0, 1, 1, 0, 0, 1, 1, 1, 1, 1, 1, 1, 0, 1, 1, 1, 1, 0, 0,\n",
       "       0, 1, 1, 0, 1, 1, 1, 0, 0, 0, 0, 0, 0, 0, 0, 0, 1, 0, 1, 0, 1, 0,\n",
       "       0, 0, 1, 0, 1, 0, 0, 0, 1, 1, 1, 1, 1, 0, 1, 1, 0, 0, 0, 1, 0, 0,\n",
       "       1, 1, 1, 1, 0, 0, 0, 1, 1, 0, 0, 1, 0, 0, 0, 1, 0, 0, 0, 1, 0, 0,\n",
       "       0, 1, 0, 1, 0, 1, 0, 1, 1, 1, 1, 0, 0, 0, 0, 1, 0, 1, 0, 1, 1, 0,\n",
       "       1, 1, 1, 1, 0, 0, 1, 0, 1, 0, 1, 1, 0, 0, 1, 0, 0, 0, 1, 1, 0, 0,\n",
       "       1, 1, 0, 1, 1, 0, 1, 1, 0, 1, 1, 0, 1, 1, 1, 0, 0, 1, 1, 0, 1, 1,\n",
       "       1, 1, 0, 1, 1, 0, 0, 1, 1, 0, 1, 0, 0, 1, 0, 1, 1, 1, 0, 0, 1, 1,\n",
       "       1, 0, 0, 1, 0, 0, 1, 1, 0, 1, 0, 1, 1, 0, 0, 0, 0, 0, 0, 1, 0, 0,\n",
       "       0, 0, 1, 0, 1, 1, 0, 1, 0, 1, 0, 1, 1, 1, 0, 1, 0, 0, 0, 0, 1, 0,\n",
       "       0, 0, 0, 0, 0, 0, 1, 1, 1, 0, 0, 1, 0, 1, 0, 1, 1, 1, 0, 1, 1, 1,\n",
       "       1, 1, 0, 1, 1, 0, 0, 0, 1, 0, 0, 0, 0, 1, 0, 0, 0, 1, 1, 1, 0, 1,\n",
       "       1, 1, 0, 0, 1, 1, 1, 1, 1, 0, 1, 1, 0, 0, 1, 1, 0, 1, 0, 1, 0, 1,\n",
       "       1, 1, 0, 1, 1, 1, 1, 1, 0, 1, 0, 0, 0, 1, 1, 1, 1, 0, 0, 0, 1, 1,\n",
       "       1, 0, 0, 1, 0, 0, 1, 0, 0, 1, 0, 0, 1, 0, 0, 0, 1, 1, 1, 1, 0, 1,\n",
       "       0, 0, 1, 0, 1, 0, 0, 1, 1, 0, 0, 1, 0, 0, 1, 1, 1, 1, 0, 0, 0, 0,\n",
       "       1, 0, 1, 0, 1, 0, 0, 0, 1, 1, 1, 0, 1, 0, 0, 0, 1, 0, 1, 0, 0, 1,\n",
       "       0, 0, 0, 0, 0, 0, 1, 1, 1, 1, 0, 1, 1, 1, 1, 0], dtype=int64)"
      ]
     },
     "execution_count": 6,
     "metadata": {},
     "output_type": "execute_result"
    }
   ],
   "source": [
    "y"
   ]
  },
  {
   "cell_type": "code",
   "execution_count": 7,
   "metadata": {},
   "outputs": [
    {
     "data": {
      "image/png": "[encoded data removed]",
      "text/plain": [
       "<Figure size 432x288 with 1 Axes>"
      ]
     },
     "metadata": {
      "needs_background": "light"
     },
     "output_type": "display_data"
    }
   ],
   "source": [
    "plt.scatter(X[y==0, 0], X[y==0, 1])\n",
    "plt.scatter(X[y==1, 0], X[y==1, 1])\n",
    "plt.show()"
   ]
  },
  {
   "cell_type": "code",
   "execution_count": 8,
   "metadata": {},
   "outputs": [],
   "source": [
    "from sklearn.model_selection import train_test_split\n",
    "\n",
    "X_train, X_test, y_train, y_test = train_test_split(X, y, random_state=666)"
   ]
  },
  {
   "cell_type": "code",
   "execution_count": 10,
   "metadata": {},
   "outputs": [
    {
     "data": {
      "text/plain": [
       "numpy.ndarray"
      ]
     },
     "execution_count": 10,
     "metadata": {},
     "output_type": "execute_result"
    }
   ],
   "source": [
    "type(X_train)"
   ]
  },
  {
   "cell_type": "code",
   "execution_count": 12,
   "metadata": {},
   "outputs": [
    {
     "data": {
      "text/plain": [
       "(375, 2)"
      ]
     },
     "execution_count": 12,
     "metadata": {},
     "output_type": "execute_result"
    }
   ],
   "source": [
    "X_train.shape"
   ]
  },
  {
   "cell_type": "code",
   "execution_count": 13,
   "metadata": {},
   "outputs": [],
   "source": [
    "from sklearn.linear_model import LogisticRegression\n",
    "from sklearn.svm import SVC\n",
    "from sklearn.tree import DecisionTreeClassifier\n",
    "from sklearn.ensemble import VotingClassifier"
   ]
  },
  {
   "cell_type": "markdown",
   "metadata": {},
   "source": [
    "### 逻辑回归"
   ]
  },
  {
   "cell_type": "code",
   "execution_count": 14,
   "metadata": {},
   "outputs": [
    {
     "data": {
      "text/plain": [
       "LogisticRegression(C=1.0, class_weight=None, dual=False, fit_intercept=True,\n",
       "                   intercept_scaling=1, l1_ratio=None, max_iter=100,\n",
       "                   multi_class='auto', n_jobs=None, penalty='l2',\n",
       "                   random_state=None, solver='lbfgs', tol=0.0001, verbose=0,\n",
       "                   warm_start=False)"
      ]
     },
     "execution_count": 14,
     "metadata": {},
     "output_type": "execute_result"
    }
   ],
   "source": [
    "log_reg = LogisticRegression()\n",
    "log_reg.fit(X_train, y_train)"
   ]
  },
  {
   "cell_type": "code",
   "execution_count": 15,
   "metadata": {},
   "outputs": [
    {
     "data": {
      "text/plain": [
       "0.872"
      ]
     },
     "execution_count": 15,
     "metadata": {},
     "output_type": "execute_result"
    }
   ],
   "source": [
    "log_reg.score(X_test, y_test)"
   ]
  },
  {
   "cell_type": "code",
   "execution_count": 20,
   "metadata": {},
   "outputs": [],
   "source": [
    "from sklearn.pipeline import Pipeline\n",
    "from sklearn.preprocessing import PolynomialFeatures, StandardScaler"
   ]
  },
  {
   "cell_type": "markdown",
   "metadata": {},
   "source": [
    "### 多项式逻辑回归"
   ]
  },
  {
   "cell_type": "code",
   "execution_count": 46,
   "metadata": {},
   "outputs": [],
   "source": [
    "def PolynomialLogisticRegression(degree, C=1.0, penalty='l2', solver='lbfgs'):\n",
    "    return Pipeline([\n",
    "        ('poly', PolynomialFeatures(degree=degree)),\n",
    "        ('std_scaler', StandardScaler()),\n",
    "        ('log_reg', LogisticRegression(C=C, penalty=penalty, solver=solver))\n",
    "    ])"
   ]
  },
  {
   "cell_type": "code",
   "execution_count": 26,
   "metadata": {},
   "outputs": [
    {
     "data": {
      "text/plain": [
       "Pipeline(memory=None,\n",
       "         steps=[('poly',\n",
       "                 PolynomialFeatures(degree=2, include_bias=True,\n",
       "                                    interaction_only=False, order='C')),\n",
       "                ('std_scaler',\n",
       "                 StandardScaler(copy=True, with_mean=True, with_std=True)),\n",
       "                ('log_reg',\n",
       "                 LogisticRegression(C=1.0, class_weight=None, dual=False,\n",
       "                                    fit_intercept=True, intercept_scaling=1,\n",
       "                                    l1_ratio=None, max_iter=100,\n",
       "                                    multi_class='auto', n_jobs=None,\n",
       "                                    penalty='l2', random_state=None,\n",
       "                                    solver='lbfgs', tol=0.0001, verbose=0,\n",
       "                                    warm_start=False))],\n",
       "         verbose=False)"
      ]
     },
     "execution_count": 26,
     "metadata": {},
     "output_type": "execute_result"
    }
   ],
   "source": [
    "poly_log_reg = PolynomialLogisticRegression(degree=2)\n",
    "poly_log_reg.fit(X_train, y_train)"
   ]
  },
  {
   "cell_type": "code",
   "execution_count": 27,
   "metadata": {},
   "outputs": [
    {
     "data": {
      "text/plain": [
       "0.864"
      ]
     },
     "execution_count": 27,
     "metadata": {},
     "output_type": "execute_result"
    }
   ],
   "source": [
    "poly_log_reg.score(X_test, y_test)"
   ]
  },
  {
   "cell_type": "code",
   "execution_count": 28,
   "metadata": {},
   "outputs": [
    {
     "data": {
      "text/plain": [
       "0.896"
      ]
     },
     "execution_count": 28,
     "metadata": {},
     "output_type": "execute_result"
    }
   ],
   "source": [
    "poly_log_reg2 = PolynomialLogisticRegression(degree=20)\n",
    "poly_log_reg2.fit(X_train, y_train)\n",
    "poly_log_reg2.score(X_test, y_test)"
   ]
  },
  {
   "cell_type": "code",
   "execution_count": 38,
   "metadata": {},
   "outputs": [
    {
     "data": {
      "text/plain": [
       "0.896"
      ]
     },
     "execution_count": 38,
     "metadata": {},
     "output_type": "execute_result"
    }
   ],
   "source": [
    "poly_log_reg3 = PolynomialLogisticRegression(degree=30)\n",
    "poly_log_reg3.fit(X_train, y_train)\n",
    "poly_log_reg3.score(X_test, y_test)"
   ]
  },
  {
   "cell_type": "code",
   "execution_count": 39,
   "metadata": {},
   "outputs": [
    {
     "data": {
      "text/plain": [
       "0.888"
      ]
     },
     "execution_count": 39,
     "metadata": {},
     "output_type": "execute_result"
    }
   ],
   "source": [
    "poly_log_reg4 = PolynomialLogisticRegression(degree=20, C=0.1)\n",
    "poly_log_reg4.fit(X_train, y_train)\n",
    "poly_log_reg4.score(X_test, y_test)"
   ]
  },
  {
   "cell_type": "markdown",
   "metadata": {},
   "source": [
    "### 绘制决策边界"
   ]
  },
  {
   "cell_type": "code",
   "execution_count": 33,
   "metadata": {},
   "outputs": [],
   "source": [
    "def plot_decision_boundary(model,axis):\n",
    "    \n",
    "    x0,x1 = np.meshgrid(  \n",
    "        np.linspace(axis[0],axis[1],int((axis[1]-axis[0])*100)).reshape(-1,1),\n",
    "        np.linspace(axis[2],axis[3],int((axis[3]-axis[2])*100)).reshape(-1,1)\n",
    "    )\n",
    "    x_new = np.c_[x0.ravel(),x1.ravel()]\n",
    "    \n",
    "    y_predict = model.predict(x_new)\n",
    "    zz = y_predict.reshape(x0.shape)\n",
    "    \n",
    "    from matplotlib.colors import ListedColormap\n",
    "    custom_cmap = ListedColormap(['#EF9A9A','#FFF59D','#90CAF9'])\n",
    "    \n",
    "    plt.contourf(x0,x1,zz,linewidth =5,cmap=custom_cmap)"
   ]
  },
  {
   "cell_type": "code",
   "execution_count": 35,
   "metadata": {},
   "outputs": [
    {
     "name": "stderr",
     "output_type": "stream",
     "text": [
      "D:\\ProgramData\\Anaconda3\\lib\\site-packages\\ipykernel_launcher.py:15: UserWarning: The following kwargs were not used by contour: 'linewidth'\n",
      "  from ipykernel import kernelapp as app\n"
     ]
    },
    {
     "data": {
      "image/png": "[encoded data removed]",
      "text/plain": [
       "<Figure size 432x288 with 1 Axes>"
      ]
     },
     "metadata": {
      "needs_background": "light"
     },
     "output_type": "display_data"
    }
   ],
   "source": [
    "plot_decision_boundary(poly_log_reg, axis=[-2, 3, -2, 2])\n",
    "plt.scatter(X[y==0, 0], X[y==0, 1])\n",
    "plt.scatter(X[y==1, 0], X[y==1, 1])\n",
    "plt.show()"
   ]
  },
  {
   "cell_type": "code",
   "execution_count": 36,
   "metadata": {},
   "outputs": [
    {
     "name": "stderr",
     "output_type": "stream",
     "text": [
      "D:\\ProgramData\\Anaconda3\\lib\\site-packages\\ipykernel_launcher.py:15: UserWarning: The following kwargs were not used by contour: 'linewidth'\n",
      "  from ipykernel import kernelapp as app\n"
     ]
    },
    {
     "data": {
      "image/png": "[encoded data removed]",
      "text/plain": [
       "<Figure size 432x288 with 1 Axes>"
      ]
     },
     "metadata": {
      "needs_background": "light"
     },
     "output_type": "display_data"
    }
   ],
   "source": [
    "plot_decision_boundary(poly_log_reg2, axis=[-2, 3, -2, 2])\n",
    "plt.scatter(X[y==0, 0], X[y==0, 1])\n",
    "plt.scatter(X[y==1, 0], X[y==1, 1])\n",
    "plt.show()"
   ]
  },
  {
   "cell_type": "code",
   "execution_count": 40,
   "metadata": {},
   "outputs": [
    {
     "name": "stderr",
     "output_type": "stream",
     "text": [
      "D:\\ProgramData\\Anaconda3\\lib\\site-packages\\ipykernel_launcher.py:15: UserWarning: The following kwargs were not used by contour: 'linewidth'\n",
      "  from ipykernel import kernelapp as app\n"
     ]
    },
    {
     "data": {
      "image/png": "[encoded data removed]",
      "text/plain": [
       "<Figure size 432x288 with 1 Axes>"
      ]
     },
     "metadata": {
      "needs_background": "light"
     },
     "output_type": "display_data"
    }
   ],
   "source": [
    "plot_decision_boundary(poly_log_reg3, axis=[-2, 3, -2, 2])\n",
    "plt.scatter(X[y==0, 0], X[y==0, 1])\n",
    "plt.scatter(X[y==1, 0], X[y==1, 1])\n",
    "plt.show()"
   ]
  },
  {
   "cell_type": "code",
   "execution_count": 41,
   "metadata": {},
   "outputs": [
    {
     "name": "stderr",
     "output_type": "stream",
     "text": [
      "D:\\ProgramData\\Anaconda3\\lib\\site-packages\\ipykernel_launcher.py:15: UserWarning: The following kwargs were not used by contour: 'linewidth'\n",
      "  from ipykernel import kernelapp as app\n"
     ]
    },
    {
     "data": {
      "image/png": "[encoded data removed]",
      "text/plain": [
       "<Figure size 432x288 with 1 Axes>"
      ]
     },
     "metadata": {
      "needs_background": "light"
     },
     "output_type": "display_data"
    }
   ],
   "source": [
    "plot_decision_boundary(poly_log_reg4, axis=[-2, 3, -2, 2])\n",
    "plt.scatter(X[y==0, 0], X[y==0, 1])\n",
    "plt.scatter(X[y==1, 0], X[y==1, 1])\n",
    "plt.show()"
   ]
  },
  {
   "cell_type": "code",
   "execution_count": 43,
   "metadata": {},
   "outputs": [
    {
     "data": {
      "text/plain": [
       "0.888"
      ]
     },
     "execution_count": 43,
     "metadata": {},
     "output_type": "execute_result"
    }
   ],
   "source": [
    "poly_log_reg5 = PolynomialLogisticRegression(degree=10)\n",
    "poly_log_reg5.fit(X_train, y_train)\n",
    "poly_log_reg5.score(X_test, y_test)"
   ]
  },
  {
   "cell_type": "code",
   "execution_count": 47,
   "metadata": {},
   "outputs": [
    {
     "data": {
      "text/plain": [
       "0.896"
      ]
     },
     "execution_count": 47,
     "metadata": {},
     "output_type": "execute_result"
    }
   ],
   "source": [
    "poly_log_reg6 = PolynomialLogisticRegression(degree=20, penalty='l1', solver='liblinear')\n",
    "poly_log_reg6.fit(X_train, y_train)\n",
    "poly_log_reg6.score(X_test, y_test)"
   ]
  },
  {
   "cell_type": "code",
   "execution_count": 48,
   "metadata": {},
   "outputs": [
    {
     "name": "stderr",
     "output_type": "stream",
     "text": [
      "D:\\ProgramData\\Anaconda3\\lib\\site-packages\\ipykernel_launcher.py:15: UserWarning: The following kwargs were not used by contour: 'linewidth'\n",
      "  from ipykernel import kernelapp as app\n"
     ]
    },
    {
     "data": {
      "image/png": "[encoded data removed]",
      "text/plain": [
       "<Figure size 432x288 with 1 Axes>"
      ]
     },
     "metadata": {
      "needs_background": "light"
     },
     "output_type": "display_data"
    }
   ],
   "source": [
    "plot_decision_boundary(poly_log_reg6, axis=[-2, 3, -2, 2])\n",
    "plt.scatter(X[y==0, 0], X[y==0, 1])\n",
    "plt.scatter(X[y==1, 0], X[y==1, 1])\n",
    "plt.show()"
   ]
  },
  {
   "cell_type": "code",
   "execution_count": 49,
   "metadata": {},
   "outputs": [
    {
     "data": {
      "text/plain": [
       "0.864"
      ]
     },
     "execution_count": 49,
     "metadata": {},
     "output_type": "execute_result"
    }
   ],
   "source": [
    "poly_log_reg7 = PolynomialLogisticRegression(degree=20, C=0.1, penalty='l1', solver='liblinear')\n",
    "poly_log_reg7.fit(X_train, y_train)\n",
    "poly_log_reg7.score(X_test, y_test)"
   ]
  },
  {
   "cell_type": "code",
   "execution_count": 50,
   "metadata": {},
   "outputs": [
    {
     "name": "stderr",
     "output_type": "stream",
     "text": [
      "D:\\ProgramData\\Anaconda3\\lib\\site-packages\\ipykernel_launcher.py:15: UserWarning: The following kwargs were not used by contour: 'linewidth'\n",
      "  from ipykernel import kernelapp as app\n"
     ]
    },
    {
     "data": {
      "image/png": "[encoded data removed]",
      "text/plain": [
       "<Figure size 432x288 with 1 Axes>"
      ]
     },
     "metadata": {
      "needs_background": "light"
     },
     "output_type": "display_data"
    }
   ],
   "source": [
    "plot_decision_boundary(poly_log_reg7, axis=[-2, 3, -2, 2])\n",
    "plt.scatter(X[y==0, 0], X[y==0, 1])\n",
    "plt.scatter(X[y==1, 0], X[y==1, 1])\n",
    "plt.show()"
   ]
  },
  {
   "cell_type": "code",
   "execution_count": 51,
   "metadata": {},
   "outputs": [],
   "source": [
    "from sklearn.multiclass import OneVsOneClassifier, OneVsRestClassifier"
   ]
  },
  {
   "cell_type": "code",
   "execution_count": 53,
   "metadata": {},
   "outputs": [
    {
     "data": {
      "text/plain": [
       "0.872"
      ]
     },
     "execution_count": 53,
     "metadata": {},
     "output_type": "execute_result"
    }
   ],
   "source": [
    "ovo = OneVsOneClassifier(log_reg)\n",
    "ovo.fit(X_train, y_train)\n",
    "ovo.score(X_test, y_test)"
   ]
  },
  {
   "cell_type": "code",
   "execution_count": 54,
   "metadata": {},
   "outputs": [
    {
     "data": {
      "text/plain": [
       "0.872"
      ]
     },
     "execution_count": 54,
     "metadata": {},
     "output_type": "execute_result"
    }
   ],
   "source": [
    "ovr = OneVsRestClassifier(log_reg)\n",
    "ovr.fit(X_train, y_train)\n",
    "ovr.score(X_test, y_test)"
   ]
  },
  {
   "cell_type": "markdown",
   "metadata": {},
   "source": [
    "### 使用网格搜索"
   ]
  },
  {
   "cell_type": "code",
   "execution_count": null,
   "metadata": {},
   "outputs": [],
   "source": [
    "from sklearn.model_selection import GridSearchCV\n",
    "\n",
    "C_PARM = [0.001, 0.01, 0.1, 1, 10, 100, 1000]\n",
    "param_grid = [\n",
    "    {\n",
    "        'degree': [i for i in range(1, 11)], \n",
    "        'C': [i for i in C_PARM]\n",
    "    }\n",
    "]\n",
    "\n",
    "grid_search = GridSearchCV(log_reg, param_grid)\n",
    "grid_search.fit(X_train,y_train)"
   ]
  }
 ],
 "metadata": {
  "kernelspec": {
   "display_name": "Python 3",
   "language": "python",
   "name": "python3"
  },
  "language_info": {
   "codemirror_mode": {
    "name": "ipython",
    "version": 3
   },
   "file_extension": ".py",
   "mimetype": "text/x-python",
   "name": "python",
   "nbconvert_exporter": "python",
   "pygments_lexer": "ipython3",
   "version": "3.7.4"
  }
 },
 "nbformat": 4,
 "nbformat_minor": 2
}

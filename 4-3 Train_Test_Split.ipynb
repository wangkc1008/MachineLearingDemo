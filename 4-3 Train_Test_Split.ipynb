{
 "cells": [
  {
   "cell_type": "code",
   "execution_count": 1,
   "metadata": {},
   "outputs": [],
   "source": [
    "import numpy as np\n",
    "from sklearn import datasets"
   ]
  },
  {
   "cell_type": "code",
   "execution_count": 2,
   "metadata": {},
   "outputs": [],
   "source": [
    "iris = datasets.load_iris()"
   ]
  },
  {
   "cell_type": "code",
   "execution_count": 3,
   "metadata": {},
   "outputs": [
    {
     "data": {
      "text/plain": [
       "(150, 4)"
      ]
     },
     "execution_count": 3,
     "metadata": {},
     "output_type": "execute_result"
    }
   ],
   "source": [
    "X = iris.data\n",
    "X.shape"
   ]
  },
  {
   "cell_type": "code",
   "execution_count": 5,
   "metadata": {},
   "outputs": [
    {
     "data": {
      "text/plain": [
       "(150,)"
      ]
     },
     "execution_count": 5,
     "metadata": {},
     "output_type": "execute_result"
    }
   ],
   "source": [
    "y = iris.target\n",
    "y.shape"
   ]
  },
  {
   "cell_type": "markdown",
   "metadata": {},
   "source": [
    "### train_test_split"
   ]
  },
  {
   "cell_type": "code",
   "execution_count": 6,
   "metadata": {},
   "outputs": [
    {
     "data": {
      "text/plain": [
       "array([ 97,  90, 140, 141,  50, 111, 136, 103, 100,  56,  54, 146,  77,\n",
       "        84, 107,   2,  39,  78, 106,   7,  92,  41, 135,  98,  26, 129,\n",
       "       113,  44,  49, 131,  18, 115,  99,  29,  48, 138, 144,  75,  21,\n",
       "       142, 109,  28,  95, 118, 121,   6,  85,  87,   4, 127,  66, 110,\n",
       "       147, 133,  55,   8,  81,  60,  67,  94, 145,  46, 137,   3,  62,\n",
       "        51,  82, 139,  23, 102,  16, 105,  19, 143,  61, 112, 119,  71,\n",
       "        25, 101,  86,  17,   0,  27, 120, 108, 126,  93, 117,  42,  57,\n",
       "        12, 130,  10,  31, 122,  73,  72,  32,  74,  83,  96,  38,  36,\n",
       "        47, 125,  13,  79,  63, 149,  58,  76,   5, 123,  45, 148,  22,\n",
       "        11,  59,  89,  14,  37, 114,  91,  15,  30,  20, 128,  52,  70,\n",
       "        53,  43,   9,  33,   1,  24,  65, 104,  34,  64, 132,  88,  35,\n",
       "        68,  80, 124,  69, 116,  40, 134])"
      ]
     },
     "execution_count": 6,
     "metadata": {},
     "output_type": "execute_result"
    }
   ],
   "source": [
    "indexes = np.random.permutation(len(y))\n",
    "indexes"
   ]
  },
  {
   "cell_type": "code",
   "execution_count": 7,
   "metadata": {},
   "outputs": [
    {
     "data": {
      "text/plain": [
       "30"
      ]
     },
     "execution_count": 7,
     "metadata": {},
     "output_type": "execute_result"
    }
   ],
   "source": [
    "test_size = 0.2\n",
    "index = int(test_size * len(y))\n",
    "index"
   ]
  },
  {
   "cell_type": "code",
   "execution_count": 12,
   "metadata": {},
   "outputs": [],
   "source": [
    "test_indexes = indexes[:index]\n",
    "train_indexes = indexes[index:]"
   ]
  },
  {
   "cell_type": "code",
   "execution_count": 13,
   "metadata": {},
   "outputs": [],
   "source": [
    "X_train = X[train_indexes]\n",
    "y_train = y[train_indexes]\n",
    "\n",
    "X_test = X[test_indexes]\n",
    "y_test = y[test_indexes]"
   ]
  },
  {
   "cell_type": "code",
   "execution_count": 14,
   "metadata": {},
   "outputs": [
    {
     "data": {
      "text/plain": [
       "(120, 4)"
      ]
     },
     "execution_count": 14,
     "metadata": {},
     "output_type": "execute_result"
    }
   ],
   "source": [
    "X_train.shape"
   ]
  }
 ],
 "metadata": {
  "kernelspec": {
   "display_name": "Python3.6",
   "language": "python",
   "name": "py36"
  },
  "language_info": {
   "codemirror_mode": {
    "name": "ipython",
    "version": 3
   },
   "file_extension": ".py",
   "mimetype": "text/x-python",
   "name": "python",
   "nbconvert_exporter": "python",
   "pygments_lexer": "ipython3",
   "version": "3.6.2"
  }
 },
 "nbformat": 4,
 "nbformat_minor": 2
}
